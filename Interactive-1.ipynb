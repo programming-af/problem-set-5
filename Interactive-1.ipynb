{
 "cells": [
  {
   "cell_type": "markdown",
   "metadata": {},
   "source": [
    "Connected to base (Python 3.11.9)"
   ]
  },
  {
   "cell_type": "code",
   "execution_count": null,
   "id": "5a6b6ad8-6db2-4e26-82b5-1a9a76a8e5f6",
   "metadata": {},
   "outputs": [],
   "source": [
    "### SETUP \n",
    "import pandas as pd\n",
    "import altair as alt\n",
    "import time\n",
    "import os\n",
    "import warnings\n",
    "import geopandas as gpd\n",
    "import numpy as np\n",
    "import matplotlib.pyplot as plt\n",
    "warnings.filterwarnings('ignore')\n",
    "import requests\n",
    "from bs4 import BeautifulSoup"
   ]
  },
  {
   "cell_type": "code",
   "execution_count": null,
   "id": "c60a47bf-f3c1-4f42-8e15-590c809aeb65",
   "metadata": {},
   "outputs": [],
   "source": [
    "### making soup\n",
    "url1 = 'https://oig.hhs.gov/fraud/enforcement'\n",
    "response1 = requests.get(url1)\n",
    "soup1 = BeautifulSoup(response1.content, 'lxml')"
   ]
  },
  {
   "cell_type": "code",
   "execution_count": null,
   "id": "4ec8a967-2135-43c4-87ad-4ce605eb6f43",
   "metadata": {},
   "outputs": [],
   "source": [
    "### find title of enforcements\n",
    "li_blocks = soup1.find_all('h2') #h2 classes with nested 'a' titles. li_blocks[2:21] are the 20 ones\n",
    "li_titles = []\n",
    "for h2 in li_blocks:\n",
    "    # Find all 'a' tags within each 'h2' element\n",
    "    for a_tag in h2.find_all('a'):\n",
    "        li_titles.append(a_tag)\n",
    "li_titles[0:5]\n",
    "df_title = pd.DataFrame(li_titles) # dataframe with titles\n",
    "df_title.columns = ['title']"
   ]
  },
  {
   "cell_type": "code",
   "execution_count": null,
   "id": "847b0a26-fe0c-4f1b-baa7-7daf1422c946",
   "metadata": {},
   "outputs": [],
   "source": [
    "### find date\n",
    "span_blocks = soup1.find_all('span', attrs={'class': 'text-base-dark padding-right-105'})\n",
    "span_blocks[0:5]\n",
    "df_date = pd.DataFrame(span_blocks) \n",
    "df_date.columns = ['date']\n",
    "#asked chat gpt 'how to i search for 'span' class with attribute xxx'"
   ]
  },
  {
   "cell_type": "code",
   "execution_count": null,
   "id": "95bb1f3b-e740-4da1-aeae-f772898a6df1",
   "metadata": {},
   "outputs": [],
   "source": [
    "### find category\n",
    "li_blocks_dt = soup1.find_all('li', attrs={'class': 'display-inline-block usa-tag text-no-lowercase text-base-darkest bg-base-lightest margin-right-1'})\n",
    "li_blocks[0:5]\n",
    "df_category = pd.DataFrame(li_blocks_dt)\n",
    "df_category.columns = ['category']"
   ]
  },
  {
   "cell_type": "code",
   "execution_count": null,
   "id": "bebe500c-6c22-4904-a775-c6d98a8e0bde",
   "metadata": {},
   "outputs": [],
   "source": [
    "### find link\n",
    "#use the list of titles from p1 and extract href\n",
    "link_blocks = [link.get('href') for link in li_titles]\n",
    "df_link = pd.DataFrame(link_blocks)\n",
    "df_link.columns = ['link']\n",
    "df_link['link'] = \"https://oig.hhs.gov\" + df_link['link']"
   ]
  },
  {
   "cell_type": "code",
   "execution_count": null,
   "id": "3c87e2bf-0a1b-4e3d-b111-d88f9459151b",
   "metadata": {},
   "outputs": [
    {
     "data": {
      "text/html": [
       "<div>\n",
       "<style scoped>\n",
       "    .dataframe tbody tr th:only-of-type {\n",
       "        vertical-align: middle;\n",
       "    }\n",
       "\n",
       "    .dataframe tbody tr th {\n",
       "        vertical-align: top;\n",
       "    }\n",
       "\n",
       "    .dataframe thead th {\n",
       "        text-align: right;\n",
       "    }\n",
       "</style>\n",
       "<table border=\"1\" class=\"dataframe\">\n",
       "  <thead>\n",
       "    <tr style=\"text-align: right;\">\n",
       "      <th></th>\n",
       "      <th>title</th>\n",
       "      <th>date</th>\n",
       "      <th>category</th>\n",
       "      <th>link</th>\n",
       "    </tr>\n",
       "  </thead>\n",
       "  <tbody>\n",
       "    <tr>\n",
       "      <th>0</th>\n",
       "      <td>Boise Nurse Practitioner Sentenced To 48 Month...</td>\n",
       "      <td>November 7, 2024</td>\n",
       "      <td>Criminal and Civil Actions</td>\n",
       "      <td>https://oig.hhs.gov/fraud/enforcement/boise-nu...</td>\n",
       "    </tr>\n",
       "    <tr>\n",
       "      <th>1</th>\n",
       "      <td>Former Traveling Nurse Pleads Guilty To Tamper...</td>\n",
       "      <td>November 7, 2024</td>\n",
       "      <td>Criminal and Civil Actions</td>\n",
       "      <td>https://oig.hhs.gov/fraud/enforcement/former-t...</td>\n",
       "    </tr>\n",
       "    <tr>\n",
       "      <th>2</th>\n",
       "      <td>Former Arlington Resident Sentenced To Prison ...</td>\n",
       "      <td>November 7, 2024</td>\n",
       "      <td>Criminal and Civil Actions</td>\n",
       "      <td>https://oig.hhs.gov/fraud/enforcement/former-a...</td>\n",
       "    </tr>\n",
       "    <tr>\n",
       "      <th>3</th>\n",
       "      <td>Paroled Felon Sentenced To Six Years For Fraud...</td>\n",
       "      <td>November 7, 2024</td>\n",
       "      <td>Criminal and Civil Actions</td>\n",
       "      <td>https://oig.hhs.gov/fraud/enforcement/paroled-...</td>\n",
       "    </tr>\n",
       "    <tr>\n",
       "      <th>4</th>\n",
       "      <td>Former Licensed Counselor Sentenced For Defrau...</td>\n",
       "      <td>November 6, 2024</td>\n",
       "      <td>Criminal and Civil Actions</td>\n",
       "      <td>https://oig.hhs.gov/fraud/enforcement/former-l...</td>\n",
       "    </tr>\n",
       "  </tbody>\n",
       "</table>\n",
       "</div>"
      ],
      "text/plain": [
       "                                               title              date  \\\n",
       "0  Boise Nurse Practitioner Sentenced To 48 Month...  November 7, 2024   \n",
       "1  Former Traveling Nurse Pleads Guilty To Tamper...  November 7, 2024   \n",
       "2  Former Arlington Resident Sentenced To Prison ...  November 7, 2024   \n",
       "3  Paroled Felon Sentenced To Six Years For Fraud...  November 7, 2024   \n",
       "4  Former Licensed Counselor Sentenced For Defrau...  November 6, 2024   \n",
       "\n",
       "                     category  \\\n",
       "0  Criminal and Civil Actions   \n",
       "1  Criminal and Civil Actions   \n",
       "2  Criminal and Civil Actions   \n",
       "3  Criminal and Civil Actions   \n",
       "4  Criminal and Civil Actions   \n",
       "\n",
       "                                                link  \n",
       "0  https://oig.hhs.gov/fraud/enforcement/boise-nu...  \n",
       "1  https://oig.hhs.gov/fraud/enforcement/former-t...  \n",
       "2  https://oig.hhs.gov/fraud/enforcement/former-a...  \n",
       "3  https://oig.hhs.gov/fraud/enforcement/paroled-...  \n",
       "4  https://oig.hhs.gov/fraud/enforcement/former-l...  "
      ]
     },
     "execution_count": 7,
     "metadata": {},
     "output_type": "execute_result"
    }
   ],
   "source": [
    "### combine dataframes\n",
    "df_Q1 = pd.concat([df_title, df_date, df_category, df_link], axis=1)\n",
    "df_Q1.head()"
   ]
  },
  {
   "cell_type": "code",
   "execution_count": null,
   "id": "04038f4a-9403-4f39-babf-4fecd3f9b723",
   "metadata": {},
   "outputs": [
    {
     "ename": "IndentationError",
     "evalue": "unexpected indent (<ipython-input-8-3746ae3cc8f7>, line 9)",
     "output_type": "error",
     "traceback": [
      "\u001b[0;36m  Cell \u001b[0;32mIn[8], line 9\u001b[0;36m\u001b[0m\n\u001b[0;31m    params = {\u001b[0m\n\u001b[0m    ^\u001b[0m\n\u001b[0;31mIndentationError\u001b[0m\u001b[0;31m:\u001b[0m unexpected indent\n"
     ]
    }
   ],
   "source": [
    "import time\n",
    "\n",
    "def enforcement_scrapper(start_month, start_year):\n",
    "  if start_year < 2013:\n",
    "    Print('please input date later than 2013')\n",
    "    return\n",
    "\n",
    "  base_url = 'https://oig.hhs.gov/fraud/enforcement'\n",
    "    params = {\n",
    "        'searchby': 'monthyear',\n",
    "        'month': start_month,\n",
    "        'year': start_year,\n",
    "    }\n",
    "    current_date = datetime.now()\n",
    "    current_page = 1\n",
    "    results = []\n",
    "\n",
    "    while True:\n",
    "      response = requests.get(base_url, params=params)\n",
    "      soup = BeautifulSoup(response.content, 'lxml')\n",
    "      titles = []\n",
    "      links = []\n",
    "      for h2 in soup.find_all('h2'):\n",
    "        a_tag = h2.find('a')\n",
    "        if a_tag:\n",
    "          titles.append(a_tag.get_text(strip =True))\n",
    "          links.append(\"https://oig.hhs.gov\" + a_tag['href'])\n",
    "      #dates    \n",
    "      dates = [span.get_text(strip = True)for span in soup.find_all('span', class_='text-base-dark padding-right-105')] \n",
    "      #Categories\n",
    "      categories = [li.get_text(strip=True) for li in soup.find_all('li', class_='display-inline-block usa-tag text-no-lowercase text-base-darkest bg-base-lightest margin-right-1')]\n",
    "      if not titles:\n",
    "        break"
   ]
  },
  {
   "cell_type": "code",
   "execution_count": null,
   "id": "0562f84a-ebf6-48e4-aa6b-4f37dcea14c3",
   "metadata": {},
   "outputs": [
    {
     "ename": "IndentationError",
     "evalue": "unexpected indent (<ipython-input-9-fb8be2992779>, line 18)",
     "output_type": "error",
     "traceback": [
      "\u001b[0;36m  Cell \u001b[0;32mIn[9], line 18\u001b[0;36m\u001b[0m\n\u001b[0;31m    while True:\u001b[0m\n\u001b[0m    ^\u001b[0m\n\u001b[0;31mIndentationError\u001b[0m\u001b[0;31m:\u001b[0m unexpected indent\n"
     ]
    }
   ],
   "source": [
    "import time\n",
    "\n",
    "def enforcement_scrapper(start_month, start_year):\n",
    "  if start_year < 2013:\n",
    "    Print('please input date later than 2013')\n",
    "    return\n",
    "\n",
    "  base_url = 'https://oig.hhs.gov/fraud/enforcement'\n",
    "  params = {\n",
    "        'searchby': 'monthyear',\n",
    "        'month': start_month,\n",
    "        'year': start_year,\n",
    "    }\n",
    "  current_date = datetime.now()\n",
    "  current_page = 1\n",
    "  results = []\n",
    "\n",
    "    while True:\n",
    "      response = requests.get(base_url, params=params)\n",
    "      soup = BeautifulSoup(response.content, 'lxml')\n",
    "      titles = []\n",
    "      links = []\n",
    "      for h2 in soup.find_all('h2'):\n",
    "        a_tag = h2.find('a')\n",
    "        if a_tag:\n",
    "          titles.append(a_tag.get_text(strip =True))\n",
    "          links.append(\"https://oig.hhs.gov\" + a_tag['href'])\n",
    "      #dates    \n",
    "      dates = [span.get_text(strip = True)for span in soup.find_all('span', class_='text-base-dark padding-right-105')] \n",
    "      #Categories\n",
    "      categories = [li.get_text(strip=True) for li in soup.find_all('li', class_='display-inline-block usa-tag text-no-lowercase text-base-darkest bg-base-lightest margin-right-1')]\n",
    "      if not titles:\n",
    "        break"
   ]
  },
  {
   "cell_type": "code",
   "execution_count": null,
   "id": "8990e30c-2f1d-409d-b692-f829a0403401",
   "metadata": {},
   "outputs": [],
   "source": [
    "import time\n",
    "\n",
    "def enforcement_scrapper(start_month, start_year):\n",
    "  if start_year < 2013:\n",
    "    Print('please input date later than 2013')\n",
    "    return\n",
    "\n",
    "  base_url = 'https://oig.hhs.gov/fraud/enforcement'\n",
    "  params = {\n",
    "        'searchby': 'monthyear',\n",
    "        'month': start_month,\n",
    "        'year': start_year,\n",
    "    }\n",
    "  current_date = datetime.now()\n",
    "  current_page = 1\n",
    "  results = []\n",
    "\n",
    "  while True:\n",
    "      response = requests.get(base_url, params=params)\n",
    "      soup = BeautifulSoup(response.content, 'lxml')\n",
    "      titles = []\n",
    "      links = []\n",
    "      for h2 in soup.find_all('h2'):\n",
    "        a_tag = h2.find('a')\n",
    "        if a_tag:\n",
    "          titles.append(a_tag.get_text(strip =True))\n",
    "          links.append(\"https://oig.hhs.gov\" + a_tag['href'])\n",
    "      #dates    \n",
    "      dates = [span.get_text(strip = True)for span in soup.find_all('span', class_='text-base-dark padding-right-105')] \n",
    "      #Categories\n",
    "      categories = [li.get_text(strip=True) for li in soup.find_all('li', class_='display-inline-block usa-tag text-no-lowercase text-base-darkest bg-base-lightest margin-right-1')]\n",
    "      if not titles:\n",
    "        break"
   ]
  },
  {
   "cell_type": "code",
   "execution_count": null,
   "id": "27fb7a13-ff33-4848-8f86-7cb037a2b031",
   "metadata": {},
   "outputs": [
    {
     "ename": "IndentationError",
     "evalue": "unindent does not match any outer indentation level (<tokenize>, line 44)",
     "output_type": "error",
     "traceback": [
      "\u001b[0;36m  File \u001b[0;32m<tokenize>:44\u001b[0;36m\u001b[0m\n\u001b[0;31m    scrapper = pd.DataFrame(results)\u001b[0m\n\u001b[0m    ^\u001b[0m\n\u001b[0;31mIndentationError\u001b[0m\u001b[0;31m:\u001b[0m unindent does not match any outer indentation level\n"
     ]
    }
   ],
   "source": [
    "import time\n",
    "\n",
    "def enforcement_scrapper(start_month, start_year):\n",
    "  if start_year < 2013:\n",
    "    Print('please input date later than 2013')\n",
    "    return\n",
    "\n",
    "  base_url = 'https://oig.hhs.gov/fraud/enforcement'\n",
    "  params = {\n",
    "        'searchby': 'monthyear',\n",
    "        'month': start_month,\n",
    "        'year': start_year,\n",
    "    }\n",
    "  current_date = datetime.now()\n",
    "  current_page = 1\n",
    "  results = []\n",
    "\n",
    "  while True:\n",
    "      response = requests.get(base_url, params=params)\n",
    "      soup = BeautifulSoup(response.content, 'lxml')\n",
    "      titles = []\n",
    "      links = []\n",
    "      for h2 in soup.find_all('h2'):\n",
    "        a_tag = h2.find('a')\n",
    "        if a_tag:\n",
    "          titles.append(a_tag.get_text(strip =True))\n",
    "          links.append(\"https://oig.hhs.gov\" + a_tag['href'])\n",
    "      #dates    \n",
    "      dates = [span.get_text(strip = True)for span in soup.find_all('span', class_='text-base-dark padding-right-105')] \n",
    "      #Categories\n",
    "      categories = [li.get_text(strip=True) for li in soup.find_all('li', class_='display-inline-block usa-tag text-no-lowercase text-base-darkest bg-base-lightest margin-right-1')]\n",
    "      if not titles:\n",
    "        break\n",
    "      for title, date, category, link in zip(titles, dates, categories, links):\n",
    "        results.append({'Title': title, 'Date': date, 'Category': category, 'Link': link})\n",
    "      \n",
    "      next_page = soup.find('a', text = 'Next')\n",
    "      if next page:\n",
    "        current_page += 1\n",
    "      else:\n",
    "        break\n",
    "\n",
    "      time.sleep(1)\n",
    "    scrapper = pd.DataFrame(results)\n",
    "    \n",
    "    df['Date'] = pd.to_datetime(df['Date'])\n",
    "    start_date = datetime(start_year, start_month, 1)\n",
    "    df = df[df['Date'] >= start_date]"
   ]
  },
  {
   "cell_type": "code",
   "execution_count": null,
   "id": "eac82ea1-3d73-44ff-a0b6-de4aec36ee67",
   "metadata": {},
   "outputs": [
    {
     "ename": "SyntaxError",
     "evalue": "invalid syntax (<ipython-input-13-216d5b2bc749>, line 38)",
     "output_type": "error",
     "traceback": [
      "\u001b[0;36m  Cell \u001b[0;32mIn[13], line 38\u001b[0;36m\u001b[0m\n\u001b[0;31m    if next page:\u001b[0m\n\u001b[0m            ^\u001b[0m\n\u001b[0;31mSyntaxError\u001b[0m\u001b[0;31m:\u001b[0m invalid syntax\n"
     ]
    }
   ],
   "source": [
    "import time\n",
    "\n",
    "def enforcement_scrapper(start_month, start_year):\n",
    "  if start_year < 2013:\n",
    "    Print('please input date later than 2013')\n",
    "    return\n",
    "\n",
    "  base_url = 'https://oig.hhs.gov/fraud/enforcement'\n",
    "  params = {\n",
    "        'searchby': 'monthyear',\n",
    "        'month': start_month,\n",
    "        'year': start_year,\n",
    "    }\n",
    "  current_date = datetime.now()\n",
    "  current_page = 1\n",
    "  results = []\n",
    "\n",
    "  while True:\n",
    "      response = requests.get(base_url, params=params)\n",
    "      soup = BeautifulSoup(response.content, 'lxml')\n",
    "      titles = []\n",
    "      links = []\n",
    "      for h2 in soup.find_all('h2'):\n",
    "        a_tag = h2.find('a')\n",
    "        if a_tag:\n",
    "          titles.append(a_tag.get_text(strip =True))\n",
    "          links.append(\"https://oig.hhs.gov\" + a_tag['href'])\n",
    "      #dates    \n",
    "      dates = [span.get_text(strip = True)for span in soup.find_all('span', class_='text-base-dark padding-right-105')] \n",
    "      #Categories\n",
    "      categories = [li.get_text(strip=True) for li in soup.find_all('li', class_='display-inline-block usa-tag text-no-lowercase text-base-darkest bg-base-lightest margin-right-1')]\n",
    "      if not titles:\n",
    "        break\n",
    "      for title, date, category, link in zip(titles, dates, categories, links):\n",
    "        results.append({'Title': title, 'Date': date, 'Category': category, 'Link': link})\n",
    "      \n",
    "      next_page = soup.find('a', text = 'Next')\n",
    "      if next page:\n",
    "        current_page += 1\n",
    "      else:\n",
    "        break\n",
    "\n",
    "      time.sleep(1)\n",
    "  scrapper = pd.DataFrame(results)\n",
    "\n",
    "    df['Date'] = pd.to_datetime(df['Date'])\n",
    "    start_date = datetime(start_year, start_month, 1)\n",
    "    df = df[df['Date'] >= start_date]"
   ]
  },
  {
   "cell_type": "code",
   "execution_count": null,
   "id": "e71508ba-41fa-4808-b70e-0433e3f549d9",
   "metadata": {},
   "outputs": [
    {
     "ename": "SyntaxError",
     "evalue": "invalid syntax (<ipython-input-14-eb1958930e86>, line 38)",
     "output_type": "error",
     "traceback": [
      "\u001b[0;36m  Cell \u001b[0;32mIn[14], line 38\u001b[0;36m\u001b[0m\n\u001b[0;31m    if next page:\u001b[0m\n\u001b[0m            ^\u001b[0m\n\u001b[0;31mSyntaxError\u001b[0m\u001b[0;31m:\u001b[0m invalid syntax\n"
     ]
    }
   ],
   "source": [
    "import time\n",
    "\n",
    "def enforcement_scrapper(start_month, start_year):\n",
    "  if start_year < 2013:\n",
    "    Print('please input date later than 2013')\n",
    "    return\n",
    "\n",
    "  base_url = 'https://oig.hhs.gov/fraud/enforcement'\n",
    "  params = {\n",
    "        'searchby': 'monthyear',\n",
    "        'month': start_month,\n",
    "        'year': start_year,\n",
    "    }\n",
    "  current_date = datetime.now()\n",
    "  current_page = 1\n",
    "  results = []\n",
    "\n",
    "  while True:\n",
    "      response = requests.get(base_url, params=params)\n",
    "      soup = BeautifulSoup(response.content, 'lxml')\n",
    "      titles = []\n",
    "      links = []\n",
    "      for h2 in soup.find_all('h2'):\n",
    "        a_tag = h2.find('a')\n",
    "        if a_tag:\n",
    "          titles.append(a_tag.get_text(strip =True))\n",
    "          links.append(\"https://oig.hhs.gov\" + a_tag['href'])\n",
    "      #dates    \n",
    "      dates = [span.get_text(strip = True)for span in soup.find_all('span', class_='text-base-dark padding-right-105')] \n",
    "      #Categories\n",
    "      categories = [li.get_text(strip=True) for li in soup.find_all('li', class_='display-inline-block usa-tag text-no-lowercase text-base-darkest bg-base-lightest margin-right-1')]\n",
    "      if not titles:\n",
    "        break\n",
    "      for title, date, category, link in zip(titles, dates, categories, links):\n",
    "        results.append({'Title': title, 'Date': date, 'Category': category, 'Link': link})\n",
    "      \n",
    "      next_page = soup.find('a', text = 'Next')\n",
    "      if next page:\n",
    "        current_page += 1\n",
    "      else:\n",
    "        break\n",
    "\n",
    "      time.sleep(1)\n",
    "\n",
    "  scrapper = pd.DataFrame(results)\n",
    "  df['Date'] = pd.to_datetime(df['Date'])\n",
    "  start_date = datetime(start_year, start_month, 1)\n",
    "  df = df[df['Date'] >= start_date]"
   ]
  },
  {
   "cell_type": "code",
   "execution_count": null,
   "id": "0fe351af-fa7f-4471-93cb-7d8cefafd525",
   "metadata": {},
   "outputs": [
    {
     "ename": "IndentationError",
     "evalue": "unexpected indent (<ipython-input-15-55ea966249dd>, line 18)",
     "output_type": "error",
     "traceback": [
      "\u001b[0;36m  Cell \u001b[0;32mIn[15], line 18\u001b[0;36m\u001b[0m\n\u001b[0;31m    while True:\u001b[0m\n\u001b[0m    ^\u001b[0m\n\u001b[0;31mIndentationError\u001b[0m\u001b[0;31m:\u001b[0m unexpected indent\n"
     ]
    }
   ],
   "source": [
    "import time\n",
    "\n",
    "def enforcement_scrapper(start_month, start_year):\n",
    "  if start_year < 2013:\n",
    "    Print('please input date later than 2013')\n",
    "    return\n",
    "\n",
    "  base_url = 'https://oig.hhs.gov/fraud/enforcement'\n",
    "  params = {\n",
    "        'searchby': 'monthyear',\n",
    "        'month': start_month,\n",
    "        'year': start_year,\n",
    "    }\n",
    "  current_date = datetime.now()\n",
    "  current_page = 1\n",
    "  results = []\n",
    "\n",
    "    while True:\n",
    "        # Construct the URL with pagination\n",
    "        response = requests.get(f\"{base_url}?page={current_page}\", params=params)\n",
    "        soup = BeautifulSoup(response.content, 'lxml')\n",
    "        \n",
    "        # Extract titles and links\n",
    "        titles = []\n",
    "        links = []\n",
    "        for h2 in soup.find_all('h2'):\n",
    "            a_tag = h2.find('a')\n",
    "            if a_tag:\n",
    "                titles.append(a_tag.get_text(strip=True))\n",
    "                links.append(\"https://oig.hhs.gov\" + a_tag['href'])\n",
    "\n",
    "        # Extract dates\n",
    "        dates = [span.get_text(strip=True) for span in soup.find_all('span', class_='text-base-dark padding-right-105')]\n",
    "\n",
    "        # Extract categories\n",
    "        categories = [\n",
    "            li.get_text(strip=True) for li in soup.find_all('li', class_='display-inline-block usa-tag text-no-lowercase text-base-darkest bg-base-lightest margin-right-1')\n",
    "        ]\n",
    "\n",
    "        # Check if data is found; if not, break the loop\n",
    "        if not titles:\n",
    "            break\n",
    "\n",
    "        # Append results to the list\n",
    "        for title, date, category, link in zip(titles, dates, categories, links):\n",
    "            results.append({'Title': title, 'Date': date, 'Category': category, 'Link': link})\n",
    "\n",
    "        # Check for the \"Next\" button\n",
    "        next_page = soup.find('a', text='Next')\n",
    "        if next_page:\n",
    "            current_page += 1\n",
    "        else:\n",
    "            break\n",
    "\n",
    "        # Wait 1 second before the next request\n",
    "        time.sleep(1)\n",
    "\n",
    "    # Convert results to a DataFrame\n",
    "    scrapper = pd.DataFrame(results)\n",
    "  \n",
    "  scrapper['Date'] = pd.to_datetime(scrapper['Date'])\n",
    "  start_date = datetime(start_year, start_month, 1)\n",
    "  scrapper = scrapper[scrapper['Date'] >= start_date]"
   ]
  },
  {
   "cell_type": "code",
   "execution_count": null,
   "id": "1a52fd6e-7b38-481f-bcf8-e7b4f824df77",
   "metadata": {},
   "outputs": [
    {
     "ename": "IndentationError",
     "evalue": "unindent does not match any outer indentation level (<tokenize>, line 54)",
     "output_type": "error",
     "traceback": [
      "\u001b[0;36m  File \u001b[0;32m<tokenize>:54\u001b[0;36m\u001b[0m\n\u001b[0;31m    scrapper['Date'] = pd.to_datetime(scrapper['Date'])\u001b[0m\n\u001b[0m    ^\u001b[0m\n\u001b[0;31mIndentationError\u001b[0m\u001b[0;31m:\u001b[0m unindent does not match any outer indentation level\n"
     ]
    }
   ],
   "source": [
    "import time\n",
    "\n",
    "def enforcement_scrapper(start_month, start_year):\n",
    "    if start_year < 2013:\n",
    "        print(\"Please input a year >= 2013, as enforcement actions before 2013 are unavailable.\")\n",
    "        return\n",
    "\n",
    "    base_url = 'https://oig.hhs.gov/fraud/enforcement'\n",
    "    params = {\n",
    "        'searchby': 'monthyear',\n",
    "        'month': start_month,\n",
    "        'year': start_year,\n",
    "    }\n",
    "    current_page = 1\n",
    "    results = []\n",
    "\n",
    "    while True:\n",
    "        response = requests.get(f\"{base_url}?page={current_page}\", params=params)\n",
    "        soup = BeautifulSoup(response.content, 'lxml')\n",
    "#titles links\n",
    "        titles = []\n",
    "        links = []\n",
    "        for h2 in soup.find_all('h2'):\n",
    "            a_tag = h2.find('a')\n",
    "            if a_tag:\n",
    "                titles.append(a_tag.get_text(strip=True))\n",
    "                links.append(\"https://oig.hhs.gov\" + a_tag['href'])\n",
    "\n",
    "        #get dates\n",
    "        dates = [span.get_text(strip=True) for span in soup.find_all('span', class_='text-base-dark padding-right-105')]\n",
    "\n",
    "        #get categories\n",
    "        categories = [\n",
    "            li.get_text(strip=True) for li in soup.find_all('li', class_='display-inline-block usa-tag text-no-lowercase text-base-darkest bg-base-lightest margin-right-1')\n",
    "        ]\n",
    "        if not titles:\n",
    "            break\n",
    "        for title, date, category, link in zip(titles, dates, categories, links):\n",
    "            results.append({'Title': title, 'Date': date, 'Category': category, 'Link': link})\n",
    "\n",
    "        #check for next button\n",
    "        next_page = soup.find('a', text='Next')\n",
    "        if next_page:\n",
    "            current_page += 1\n",
    "        else:\n",
    "            break\n",
    "\n",
    "        \n",
    "        time.sleep(1)\n",
    "\n",
    "    \n",
    "    scrapper = pd.DataFrame(results)\n",
    "  \n",
    "  scrapper['Date'] = pd.to_datetime(scrapper['Date'])\n",
    "  start_date = datetime(start_year, start_month, 1)\n",
    "  scrapper = scrapper[scrapper['Date'] >= start_date]"
   ]
  },
  {
   "cell_type": "code",
   "execution_count": null,
   "id": "c5e4ffb9-cd3c-40bc-9d2d-6c55b5eb89c9",
   "metadata": {},
   "outputs": [],
   "source": [
    "import time\n",
    "\n",
    "def enforcement_scrapper(start_month, start_year):\n",
    "    if start_year < 2013:\n",
    "        print(\"Please input a year >= 2013, as enforcement actions before 2013 are unavailable.\")\n",
    "        return\n",
    "\n",
    "    base_url = 'https://oig.hhs.gov/fraud/enforcement'\n",
    "    params = {\n",
    "        'searchby': 'monthyear',\n",
    "        'month': start_month,\n",
    "        'year': start_year,\n",
    "    }\n",
    "    current_page = 1\n",
    "    results = []\n",
    "\n",
    "    while True:\n",
    "        response = requests.get(f\"{base_url}?page={current_page}\", params=params)\n",
    "        soup = BeautifulSoup(response.content, 'lxml')\n",
    "#titles links\n",
    "        titles = []\n",
    "        links = []\n",
    "        for h2 in soup.find_all('h2'):\n",
    "            a_tag = h2.find('a')\n",
    "            if a_tag:\n",
    "                titles.append(a_tag.get_text(strip=True))\n",
    "                links.append(\"https://oig.hhs.gov\" + a_tag['href'])\n",
    "\n",
    "        #get dates\n",
    "        dates = [span.get_text(strip=True) for span in soup.find_all('span', class_='text-base-dark padding-right-105')]\n",
    "\n",
    "        #get categories\n",
    "        categories = [\n",
    "            li.get_text(strip=True) for li in soup.find_all('li', class_='display-inline-block usa-tag text-no-lowercase text-base-darkest bg-base-lightest margin-right-1')\n",
    "        ]\n",
    "        if not titles:\n",
    "            break\n",
    "        for title, date, category, link in zip(titles, dates, categories, links):\n",
    "            results.append({'Title': title, 'Date': date, 'Category': category, 'Link': link})\n",
    "\n",
    "        #check for next button\n",
    "        next_page = soup.find('a', text='Next')\n",
    "        if next_page:\n",
    "            current_page += 1\n",
    "        else:\n",
    "            break\n",
    "\n",
    "        \n",
    "        time.sleep(1)\n",
    "\n",
    "    \n",
    "    scrapper = pd.DataFrame(results)\n",
    "    scrapper['Date'] = pd.to_datetime(scrapper['Date'])\n",
    "    start_date = datetime(start_year, start_month, 1)\n",
    "    scrapper = scrapper[scrapper['Date'] >= start_date]"
   ]
  },
  {
   "cell_type": "code",
   "execution_count": null,
   "id": "21391fd7-b7f5-4fc5-b645-366ba105a013",
   "metadata": {},
   "outputs": [
    {
     "ename": "NameError",
     "evalue": "name 'datetime' is not defined",
     "output_type": "error",
     "traceback": [
      "\u001b[0;31m---------------------------------------------------------------------------\u001b[0m",
      "\u001b[0;31mNameError\u001b[0m                                 Traceback (most recent call last)",
      "Cell \u001b[0;32mIn[19], line 57\u001b[0m\n\u001b[1;32m     54\u001b[0m     start_date \u001b[39m=\u001b[39m datetime(start_year, start_month, \u001b[39m1\u001b[39m)\n\u001b[1;32m     55\u001b[0m     scrapper \u001b[39m=\u001b[39m scrapper[scrapper[\u001b[39m'\u001b[39m\u001b[39mDate\u001b[39m\u001b[39m'\u001b[39m] \u001b[39m>\u001b[39m\u001b[39m=\u001b[39m start_date]\n\u001b[0;32m---> 57\u001b[0m enforcement_scrapper(\u001b[39m1\u001b[39;49m, \u001b[39m2023\u001b[39;49m)  \n",
      "Cell \u001b[0;32mIn[19], line 54\u001b[0m, in \u001b[0;36menforcement_scrapper\u001b[0;34m(start_month, start_year)\u001b[0m\n\u001b[1;32m     52\u001b[0m scrapper \u001b[39m=\u001b[39m pd\u001b[39m.\u001b[39mDataFrame(results)\n\u001b[1;32m     53\u001b[0m scrapper[\u001b[39m'\u001b[39m\u001b[39mDate\u001b[39m\u001b[39m'\u001b[39m] \u001b[39m=\u001b[39m pd\u001b[39m.\u001b[39mto_datetime(scrapper[\u001b[39m'\u001b[39m\u001b[39mDate\u001b[39m\u001b[39m'\u001b[39m])\n\u001b[0;32m---> 54\u001b[0m start_date \u001b[39m=\u001b[39m datetime(start_year, start_month, \u001b[39m1\u001b[39m)\n\u001b[1;32m     55\u001b[0m scrapper \u001b[39m=\u001b[39m scrapper[scrapper[\u001b[39m'\u001b[39m\u001b[39mDate\u001b[39m\u001b[39m'\u001b[39m] \u001b[39m>\u001b[39m\u001b[39m=\u001b[39m start_date]\n",
      "\u001b[0;31mNameError\u001b[0m: name 'datetime' is not defined"
     ]
    }
   ],
   "source": [
    "import time\n",
    "\n",
    "def enforcement_scrapper(start_month, start_year):\n",
    "    if start_year < 2013:\n",
    "        print(\"Please input a year >= 2013, as enforcement actions before 2013 are unavailable.\")\n",
    "        return\n",
    "\n",
    "    base_url = 'https://oig.hhs.gov/fraud/enforcement'\n",
    "    params = {\n",
    "        'searchby': 'monthyear',\n",
    "        'month': start_month,\n",
    "        'year': start_year,\n",
    "    }\n",
    "    current_page = 1\n",
    "    results = []\n",
    "\n",
    "    while True:\n",
    "        response = requests.get(f\"{base_url}?page={current_page}\", params=params)\n",
    "        soup = BeautifulSoup(response.content, 'lxml')\n",
    "#titles links\n",
    "        titles = []\n",
    "        links = []\n",
    "        for h2 in soup.find_all('h2'):\n",
    "            a_tag = h2.find('a')\n",
    "            if a_tag:\n",
    "                titles.append(a_tag.get_text(strip=True))\n",
    "                links.append(\"https://oig.hhs.gov\" + a_tag['href'])\n",
    "\n",
    "        #get dates\n",
    "        dates = [span.get_text(strip=True) for span in soup.find_all('span', class_='text-base-dark padding-right-105')]\n",
    "\n",
    "        #get categories\n",
    "        categories = [\n",
    "            li.get_text(strip=True) for li in soup.find_all('li', class_='display-inline-block usa-tag text-no-lowercase text-base-darkest bg-base-lightest margin-right-1')\n",
    "        ]\n",
    "        if not titles:\n",
    "            break\n",
    "        for title, date, category, link in zip(titles, dates, categories, links):\n",
    "            results.append({'Title': title, 'Date': date, 'Category': category, 'Link': link})\n",
    "\n",
    "        #check for next button\n",
    "        next_page = soup.find('a', text='Next')\n",
    "        if next_page:\n",
    "            current_page += 1\n",
    "        else:\n",
    "            break\n",
    "\n",
    "        \n",
    "        time.sleep(1)\n",
    "\n",
    "    \n",
    "    scrapper = pd.DataFrame(results)\n",
    "    scrapper['Date'] = pd.to_datetime(scrapper['Date'])\n",
    "    start_date = datetime(start_year, start_month, 1)\n",
    "    scrapper = scrapper[scrapper['Date'] >= start_date]\n",
    "\n",
    "enforcement_scrapper(1, 2023)  "
   ]
  },
  {
   "cell_type": "code",
   "execution_count": null,
   "id": "fdeaf0ca-8473-407a-815f-5b341c9cb667",
   "metadata": {},
   "outputs": [],
   "source": [
    "import time\n",
    "from datetime import datetime\n",
    "\n",
    "def enforcement_scrapper(start_month, start_year):\n",
    "    if start_year < 2013:\n",
    "        print(\"Please input a year >= 2013, as enforcement actions before 2013 are unavailable.\")\n",
    "        return\n",
    "\n",
    "    base_url = 'https://oig.hhs.gov/fraud/enforcement'\n",
    "    params = {\n",
    "        'searchby': 'monthyear',\n",
    "        'month': start_month,\n",
    "        'year': start_year,\n",
    "    }\n",
    "    current_page = 1\n",
    "    results = []\n",
    "\n",
    "    while True:\n",
    "        response = requests.get(f\"{base_url}?page={current_page}\", params=params)\n",
    "        soup = BeautifulSoup(response.content, 'lxml')\n",
    "#titles links\n",
    "        titles = []\n",
    "        links = []\n",
    "        for h2 in soup.find_all('h2'):\n",
    "            a_tag = h2.find('a')\n",
    "            if a_tag:\n",
    "                titles.append(a_tag.get_text(strip=True))\n",
    "                links.append(\"https://oig.hhs.gov\" + a_tag['href'])\n",
    "\n",
    "        #get dates\n",
    "        dates = [span.get_text(strip=True) for span in soup.find_all('span', class_='text-base-dark padding-right-105')]\n",
    "\n",
    "        #get categories\n",
    "        categories = [\n",
    "            li.get_text(strip=True) for li in soup.find_all('li', class_='display-inline-block usa-tag text-no-lowercase text-base-darkest bg-base-lightest margin-right-1')\n",
    "        ]\n",
    "        if not titles:\n",
    "            break\n",
    "        for title, date, category, link in zip(titles, dates, categories, links):\n",
    "            results.append({'Title': title, 'Date': date, 'Category': category, 'Link': link})\n",
    "\n",
    "        #check for next button\n",
    "        next_page = soup.find('a', text='Next')\n",
    "        if next_page:\n",
    "            current_page += 1\n",
    "        else:\n",
    "            break\n",
    "\n",
    "        \n",
    "        time.sleep(1)\n",
    "\n",
    "    \n",
    "    scrapper = pd.DataFrame(results)\n",
    "    scrapper['Date'] = pd.to_datetime(scrapper['Date'])\n",
    "    start_date = datetime(start_year, start_month, 1)\n",
    "    scrapper = scrapper[scrapper['Date'] >= start_date]\n",
    "\n",
    "enforcement_scrapper(1, 2023)  "
   ]
  },
  {
   "cell_type": "code",
   "execution_count": null,
   "id": "5e13cefe-dca3-49d2-ac20-6bc65e395546",
   "metadata": {},
   "outputs": [
    {
     "ename": "AttributeError",
     "evalue": "'NoneType' object has no attribute 'head'",
     "output_type": "error",
     "traceback": [
      "\u001b[0;31m---------------------------------------------------------------------------\u001b[0m",
      "\u001b[0;31mAttributeError\u001b[0m                            Traceback (most recent call last)",
      "Cell \u001b[0;32mIn[21], line 60\u001b[0m\n\u001b[1;32m     56\u001b[0m     scrapper \u001b[39m=\u001b[39m scrapper[scrapper[\u001b[39m'\u001b[39m\u001b[39mDate\u001b[39m\u001b[39m'\u001b[39m] \u001b[39m>\u001b[39m\u001b[39m=\u001b[39m start_date]\n\u001b[1;32m     58\u001b[0m twenty_three\u001b[39m=\u001b[39m enforcement_scrapper(\u001b[39m1\u001b[39m, \u001b[39m2023\u001b[39m)  \n\u001b[0;32m---> 60\u001b[0m twenty_three\u001b[39m.\u001b[39;49mhead\n",
      "\u001b[0;31mAttributeError\u001b[0m: 'NoneType' object has no attribute 'head'"
     ]
    }
   ],
   "source": [
    "import time\n",
    "from datetime import datetime\n",
    "\n",
    "def enforcement_scrapper(start_month, start_year):\n",
    "    if start_year < 2013:\n",
    "        print(\"Please input a year >= 2013, as enforcement actions before 2013 are unavailable.\")\n",
    "        return\n",
    "\n",
    "    base_url = 'https://oig.hhs.gov/fraud/enforcement'\n",
    "    params = {\n",
    "        'searchby': 'monthyear',\n",
    "        'month': start_month,\n",
    "        'year': start_year,\n",
    "    }\n",
    "    current_page = 1\n",
    "    results = []\n",
    "\n",
    "    while True:\n",
    "        response = requests.get(f\"{base_url}?page={current_page}\", params=params)\n",
    "        soup = BeautifulSoup(response.content, 'lxml')\n",
    "#titles links\n",
    "        titles = []\n",
    "        links = []\n",
    "        for h2 in soup.find_all('h2'):\n",
    "            a_tag = h2.find('a')\n",
    "            if a_tag:\n",
    "                titles.append(a_tag.get_text(strip=True))\n",
    "                links.append(\"https://oig.hhs.gov\" + a_tag['href'])\n",
    "\n",
    "        #get dates\n",
    "        dates = [span.get_text(strip=True) for span in soup.find_all('span', class_='text-base-dark padding-right-105')]\n",
    "\n",
    "        #get categories\n",
    "        categories = [\n",
    "            li.get_text(strip=True) for li in soup.find_all('li', class_='display-inline-block usa-tag text-no-lowercase text-base-darkest bg-base-lightest margin-right-1')\n",
    "        ]\n",
    "        if not titles:\n",
    "            break\n",
    "        for title, date, category, link in zip(titles, dates, categories, links):\n",
    "            results.append({'Title': title, 'Date': date, 'Category': category, 'Link': link})\n",
    "\n",
    "        #check for next button\n",
    "        next_page = soup.find('a', text='Next')\n",
    "        if next_page:\n",
    "            current_page += 1\n",
    "        else:\n",
    "            break\n",
    "\n",
    "        \n",
    "        time.sleep(1)\n",
    "\n",
    "    \n",
    "    scrapper = pd.DataFrame(results)\n",
    "    scrapper['Date'] = pd.to_datetime(scrapper['Date'])\n",
    "    start_date = datetime(start_year, start_month, 1)\n",
    "    scrapper = scrapper[scrapper['Date'] >= start_date]\n",
    "\n",
    "twenty_three= enforcement_scrapper(1, 2023)  \n",
    "\n",
    "twenty_three.head"
   ]
  },
  {
   "cell_type": "code",
   "execution_count": null,
   "id": "006dff97-87f6-4aeb-89a7-39d4f70d244c",
   "metadata": {},
   "outputs": [
    {
     "ename": "AttributeError",
     "evalue": "'NoneType' object has no attribute 'head'",
     "output_type": "error",
     "traceback": [
      "\u001b[0;31m---------------------------------------------------------------------------\u001b[0m",
      "\u001b[0;31mAttributeError\u001b[0m                            Traceback (most recent call last)",
      "Cell \u001b[0;32mIn[22], line 60\u001b[0m\n\u001b[1;32m     56\u001b[0m     scrapper \u001b[39m=\u001b[39m scrapper[scrapper[\u001b[39m'\u001b[39m\u001b[39mDate\u001b[39m\u001b[39m'\u001b[39m] \u001b[39m>\u001b[39m\u001b[39m=\u001b[39m start_date]\n\u001b[1;32m     58\u001b[0m twenty_three\u001b[39m=\u001b[39m enforcement_scrapper(\u001b[39m1\u001b[39m, \u001b[39m2023\u001b[39m)  \n\u001b[0;32m---> 60\u001b[0m twenty_three\u001b[39m.\u001b[39;49mhead()\n",
      "\u001b[0;31mAttributeError\u001b[0m: 'NoneType' object has no attribute 'head'"
     ]
    }
   ],
   "source": [
    "import time\n",
    "from datetime import datetime\n",
    "\n",
    "def enforcement_scrapper(start_month, start_year):\n",
    "    if start_year < 2013:\n",
    "        print(\"Please input a year >= 2013, as enforcement actions before 2013 are unavailable.\")\n",
    "        return\n",
    "\n",
    "    base_url = 'https://oig.hhs.gov/fraud/enforcement'\n",
    "    params = {\n",
    "        'searchby': 'monthyear',\n",
    "        'month': start_month,\n",
    "        'year': start_year,\n",
    "    }\n",
    "    current_page = 1\n",
    "    results = []\n",
    "\n",
    "    while True:\n",
    "        response = requests.get(f\"{base_url}?page={current_page}\", params=params)\n",
    "        soup = BeautifulSoup(response.content, 'lxml')\n",
    "#titles links\n",
    "        titles = []\n",
    "        links = []\n",
    "        for h2 in soup.find_all('h2'):\n",
    "            a_tag = h2.find('a')\n",
    "            if a_tag:\n",
    "                titles.append(a_tag.get_text(strip=True))\n",
    "                links.append(\"https://oig.hhs.gov\" + a_tag['href'])\n",
    "\n",
    "        #get dates\n",
    "        dates = [span.get_text(strip=True) for span in soup.find_all('span', class_='text-base-dark padding-right-105')]\n",
    "\n",
    "        #get categories\n",
    "        categories = [\n",
    "            li.get_text(strip=True) for li in soup.find_all('li', class_='display-inline-block usa-tag text-no-lowercase text-base-darkest bg-base-lightest margin-right-1')\n",
    "        ]\n",
    "        if not titles:\n",
    "            break\n",
    "        for title, date, category, link in zip(titles, dates, categories, links):\n",
    "            results.append({'Title': title, 'Date': date, 'Category': category, 'Link': link})\n",
    "\n",
    "        #check for next button\n",
    "        next_page = soup.find('a', text='Next')\n",
    "        if next_page:\n",
    "            current_page += 1\n",
    "        else:\n",
    "            break\n",
    "\n",
    "        \n",
    "        time.sleep(1)\n",
    "\n",
    "    \n",
    "    scrapper = pd.DataFrame(results)\n",
    "    scrapper['Date'] = pd.to_datetime(scrapper['Date'])\n",
    "    start_date = datetime(start_year, start_month, 1)\n",
    "    scrapper = scrapper[scrapper['Date'] >= start_date]\n",
    "\n",
    "twenty_three= enforcement_scrapper(1, 2023)  \n",
    "\n",
    "twenty_three.head()"
   ]
  },
  {
   "cell_type": "code",
   "execution_count": null,
   "id": "5f65eaad-1ff2-4543-add6-e9ae29d9578d",
   "metadata": {},
   "outputs": [
    {
     "data": {
      "text/html": [
       "<div>\n",
       "<style scoped>\n",
       "    .dataframe tbody tr th:only-of-type {\n",
       "        vertical-align: middle;\n",
       "    }\n",
       "\n",
       "    .dataframe tbody tr th {\n",
       "        vertical-align: top;\n",
       "    }\n",
       "\n",
       "    .dataframe thead th {\n",
       "        text-align: right;\n",
       "    }\n",
       "</style>\n",
       "<table border=\"1\" class=\"dataframe\">\n",
       "  <thead>\n",
       "    <tr style=\"text-align: right;\">\n",
       "      <th></th>\n",
       "      <th>Title</th>\n",
       "      <th>Date</th>\n",
       "      <th>Category</th>\n",
       "      <th>Link</th>\n",
       "    </tr>\n",
       "  </thead>\n",
       "  <tbody>\n",
       "    <tr>\n",
       "      <th>0</th>\n",
       "      <td>Pharmacist and Brother Convicted of $15M Medic...</td>\n",
       "      <td>2024-11-08</td>\n",
       "      <td>Criminal and Civil Actions</td>\n",
       "      <td>https://oig.hhs.gov/fraud/enforcement/pharmaci...</td>\n",
       "    </tr>\n",
       "    <tr>\n",
       "      <th>1</th>\n",
       "      <td>Boise Nurse Practitioner Sentenced To 48 Month...</td>\n",
       "      <td>2024-11-07</td>\n",
       "      <td>Criminal and Civil Actions</td>\n",
       "      <td>https://oig.hhs.gov/fraud/enforcement/boise-nu...</td>\n",
       "    </tr>\n",
       "    <tr>\n",
       "      <th>2</th>\n",
       "      <td>Former Traveling Nurse Pleads Guilty To Tamper...</td>\n",
       "      <td>2024-11-07</td>\n",
       "      <td>Criminal and Civil Actions</td>\n",
       "      <td>https://oig.hhs.gov/fraud/enforcement/former-t...</td>\n",
       "    </tr>\n",
       "    <tr>\n",
       "      <th>3</th>\n",
       "      <td>Former Arlington Resident Sentenced To Prison ...</td>\n",
       "      <td>2024-11-07</td>\n",
       "      <td>Criminal and Civil Actions</td>\n",
       "      <td>https://oig.hhs.gov/fraud/enforcement/former-a...</td>\n",
       "    </tr>\n",
       "    <tr>\n",
       "      <th>4</th>\n",
       "      <td>Paroled Felon Sentenced To Six Years For Fraud...</td>\n",
       "      <td>2024-11-07</td>\n",
       "      <td>Criminal and Civil Actions</td>\n",
       "      <td>https://oig.hhs.gov/fraud/enforcement/paroled-...</td>\n",
       "    </tr>\n",
       "  </tbody>\n",
       "</table>\n",
       "</div>"
      ],
      "text/plain": [
       "                                               Title       Date  \\\n",
       "0  Pharmacist and Brother Convicted of $15M Medic... 2024-11-08   \n",
       "1  Boise Nurse Practitioner Sentenced To 48 Month... 2024-11-07   \n",
       "2  Former Traveling Nurse Pleads Guilty To Tamper... 2024-11-07   \n",
       "3  Former Arlington Resident Sentenced To Prison ... 2024-11-07   \n",
       "4  Paroled Felon Sentenced To Six Years For Fraud... 2024-11-07   \n",
       "\n",
       "                     Category  \\\n",
       "0  Criminal and Civil Actions   \n",
       "1  Criminal and Civil Actions   \n",
       "2  Criminal and Civil Actions   \n",
       "3  Criminal and Civil Actions   \n",
       "4  Criminal and Civil Actions   \n",
       "\n",
       "                                                Link  \n",
       "0  https://oig.hhs.gov/fraud/enforcement/pharmaci...  \n",
       "1  https://oig.hhs.gov/fraud/enforcement/boise-nu...  \n",
       "2  https://oig.hhs.gov/fraud/enforcement/former-t...  \n",
       "3  https://oig.hhs.gov/fraud/enforcement/former-a...  \n",
       "4  https://oig.hhs.gov/fraud/enforcement/paroled-...  "
      ]
     },
     "execution_count": 23,
     "metadata": {},
     "output_type": "execute_result"
    }
   ],
   "source": [
    "import time\n",
    "from datetime import datetime\n",
    "\n",
    "def enforcement_scrapper(start_month, start_year):\n",
    "    if start_year < 2013:\n",
    "        print(\"Please input a year >= 2013, as enforcement actions before 2013 are unavailable.\")\n",
    "        return\n",
    "\n",
    "    base_url = 'https://oig.hhs.gov/fraud/enforcement'\n",
    "    params = {\n",
    "        'searchby': 'monthyear',\n",
    "        'month': start_month,\n",
    "        'year': start_year,\n",
    "    }\n",
    "    current_page = 1\n",
    "    results = []\n",
    "\n",
    "    while True:\n",
    "        response = requests.get(f\"{base_url}?page={current_page}\", params=params)\n",
    "        soup = BeautifulSoup(response.content, 'lxml')\n",
    "#titles links\n",
    "        titles = []\n",
    "        links = []\n",
    "        for h2 in soup.find_all('h2'):\n",
    "            a_tag = h2.find('a')\n",
    "            if a_tag:\n",
    "                titles.append(a_tag.get_text(strip=True))\n",
    "                links.append(\"https://oig.hhs.gov\" + a_tag['href'])\n",
    "\n",
    "        #get dates\n",
    "        dates = [span.get_text(strip=True) for span in soup.find_all('span', class_='text-base-dark padding-right-105')]\n",
    "\n",
    "        #get categories\n",
    "        categories = [\n",
    "            li.get_text(strip=True) for li in soup.find_all('li', class_='display-inline-block usa-tag text-no-lowercase text-base-darkest bg-base-lightest margin-right-1')\n",
    "        ]\n",
    "        if not titles:\n",
    "            break\n",
    "        for title, date, category, link in zip(titles, dates, categories, links):\n",
    "            results.append({'Title': title, 'Date': date, 'Category': category, 'Link': link})\n",
    "\n",
    "        #check for next button\n",
    "        next_page = soup.find('a', text='Next')\n",
    "        if next_page:\n",
    "            current_page += 1\n",
    "        else:\n",
    "            break\n",
    "\n",
    "        \n",
    "        time.sleep(1)\n",
    "\n",
    "    \n",
    "    scrapper = pd.DataFrame(results)\n",
    "    scrapper['Date'] = pd.to_datetime(scrapper['Date'])\n",
    "    start_date = datetime(start_year, start_month, 1)\n",
    "    scrapper = scrapper[scrapper['Date'] >= start_date]\n",
    "    return scrapper\n",
    "twenty_three= enforcement_scrapper(1, 2023)  \n",
    "\n",
    "twenty_three.head()"
   ]
  },
  {
   "cell_type": "code",
   "execution_count": null,
   "id": "6ac6d6a2-87e0-420e-a8bb-5f68e0aa680e",
   "metadata": {},
   "outputs": [
    {
     "data": {
      "text/html": [
       "<div>\n",
       "<style scoped>\n",
       "    .dataframe tbody tr th:only-of-type {\n",
       "        vertical-align: middle;\n",
       "    }\n",
       "\n",
       "    .dataframe tbody tr th {\n",
       "        vertical-align: top;\n",
       "    }\n",
       "\n",
       "    .dataframe thead th {\n",
       "        text-align: right;\n",
       "    }\n",
       "</style>\n",
       "<table border=\"1\" class=\"dataframe\">\n",
       "  <thead>\n",
       "    <tr style=\"text-align: right;\">\n",
       "      <th></th>\n",
       "      <th>Title</th>\n",
       "      <th>Date</th>\n",
       "      <th>Category</th>\n",
       "      <th>Link</th>\n",
       "    </tr>\n",
       "  </thead>\n",
       "  <tbody>\n",
       "    <tr>\n",
       "      <th>0</th>\n",
       "      <td>Pharmacist and Brother Convicted of $15M Medic...</td>\n",
       "      <td>2024-11-08</td>\n",
       "      <td>Criminal and Civil Actions</td>\n",
       "      <td>https://oig.hhs.gov/fraud/enforcement/pharmaci...</td>\n",
       "    </tr>\n",
       "    <tr>\n",
       "      <th>1</th>\n",
       "      <td>Boise Nurse Practitioner Sentenced To 48 Month...</td>\n",
       "      <td>2024-11-07</td>\n",
       "      <td>Criminal and Civil Actions</td>\n",
       "      <td>https://oig.hhs.gov/fraud/enforcement/boise-nu...</td>\n",
       "    </tr>\n",
       "    <tr>\n",
       "      <th>2</th>\n",
       "      <td>Former Traveling Nurse Pleads Guilty To Tamper...</td>\n",
       "      <td>2024-11-07</td>\n",
       "      <td>Criminal and Civil Actions</td>\n",
       "      <td>https://oig.hhs.gov/fraud/enforcement/former-t...</td>\n",
       "    </tr>\n",
       "    <tr>\n",
       "      <th>3</th>\n",
       "      <td>Former Arlington Resident Sentenced To Prison ...</td>\n",
       "      <td>2024-11-07</td>\n",
       "      <td>Criminal and Civil Actions</td>\n",
       "      <td>https://oig.hhs.gov/fraud/enforcement/former-a...</td>\n",
       "    </tr>\n",
       "    <tr>\n",
       "      <th>4</th>\n",
       "      <td>Paroled Felon Sentenced To Six Years For Fraud...</td>\n",
       "      <td>2024-11-07</td>\n",
       "      <td>Criminal and Civil Actions</td>\n",
       "      <td>https://oig.hhs.gov/fraud/enforcement/paroled-...</td>\n",
       "    </tr>\n",
       "  </tbody>\n",
       "</table>\n",
       "</div>"
      ],
      "text/plain": [
       "                                               Title       Date  \\\n",
       "0  Pharmacist and Brother Convicted of $15M Medic... 2024-11-08   \n",
       "1  Boise Nurse Practitioner Sentenced To 48 Month... 2024-11-07   \n",
       "2  Former Traveling Nurse Pleads Guilty To Tamper... 2024-11-07   \n",
       "3  Former Arlington Resident Sentenced To Prison ... 2024-11-07   \n",
       "4  Paroled Felon Sentenced To Six Years For Fraud... 2024-11-07   \n",
       "\n",
       "                     Category  \\\n",
       "0  Criminal and Civil Actions   \n",
       "1  Criminal and Civil Actions   \n",
       "2  Criminal and Civil Actions   \n",
       "3  Criminal and Civil Actions   \n",
       "4  Criminal and Civil Actions   \n",
       "\n",
       "                                                Link  \n",
       "0  https://oig.hhs.gov/fraud/enforcement/pharmaci...  \n",
       "1  https://oig.hhs.gov/fraud/enforcement/boise-nu...  \n",
       "2  https://oig.hhs.gov/fraud/enforcement/former-t...  \n",
       "3  https://oig.hhs.gov/fraud/enforcement/former-a...  \n",
       "4  https://oig.hhs.gov/fraud/enforcement/paroled-...  "
      ]
     },
     "execution_count": 24,
     "metadata": {},
     "output_type": "execute_result"
    }
   ],
   "source": [
    "import time\n",
    "from datetime import datetime\n",
    "\n",
    "def enforcement_scrapper(start_month, start_year):\n",
    "    if start_year < 2013:\n",
    "        print(\"Please input a year >= 2013, as enforcement actions before 2013 are unavailable.\")\n",
    "        return\n",
    "\n",
    "    base_url = 'https://oig.hhs.gov/fraud/enforcement'\n",
    "    current_page = 1\n",
    "    results = []\n",
    "\n",
    "    while True:\n",
    "        url = f\"{base_url}/?page={current_page}\"\n",
    "        response = requests.get(url)\n",
    "        soup = BeautifulSoup(response.content, 'lxml')\n",
    "#titles links\n",
    "        titles = []\n",
    "        links = []\n",
    "        for h2 in soup.find_all('h2'):\n",
    "            a_tag = h2.find('a')\n",
    "            if a_tag:\n",
    "                titles.append(a_tag.get_text(strip=True))\n",
    "                links.append(\"https://oig.hhs.gov\" + a_tag['href'])\n",
    "\n",
    "        #get dates\n",
    "        dates = [span.get_text(strip=True) for span in soup.find_all('span', class_='text-base-dark padding-right-105')]\n",
    "\n",
    "        #get categories\n",
    "        categories = [\n",
    "            li.get_text(strip=True) for li in soup.find_all('li', class_='display-inline-block usa-tag text-no-lowercase text-base-darkest bg-base-lightest margin-right-1')\n",
    "        ]\n",
    "        if not titles:\n",
    "            break\n",
    "        for title, date, category, link in zip(titles, dates, categories, links):\n",
    "            results.append({'Title': title, 'Date': date, 'Category': category, 'Link': link})\n",
    "\n",
    "        #check for next button\n",
    "        next_page = soup.find('a', text='Next')\n",
    "        if next_page:\n",
    "            current_page += 1\n",
    "        else:\n",
    "            break\n",
    "\n",
    "        \n",
    "        time.sleep(1)\n",
    "\n",
    "    \n",
    "    scrapper = pd.DataFrame(results)\n",
    "    scrapper['Date'] = pd.to_datetime(scrapper['Date'])\n",
    "    start_date = datetime(start_year, start_month, 1)\n",
    "    scrapper = scrapper[scrapper['Date'] >= start_date]\n",
    "    return scrapper\n",
    "twenty_three = enforcement_scrapper(1, 2023)  \n",
    "\n",
    "twenty_three.head()"
   ]
  },
  {
   "cell_type": "code",
   "execution_count": null,
   "id": "c958f240-199a-4578-82f6-99180edf41d7",
   "metadata": {},
   "outputs": [
    {
     "ename": "KeyError",
     "evalue": "'Date'",
     "output_type": "error",
     "traceback": [
      "\u001b[0;31m---------------------------------------------------------------------------\u001b[0m",
      "\u001b[0;31mKeyError\u001b[0m                                  Traceback (most recent call last)",
      "Cell \u001b[0;32mIn[26], line 52\u001b[0m\n\u001b[1;32m     50\u001b[0m     scrapper \u001b[39m=\u001b[39m scrapper[scrapper[\u001b[39m'\u001b[39m\u001b[39mDate\u001b[39m\u001b[39m'\u001b[39m] \u001b[39m>\u001b[39m\u001b[39m=\u001b[39m start_date]\n\u001b[1;32m     51\u001b[0m     \u001b[39mreturn\u001b[39;00m scrapper\n\u001b[0;32m---> 52\u001b[0m twenty_three \u001b[39m=\u001b[39m enforcement_scrapper(\u001b[39m1\u001b[39;49m, \u001b[39m2023\u001b[39;49m)  \n\u001b[1;32m     54\u001b[0m twenty_three\u001b[39m.\u001b[39mhead()\n",
      "Cell \u001b[0;32mIn[26], line 48\u001b[0m, in \u001b[0;36menforcement_scrapper\u001b[0;34m(start_month, start_year)\u001b[0m\n\u001b[1;32m     44\u001b[0m     time\u001b[39m.\u001b[39msleep(\u001b[39m1\u001b[39m)\n\u001b[1;32m     47\u001b[0m scrapper \u001b[39m=\u001b[39m pd\u001b[39m.\u001b[39mDataFrame(results)\n\u001b[0;32m---> 48\u001b[0m scrapper[\u001b[39m'\u001b[39m\u001b[39mDate\u001b[39m\u001b[39m'\u001b[39m] \u001b[39m=\u001b[39m pd\u001b[39m.\u001b[39mto_datetime(scrapper[\u001b[39m'\u001b[39;49m\u001b[39mDate\u001b[39;49m\u001b[39m'\u001b[39;49m])\n\u001b[1;32m     49\u001b[0m start_date \u001b[39m=\u001b[39m datetime(start_year, start_month, \u001b[39m1\u001b[39m)\n\u001b[1;32m     50\u001b[0m scrapper \u001b[39m=\u001b[39m scrapper[scrapper[\u001b[39m'\u001b[39m\u001b[39mDate\u001b[39m\u001b[39m'\u001b[39m] \u001b[39m>\u001b[39m\u001b[39m=\u001b[39m start_date]\n",
      "File \u001b[0;32m/opt/anaconda3/lib/python3.11/site-packages/pandas/core/frame.py:3893\u001b[0m, in \u001b[0;36mDataFrame.__getitem__\u001b[0;34m(self, key)\u001b[0m\n\u001b[1;32m   3891\u001b[0m \u001b[39mif\u001b[39;00m \u001b[39mself\u001b[39m\u001b[39m.\u001b[39mcolumns\u001b[39m.\u001b[39mnlevels \u001b[39m>\u001b[39m \u001b[39m1\u001b[39m:\n\u001b[1;32m   3892\u001b[0m     \u001b[39mreturn\u001b[39;00m \u001b[39mself\u001b[39m\u001b[39m.\u001b[39m_getitem_multilevel(key)\n\u001b[0;32m-> 3893\u001b[0m indexer \u001b[39m=\u001b[39m \u001b[39mself\u001b[39;49m\u001b[39m.\u001b[39;49mcolumns\u001b[39m.\u001b[39;49mget_loc(key)\n\u001b[1;32m   3894\u001b[0m \u001b[39mif\u001b[39;00m is_integer(indexer):\n\u001b[1;32m   3895\u001b[0m     indexer \u001b[39m=\u001b[39m [indexer]\n",
      "File \u001b[0;32m/opt/anaconda3/lib/python3.11/site-packages/pandas/core/indexes/range.py:418\u001b[0m, in \u001b[0;36mRangeIndex.get_loc\u001b[0;34m(self, key)\u001b[0m\n\u001b[1;32m    416\u001b[0m         \u001b[39mraise\u001b[39;00m \u001b[39mKeyError\u001b[39;00m(key) \u001b[39mfrom\u001b[39;00m \u001b[39merr\u001b[39;00m\n\u001b[1;32m    417\u001b[0m \u001b[39mif\u001b[39;00m \u001b[39misinstance\u001b[39m(key, Hashable):\n\u001b[0;32m--> 418\u001b[0m     \u001b[39mraise\u001b[39;00m \u001b[39mKeyError\u001b[39;00m(key)\n\u001b[1;32m    419\u001b[0m \u001b[39mself\u001b[39m\u001b[39m.\u001b[39m_check_indexing_error(key)\n\u001b[1;32m    420\u001b[0m \u001b[39mraise\u001b[39;00m \u001b[39mKeyError\u001b[39;00m(key)\n",
      "\u001b[0;31mKeyError\u001b[0m: 'Date'"
     ]
    }
   ],
   "source": [
    "import time\n",
    "from datetime import datetime\n",
    "\n",
    "def enforcement_scrapper(start_month, start_year):\n",
    "    if start_year < 2013:\n",
    "        print(\"Please input a year >= 2013, as enforcement actions before 2013 are unavailable.\")\n",
    "        return\n",
    "\n",
    "    base_url = 'https://oig.hhs.gov/fraud/enforcement'\n",
    "    current_page = 1\n",
    "    results = []\n",
    "\n",
    "    while True:\n",
    "        url = f\"{base_url}/?page={current_page}\"\n",
    "        response = requests.get(url)\n",
    "        soup = BeautifulSoup(response.content, 'lxml')\n",
    "#titles links\n",
    "        titles = []\n",
    "        links = []\n",
    "        for h2 in soup.find_all('h2'):\n",
    "            a_tag = h2.find('a')\n",
    "            if a_tag:\n",
    "                titles.append(a_tag.get_text(strip=True))\n",
    "                links.append(\"https://oig.hhs.gov\" + a_tag['href'])\n",
    "\n",
    "        #get dates\n",
    "        dates = [span.get_text(strip=True) for span in soup.find_all('span', class_='text-base-dark padding-right-105')]\n",
    "\n",
    "        #get categories\n",
    "        categories = [\n",
    "            li.get_text(strip=True) for li in soup.find_all('li', class_='display-inline-block usa-tag text-no-lowercase text-base-darkest bg-base-lightest margin-right-1')\n",
    "        ]\n",
    "\n",
    "\n",
    "        #check if page has dates earlier than when we're looking\n",
    "        date_check = pd.to_datetime(dates, errors='coerce')\n",
    "        if date_check.min() < pd.Timestamp(datetime(start_year, start_month, 1)):\n",
    "            break\n",
    "        #Used chatgpt to debug my code here. I was using next button as a signal for some reason and switched that to instead using a date chack and the url pattern\n",
    "        current_page += 1\n",
    "\n",
    "\n",
    "        \n",
    "        time.sleep(1)\n",
    "\n",
    "    \n",
    "    scrapper = pd.DataFrame(results)\n",
    "    scrapper['Date'] = pd.to_datetime(scrapper['Date'])\n",
    "    start_date = datetime(start_year, start_month, 1)\n",
    "    scrapper = scrapper[scrapper['Date'] >= start_date]\n",
    "    return scrapper\n",
    "twenty_three = enforcement_scrapper(1, 2023)  \n",
    "\n",
    "twenty_three.head()"
   ]
  },
  {
   "cell_type": "code",
   "execution_count": null,
   "id": "1f49fc3b-ae9a-413a-943b-424cc401007d",
   "metadata": {},
   "outputs": [
    {
     "data": {
      "text/html": [
       "<div>\n",
       "<style scoped>\n",
       "    .dataframe tbody tr th:only-of-type {\n",
       "        vertical-align: middle;\n",
       "    }\n",
       "\n",
       "    .dataframe tbody tr th {\n",
       "        vertical-align: top;\n",
       "    }\n",
       "\n",
       "    .dataframe thead th {\n",
       "        text-align: right;\n",
       "    }\n",
       "</style>\n",
       "<table border=\"1\" class=\"dataframe\">\n",
       "  <thead>\n",
       "    <tr style=\"text-align: right;\">\n",
       "      <th></th>\n",
       "      <th>Title</th>\n",
       "      <th>Date</th>\n",
       "      <th>Category</th>\n",
       "      <th>Link</th>\n",
       "    </tr>\n",
       "  </thead>\n",
       "  <tbody>\n",
       "    <tr>\n",
       "      <th>0</th>\n",
       "      <td>Pharmacist and Brother Convicted of $15M Medic...</td>\n",
       "      <td>2024-11-08</td>\n",
       "      <td>Criminal and Civil Actions</td>\n",
       "      <td>https://oig.hhs.gov/fraud/enforcement/pharmaci...</td>\n",
       "    </tr>\n",
       "    <tr>\n",
       "      <th>1</th>\n",
       "      <td>Boise Nurse Practitioner Sentenced To 48 Month...</td>\n",
       "      <td>2024-11-07</td>\n",
       "      <td>Criminal and Civil Actions</td>\n",
       "      <td>https://oig.hhs.gov/fraud/enforcement/boise-nu...</td>\n",
       "    </tr>\n",
       "    <tr>\n",
       "      <th>2</th>\n",
       "      <td>Former Traveling Nurse Pleads Guilty To Tamper...</td>\n",
       "      <td>2024-11-07</td>\n",
       "      <td>Criminal and Civil Actions</td>\n",
       "      <td>https://oig.hhs.gov/fraud/enforcement/former-t...</td>\n",
       "    </tr>\n",
       "    <tr>\n",
       "      <th>3</th>\n",
       "      <td>Former Arlington Resident Sentenced To Prison ...</td>\n",
       "      <td>2024-11-07</td>\n",
       "      <td>Criminal and Civil Actions</td>\n",
       "      <td>https://oig.hhs.gov/fraud/enforcement/former-a...</td>\n",
       "    </tr>\n",
       "    <tr>\n",
       "      <th>4</th>\n",
       "      <td>Paroled Felon Sentenced To Six Years For Fraud...</td>\n",
       "      <td>2024-11-07</td>\n",
       "      <td>Criminal and Civil Actions</td>\n",
       "      <td>https://oig.hhs.gov/fraud/enforcement/paroled-...</td>\n",
       "    </tr>\n",
       "  </tbody>\n",
       "</table>\n",
       "</div>"
      ],
      "text/plain": [
       "                                               Title       Date  \\\n",
       "0  Pharmacist and Brother Convicted of $15M Medic... 2024-11-08   \n",
       "1  Boise Nurse Practitioner Sentenced To 48 Month... 2024-11-07   \n",
       "2  Former Traveling Nurse Pleads Guilty To Tamper... 2024-11-07   \n",
       "3  Former Arlington Resident Sentenced To Prison ... 2024-11-07   \n",
       "4  Paroled Felon Sentenced To Six Years For Fraud... 2024-11-07   \n",
       "\n",
       "                     Category  \\\n",
       "0  Criminal and Civil Actions   \n",
       "1  Criminal and Civil Actions   \n",
       "2  Criminal and Civil Actions   \n",
       "3  Criminal and Civil Actions   \n",
       "4  Criminal and Civil Actions   \n",
       "\n",
       "                                                Link  \n",
       "0  https://oig.hhs.gov/fraud/enforcement/pharmaci...  \n",
       "1  https://oig.hhs.gov/fraud/enforcement/boise-nu...  \n",
       "2  https://oig.hhs.gov/fraud/enforcement/former-t...  \n",
       "3  https://oig.hhs.gov/fraud/enforcement/former-a...  \n",
       "4  https://oig.hhs.gov/fraud/enforcement/paroled-...  "
      ]
     },
     "execution_count": 27,
     "metadata": {},
     "output_type": "execute_result"
    }
   ],
   "source": [
    "import time\n",
    "from datetime import datetime\n",
    "\n",
    "def enforcement_scrapper(start_month, start_year):\n",
    "    if start_year < 2013:\n",
    "        print(\"Please input a year >= 2013, as enforcement actions before 2013 are unavailable.\")\n",
    "        return\n",
    "\n",
    "    base_url = 'https://oig.hhs.gov/fraud/enforcement'\n",
    "    current_page = 1\n",
    "    results = []\n",
    "\n",
    "    while True:\n",
    "        url = f\"{base_url}/?page={current_page}\"\n",
    "        response = requests.get(url)\n",
    "        soup = BeautifulSoup(response.content, 'lxml')\n",
    "#titles links\n",
    "        titles = []\n",
    "        links = []\n",
    "        for h2 in soup.find_all('h2'):\n",
    "            a_tag = h2.find('a')\n",
    "            if a_tag:\n",
    "                titles.append(a_tag.get_text(strip=True))\n",
    "                links.append(\"https://oig.hhs.gov\" + a_tag['href'])\n",
    "\n",
    "        #get dates\n",
    "        dates = [span.get_text(strip=True) for span in soup.find_all('span', class_='text-base-dark padding-right-105')]\n",
    "\n",
    "        #get categories\n",
    "        categories = [\n",
    "            li.get_text(strip=True) for li in soup.find_all('li', class_='display-inline-block usa-tag text-no-lowercase text-base-darkest bg-base-lightest margin-right-1')\n",
    "        ]\n",
    "\n",
    "        for title, date, category, link in zip(titles, dates, categories, links):\n",
    "            results.append({'Title': title, 'Date': date, 'Category': category, 'Link': link})\n",
    "\n",
    "        #check if page has dates earlier than when we're looking\n",
    "        date_check = pd.to_datetime(dates, errors='coerce')\n",
    "        if date_check.min() < pd.Timestamp(datetime(start_year, start_month, 1)):\n",
    "            break\n",
    "        #Used chatgpt to debug my code here. I was using next button as a signal for some reason and switched that to instead using a date chack and the url pattern\n",
    "        current_page += 1\n",
    "\n",
    "\n",
    "        \n",
    "        time.sleep(1)\n",
    "\n",
    "    \n",
    "    scrapper = pd.DataFrame(results)\n",
    "    scrapper['Date'] = pd.to_datetime(scrapper['Date'])\n",
    "    start_date = datetime(start_year, start_month, 1)\n",
    "    scrapper = scrapper[scrapper['Date'] >= start_date]\n",
    "    return scrapper\n",
    "twenty_three = enforcement_scrapper(1, 2023)  \n",
    "\n",
    "twenty_three.head()"
   ]
  },
  {
   "cell_type": "code",
   "execution_count": null,
   "id": "2b290209-568a-4249-a15a-8d9ac648d0f2",
   "metadata": {},
   "outputs": [
    {
     "name": "stdout",
     "output_type": "stream",
     "text": [
      "1534\n"
     ]
    }
   ],
   "source": [
    "print(twenty_three.shape[0])"
   ]
  },
  {
   "cell_type": "code",
   "execution_count": null,
   "id": "916b499d-3ec0-44e5-b3fb-b94659b98cda",
   "metadata": {},
   "outputs": [
    {
     "name": "stdout",
     "output_type": "stream",
     "text": [
      "Earliest Date: 2023-01-03\n",
      "Number of Enforcement Actions: 1534\n"
     ]
    }
   ],
   "source": [
    "earliest_date = twenty_three['Date'].min()\n",
    "print(f\"Earliest Date: {earliest_date.date()}\")\n",
    "\n",
    "num_enforcements = len(twenty_three)\n",
    "print(f\"Number of Enforcement Actions: {num_enforcements}\")"
   ]
  },
  {
   "cell_type": "code",
   "execution_count": null,
   "id": "db510528-047f-45f7-88d2-2ca13c20f7d7",
   "metadata": {},
   "outputs": [
    {
     "name": "stdout",
     "output_type": "stream",
     "text": [
      "Number of Enforcement Actions: 3022\n",
      "Earliest Date: 2021-01-04\n",
      "Details of the Earliest Enforcement Action:\n",
      "Title       The United States And Tennessee Resolve Claims...\n",
      "Date                                      2021-01-04 00:00:00\n",
      "Category                           Criminal and Civil Actions\n",
      "Link        https://oig.hhs.gov/fraud/enforcement/the-unit...\n",
      "Name: 3021, dtype: object\n"
     ]
    }
   ],
   "source": [
    "twenty_one = enforcement_scrapper(1, 2021)\n",
    "\n",
    "num_enforcements = len(twenty_one)\n",
    "print(f\"Number of Enforcement Actions: {num_enforcements}\")\n",
    "\n",
    "earliest_action = twenty_one.loc[twenty_one['Date'].idxmin()]\n",
    "earliest_date = earliest_action['Date']\n",
    "print(f\"Earliest Date: {earliest_date.date()}\")\n",
    "print(\"Details of the Earliest Enforcement Action:\")\n",
    "print(earliest_action)"
   ]
  },
  {
   "cell_type": "code",
   "execution_count": null,
   "id": "50005d42-f1e8-4b86-8fc6-ded4e00461ea",
   "metadata": {},
   "outputs": [
    {
     "ename": "SyntaxError",
     "evalue": "invalid syntax. Perhaps you forgot a comma? (<ipython-input-31-61bcb996d0c8>, line 7)",
     "output_type": "error",
     "traceback": [
      "\u001b[0;36m  Cell \u001b[0;32mIn[31], line 7\u001b[0;36m\u001b[0m\n\u001b[0;31m    x = alt.X('Month_Year:T', title = 'Month/Year')\u001b[0m\n\u001b[0m        ^\u001b[0m\n\u001b[0;31mSyntaxError\u001b[0m\u001b[0;31m:\u001b[0m invalid syntax. Perhaps you forgot a comma?\n"
     ]
    }
   ],
   "source": [
    "import altair as alt\n",
    "\n",
    "twenty_one['Month_Year'] = twenty_one['Date'].dt.to_period('M').dt.to_timestamp()\n",
    "monthly_counts = twenty_one.groupby('Month_Year').size().reset_index(name='Count')\n",
    "\n",
    "line_agg = alt.Chart(monthly_counts).mark_line().encode(\n",
    "  x = alt.X('Month_Year:T', title = 'Month/Year')\n",
    "  y = alt.Y('Count:Q', title = 'Number of Actions')\n",
    ").properties( title = 'Number of Enforcement Actions Over Time (Aggregated by Month-Year)', width = 800,\n",
    "height = 400)\n",
    "\n",
    "line_agg"
   ]
  },
  {
   "cell_type": "code",
   "execution_count": null,
   "id": "799670e1-b1bf-48f9-a25c-a37e66a69c77",
   "metadata": {},
   "outputs": [
    {
     "data": {
      "text/html": [
       "\n",
       "<style>\n",
       "  #altair-viz-0dcc92a4fd1b48d1b8e9a0596fade0f8.vega-embed {\n",
       "    width: 100%;\n",
       "    display: flex;\n",
       "  }\n",
       "\n",
       "  #altair-viz-0dcc92a4fd1b48d1b8e9a0596fade0f8.vega-embed details,\n",
       "  #altair-viz-0dcc92a4fd1b48d1b8e9a0596fade0f8.vega-embed details summary {\n",
       "    position: relative;\n",
       "  }\n",
       "</style>\n",
       "<div id=\"altair-viz-0dcc92a4fd1b48d1b8e9a0596fade0f8\"></div>\n",
       "<script type=\"text/javascript\">\n",
       "  var VEGA_DEBUG = (typeof VEGA_DEBUG == \"undefined\") ? {} : VEGA_DEBUG;\n",
       "  (function(spec, embedOpt){\n",
       "    let outputDiv = document.currentScript.previousElementSibling;\n",
       "    if (outputDiv.id !== \"altair-viz-0dcc92a4fd1b48d1b8e9a0596fade0f8\") {\n",
       "      outputDiv = document.getElementById(\"altair-viz-0dcc92a4fd1b48d1b8e9a0596fade0f8\");\n",
       "    }\n",
       "    const paths = {\n",
       "      \"vega\": \"https://cdn.jsdelivr.net/npm/vega@5?noext\",\n",
       "      \"vega-lib\": \"https://cdn.jsdelivr.net/npm/vega-lib?noext\",\n",
       "      \"vega-lite\": \"https://cdn.jsdelivr.net/npm/vega-lite@5.8.0?noext\",\n",
       "      \"vega-embed\": \"https://cdn.jsdelivr.net/npm/vega-embed@6?noext\",\n",
       "    };\n",
       "\n",
       "    function maybeLoadScript(lib, version) {\n",
       "      var key = `${lib.replace(\"-\", \"\")}_version`;\n",
       "      return (VEGA_DEBUG[key] == version) ?\n",
       "        Promise.resolve(paths[lib]) :\n",
       "        new Promise(function(resolve, reject) {\n",
       "          var s = document.createElement('script');\n",
       "          document.getElementsByTagName(\"head\")[0].appendChild(s);\n",
       "          s.async = true;\n",
       "          s.onload = () => {\n",
       "            VEGA_DEBUG[key] = version;\n",
       "            return resolve(paths[lib]);\n",
       "          };\n",
       "          s.onerror = () => reject(`Error loading script: ${paths[lib]}`);\n",
       "          s.src = paths[lib];\n",
       "        });\n",
       "    }\n",
       "\n",
       "    function showError(err) {\n",
       "      outputDiv.innerHTML = `<div class=\"error\" style=\"color:red;\">${err}</div>`;\n",
       "      throw err;\n",
       "    }\n",
       "\n",
       "    function displayChart(vegaEmbed) {\n",
       "      vegaEmbed(outputDiv, spec, embedOpt)\n",
       "        .catch(err => showError(`Javascript Error: ${err.message}<br>This usually means there's a typo in your chart specification. See the javascript console for the full traceback.`));\n",
       "    }\n",
       "\n",
       "    if(typeof define === \"function\" && define.amd) {\n",
       "      requirejs.config({paths});\n",
       "      require([\"vega-embed\"], displayChart, err => showError(`Error loading script: ${err.message}`));\n",
       "    } else {\n",
       "      maybeLoadScript(\"vega\", \"5\")\n",
       "        .then(() => maybeLoadScript(\"vega-lite\", \"5.8.0\"))\n",
       "        .then(() => maybeLoadScript(\"vega-embed\", \"6\"))\n",
       "        .catch(showError)\n",
       "        .then(() => displayChart(vegaEmbed));\n",
       "    }\n",
       "  })({\"config\": {\"view\": {\"continuousWidth\": 300, \"continuousHeight\": 300}}, \"data\": {\"name\": \"data-573861e593bdcceb64bb2440c8f170d7\"}, \"mark\": {\"type\": \"line\"}, \"encoding\": {\"x\": {\"field\": \"Month_Year\", \"title\": \"Month/Year\", \"type\": \"temporal\"}, \"y\": {\"field\": \"Count\", \"title\": \"Number of Actions\", \"type\": \"quantitative\"}}, \"height\": 400, \"title\": \"Number of Enforcement Actions Over Time (Aggregated by Month-Year)\", \"width\": 800, \"$schema\": \"https://vega.github.io/schema/vega-lite/v5.8.0.json\", \"datasets\": {\"data-573861e593bdcceb64bb2440c8f170d7\": [{\"Month_Year\": \"2021-01-01T00:00:00\", \"Count\": 40}, {\"Month_Year\": \"2021-02-01T00:00:00\", \"Count\": 56}, {\"Month_Year\": \"2021-03-01T00:00:00\", \"Count\": 54}, {\"Month_Year\": \"2021-04-01T00:00:00\", \"Count\": 71}, {\"Month_Year\": \"2021-05-01T00:00:00\", \"Count\": 61}, {\"Month_Year\": \"2021-06-01T00:00:00\", \"Count\": 66}, {\"Month_Year\": \"2021-07-01T00:00:00\", \"Count\": 62}, {\"Month_Year\": \"2021-08-01T00:00:00\", \"Count\": 60}, {\"Month_Year\": \"2021-09-01T00:00:00\", \"Count\": 81}, {\"Month_Year\": \"2021-10-01T00:00:00\", \"Count\": 59}, {\"Month_Year\": \"2021-11-01T00:00:00\", \"Count\": 70}, {\"Month_Year\": \"2021-12-01T00:00:00\", \"Count\": 59}, {\"Month_Year\": \"2022-01-01T00:00:00\", \"Count\": 43}, {\"Month_Year\": \"2022-02-01T00:00:00\", \"Count\": 55}, {\"Month_Year\": \"2022-03-01T00:00:00\", \"Count\": 70}, {\"Month_Year\": \"2022-04-01T00:00:00\", \"Count\": 58}, {\"Month_Year\": \"2022-05-01T00:00:00\", \"Count\": 61}, {\"Month_Year\": \"2022-06-01T00:00:00\", \"Count\": 88}, {\"Month_Year\": \"2022-07-01T00:00:00\", \"Count\": 61}, {\"Month_Year\": \"2022-08-01T00:00:00\", \"Count\": 72}, {\"Month_Year\": \"2022-09-01T00:00:00\", \"Count\": 67}, {\"Month_Year\": \"2022-10-01T00:00:00\", \"Count\": 52}, {\"Month_Year\": \"2022-11-01T00:00:00\", \"Count\": 64}, {\"Month_Year\": \"2022-12-01T00:00:00\", \"Count\": 58}, {\"Month_Year\": \"2023-01-01T00:00:00\", \"Count\": 56}, {\"Month_Year\": \"2023-02-01T00:00:00\", \"Count\": 64}, {\"Month_Year\": \"2023-03-01T00:00:00\", \"Count\": 77}, {\"Month_Year\": \"2023-04-01T00:00:00\", \"Count\": 77}, {\"Month_Year\": \"2023-05-01T00:00:00\", \"Count\": 80}, {\"Month_Year\": \"2023-06-01T00:00:00\", \"Count\": 89}, {\"Month_Year\": \"2023-07-01T00:00:00\", \"Count\": 52}, {\"Month_Year\": \"2023-08-01T00:00:00\", \"Count\": 81}, {\"Month_Year\": \"2023-09-01T00:00:00\", \"Count\": 69}, {\"Month_Year\": \"2023-10-01T00:00:00\", \"Count\": 72}, {\"Month_Year\": \"2023-11-01T00:00:00\", \"Count\": 60}, {\"Month_Year\": \"2023-12-01T00:00:00\", \"Count\": 64}, {\"Month_Year\": \"2024-01-01T00:00:00\", \"Count\": 62}, {\"Month_Year\": \"2024-02-01T00:00:00\", \"Count\": 58}, {\"Month_Year\": \"2024-03-01T00:00:00\", \"Count\": 61}, {\"Month_Year\": \"2024-04-01T00:00:00\", \"Count\": 59}, {\"Month_Year\": \"2024-05-01T00:00:00\", \"Count\": 76}, {\"Month_Year\": \"2024-06-01T00:00:00\", \"Count\": 83}, {\"Month_Year\": \"2024-07-01T00:00:00\", \"Count\": 69}, {\"Month_Year\": \"2024-08-01T00:00:00\", \"Count\": 56}, {\"Month_Year\": \"2024-09-01T00:00:00\", \"Count\": 71}, {\"Month_Year\": \"2024-10-01T00:00:00\", \"Count\": 82}, {\"Month_Year\": \"2024-11-01T00:00:00\", \"Count\": 16}]}}, {\"mode\": \"vega-lite\"});\n",
       "</script>"
      ],
      "text/plain": [
       "alt.Chart(...)"
      ]
     },
     "execution_count": 32,
     "metadata": {},
     "output_type": "execute_result"
    }
   ],
   "source": [
    "import altair as alt\n",
    "\n",
    "twenty_one['Month_Year'] = twenty_one['Date'].dt.to_period('M').dt.to_timestamp()\n",
    "monthly_counts = twenty_one.groupby('Month_Year').size().reset_index(name='Count')\n",
    "\n",
    "line_agg = alt.Chart(monthly_counts).mark_line().encode(\n",
    "  x = alt.X('Month_Year:T', title = 'Month/Year'),\n",
    "  y = alt.Y('Count:Q', title = 'Number of Actions')\n",
    ").properties( title = 'Number of Enforcement Actions Over Time (Aggregated by Month-Year)', width = 800,\n",
    "height = 400)\n",
    "\n",
    "line_agg"
   ]
  },
  {
   "cell_type": "code",
   "execution_count": null,
   "id": "906b0939-24ee-4b4d-94fc-e1350b03822b",
   "metadata": {},
   "outputs": [
    {
     "data": {
      "text/html": [
       "\n",
       "<style>\n",
       "  #altair-viz-dfabf87fe8ed441aa5740eab76a57147.vega-embed {\n",
       "    width: 100%;\n",
       "    display: flex;\n",
       "  }\n",
       "\n",
       "  #altair-viz-dfabf87fe8ed441aa5740eab76a57147.vega-embed details,\n",
       "  #altair-viz-dfabf87fe8ed441aa5740eab76a57147.vega-embed details summary {\n",
       "    position: relative;\n",
       "  }\n",
       "</style>\n",
       "<div id=\"altair-viz-dfabf87fe8ed441aa5740eab76a57147\"></div>\n",
       "<script type=\"text/javascript\">\n",
       "  var VEGA_DEBUG = (typeof VEGA_DEBUG == \"undefined\") ? {} : VEGA_DEBUG;\n",
       "  (function(spec, embedOpt){\n",
       "    let outputDiv = document.currentScript.previousElementSibling;\n",
       "    if (outputDiv.id !== \"altair-viz-dfabf87fe8ed441aa5740eab76a57147\") {\n",
       "      outputDiv = document.getElementById(\"altair-viz-dfabf87fe8ed441aa5740eab76a57147\");\n",
       "    }\n",
       "    const paths = {\n",
       "      \"vega\": \"https://cdn.jsdelivr.net/npm/vega@5?noext\",\n",
       "      \"vega-lib\": \"https://cdn.jsdelivr.net/npm/vega-lib?noext\",\n",
       "      \"vega-lite\": \"https://cdn.jsdelivr.net/npm/vega-lite@5.8.0?noext\",\n",
       "      \"vega-embed\": \"https://cdn.jsdelivr.net/npm/vega-embed@6?noext\",\n",
       "    };\n",
       "\n",
       "    function maybeLoadScript(lib, version) {\n",
       "      var key = `${lib.replace(\"-\", \"\")}_version`;\n",
       "      return (VEGA_DEBUG[key] == version) ?\n",
       "        Promise.resolve(paths[lib]) :\n",
       "        new Promise(function(resolve, reject) {\n",
       "          var s = document.createElement('script');\n",
       "          document.getElementsByTagName(\"head\")[0].appendChild(s);\n",
       "          s.async = true;\n",
       "          s.onload = () => {\n",
       "            VEGA_DEBUG[key] = version;\n",
       "            return resolve(paths[lib]);\n",
       "          };\n",
       "          s.onerror = () => reject(`Error loading script: ${paths[lib]}`);\n",
       "          s.src = paths[lib];\n",
       "        });\n",
       "    }\n",
       "\n",
       "    function showError(err) {\n",
       "      outputDiv.innerHTML = `<div class=\"error\" style=\"color:red;\">${err}</div>`;\n",
       "      throw err;\n",
       "    }\n",
       "\n",
       "    function displayChart(vegaEmbed) {\n",
       "      vegaEmbed(outputDiv, spec, embedOpt)\n",
       "        .catch(err => showError(`Javascript Error: ${err.message}<br>This usually means there's a typo in your chart specification. See the javascript console for the full traceback.`));\n",
       "    }\n",
       "\n",
       "    if(typeof define === \"function\" && define.amd) {\n",
       "      requirejs.config({paths});\n",
       "      require([\"vega-embed\"], displayChart, err => showError(`Error loading script: ${err.message}`));\n",
       "    } else {\n",
       "      maybeLoadScript(\"vega\", \"5\")\n",
       "        .then(() => maybeLoadScript(\"vega-lite\", \"5.8.0\"))\n",
       "        .then(() => maybeLoadScript(\"vega-embed\", \"6\"))\n",
       "        .catch(showError)\n",
       "        .then(() => displayChart(vegaEmbed));\n",
       "    }\n",
       "  })({\"config\": {\"view\": {\"continuousWidth\": 300, \"continuousHeight\": 300}}, \"data\": {\"name\": \"data-573861e593bdcceb64bb2440c8f170d7\"}, \"mark\": {\"type\": \"line\"}, \"encoding\": {\"x\": {\"field\": \"Month_Year\", \"title\": \"Month/Year\", \"type\": \"temporal\"}, \"y\": {\"field\": \"Count\", \"title\": \"Number of Actions\", \"type\": \"quantitative\"}}, \"title\": \"Number of Enforcement Actions Over Time (Aggregated by Month-Year)\", \"$schema\": \"https://vega.github.io/schema/vega-lite/v5.8.0.json\", \"datasets\": {\"data-573861e593bdcceb64bb2440c8f170d7\": [{\"Month_Year\": \"2021-01-01T00:00:00\", \"Count\": 40}, {\"Month_Year\": \"2021-02-01T00:00:00\", \"Count\": 56}, {\"Month_Year\": \"2021-03-01T00:00:00\", \"Count\": 54}, {\"Month_Year\": \"2021-04-01T00:00:00\", \"Count\": 71}, {\"Month_Year\": \"2021-05-01T00:00:00\", \"Count\": 61}, {\"Month_Year\": \"2021-06-01T00:00:00\", \"Count\": 66}, {\"Month_Year\": \"2021-07-01T00:00:00\", \"Count\": 62}, {\"Month_Year\": \"2021-08-01T00:00:00\", \"Count\": 60}, {\"Month_Year\": \"2021-09-01T00:00:00\", \"Count\": 81}, {\"Month_Year\": \"2021-10-01T00:00:00\", \"Count\": 59}, {\"Month_Year\": \"2021-11-01T00:00:00\", \"Count\": 70}, {\"Month_Year\": \"2021-12-01T00:00:00\", \"Count\": 59}, {\"Month_Year\": \"2022-01-01T00:00:00\", \"Count\": 43}, {\"Month_Year\": \"2022-02-01T00:00:00\", \"Count\": 55}, {\"Month_Year\": \"2022-03-01T00:00:00\", \"Count\": 70}, {\"Month_Year\": \"2022-04-01T00:00:00\", \"Count\": 58}, {\"Month_Year\": \"2022-05-01T00:00:00\", \"Count\": 61}, {\"Month_Year\": \"2022-06-01T00:00:00\", \"Count\": 88}, {\"Month_Year\": \"2022-07-01T00:00:00\", \"Count\": 61}, {\"Month_Year\": \"2022-08-01T00:00:00\", \"Count\": 72}, {\"Month_Year\": \"2022-09-01T00:00:00\", \"Count\": 67}, {\"Month_Year\": \"2022-10-01T00:00:00\", \"Count\": 52}, {\"Month_Year\": \"2022-11-01T00:00:00\", \"Count\": 64}, {\"Month_Year\": \"2022-12-01T00:00:00\", \"Count\": 58}, {\"Month_Year\": \"2023-01-01T00:00:00\", \"Count\": 56}, {\"Month_Year\": \"2023-02-01T00:00:00\", \"Count\": 64}, {\"Month_Year\": \"2023-03-01T00:00:00\", \"Count\": 77}, {\"Month_Year\": \"2023-04-01T00:00:00\", \"Count\": 77}, {\"Month_Year\": \"2023-05-01T00:00:00\", \"Count\": 80}, {\"Month_Year\": \"2023-06-01T00:00:00\", \"Count\": 89}, {\"Month_Year\": \"2023-07-01T00:00:00\", \"Count\": 52}, {\"Month_Year\": \"2023-08-01T00:00:00\", \"Count\": 81}, {\"Month_Year\": \"2023-09-01T00:00:00\", \"Count\": 69}, {\"Month_Year\": \"2023-10-01T00:00:00\", \"Count\": 72}, {\"Month_Year\": \"2023-11-01T00:00:00\", \"Count\": 60}, {\"Month_Year\": \"2023-12-01T00:00:00\", \"Count\": 64}, {\"Month_Year\": \"2024-01-01T00:00:00\", \"Count\": 62}, {\"Month_Year\": \"2024-02-01T00:00:00\", \"Count\": 58}, {\"Month_Year\": \"2024-03-01T00:00:00\", \"Count\": 61}, {\"Month_Year\": \"2024-04-01T00:00:00\", \"Count\": 59}, {\"Month_Year\": \"2024-05-01T00:00:00\", \"Count\": 76}, {\"Month_Year\": \"2024-06-01T00:00:00\", \"Count\": 83}, {\"Month_Year\": \"2024-07-01T00:00:00\", \"Count\": 69}, {\"Month_Year\": \"2024-08-01T00:00:00\", \"Count\": 56}, {\"Month_Year\": \"2024-09-01T00:00:00\", \"Count\": 71}, {\"Month_Year\": \"2024-10-01T00:00:00\", \"Count\": 82}, {\"Month_Year\": \"2024-11-01T00:00:00\", \"Count\": 16}]}}, {\"mode\": \"vega-lite\"});\n",
       "</script>"
      ],
      "text/plain": [
       "alt.Chart(...)"
      ]
     },
     "execution_count": 33,
     "metadata": {},
     "output_type": "execute_result"
    }
   ],
   "source": [
    "import altair as alt\n",
    "\n",
    "twenty_one['Month_Year'] = twenty_one['Date'].dt.to_period('M').dt.to_timestamp()\n",
    "monthly_counts = twenty_one.groupby('Month_Year').size().reset_index(name='Count')\n",
    "\n",
    "line_agg = alt.Chart(monthly_counts).mark_line().encode(\n",
    "  x = alt.X('Month_Year', title = 'Month/Year'),\n",
    "  y = alt.Y('Count:Q', title = 'Number of Actions')\n",
    ").properties( title = 'Number of Enforcement Actions Over Time (Aggregated by Month-Year)')\n",
    "\n",
    "line_agg"
   ]
  },
  {
   "cell_type": "code",
   "execution_count": null,
   "id": "463e3ac5-b82d-4438-b35c-09ce6b8d5099",
   "metadata": {},
   "outputs": [
    {
     "data": {
      "text/html": [
       "\n",
       "<style>\n",
       "  #altair-viz-2ba11c3c36fa4bacb020aadc5b396865.vega-embed {\n",
       "    width: 100%;\n",
       "    display: flex;\n",
       "  }\n",
       "\n",
       "  #altair-viz-2ba11c3c36fa4bacb020aadc5b396865.vega-embed details,\n",
       "  #altair-viz-2ba11c3c36fa4bacb020aadc5b396865.vega-embed details summary {\n",
       "    position: relative;\n",
       "  }\n",
       "</style>\n",
       "<div id=\"altair-viz-2ba11c3c36fa4bacb020aadc5b396865\"></div>\n",
       "<script type=\"text/javascript\">\n",
       "  var VEGA_DEBUG = (typeof VEGA_DEBUG == \"undefined\") ? {} : VEGA_DEBUG;\n",
       "  (function(spec, embedOpt){\n",
       "    let outputDiv = document.currentScript.previousElementSibling;\n",
       "    if (outputDiv.id !== \"altair-viz-2ba11c3c36fa4bacb020aadc5b396865\") {\n",
       "      outputDiv = document.getElementById(\"altair-viz-2ba11c3c36fa4bacb020aadc5b396865\");\n",
       "    }\n",
       "    const paths = {\n",
       "      \"vega\": \"https://cdn.jsdelivr.net/npm/vega@5?noext\",\n",
       "      \"vega-lib\": \"https://cdn.jsdelivr.net/npm/vega-lib?noext\",\n",
       "      \"vega-lite\": \"https://cdn.jsdelivr.net/npm/vega-lite@5.8.0?noext\",\n",
       "      \"vega-embed\": \"https://cdn.jsdelivr.net/npm/vega-embed@6?noext\",\n",
       "    };\n",
       "\n",
       "    function maybeLoadScript(lib, version) {\n",
       "      var key = `${lib.replace(\"-\", \"\")}_version`;\n",
       "      return (VEGA_DEBUG[key] == version) ?\n",
       "        Promise.resolve(paths[lib]) :\n",
       "        new Promise(function(resolve, reject) {\n",
       "          var s = document.createElement('script');\n",
       "          document.getElementsByTagName(\"head\")[0].appendChild(s);\n",
       "          s.async = true;\n",
       "          s.onload = () => {\n",
       "            VEGA_DEBUG[key] = version;\n",
       "            return resolve(paths[lib]);\n",
       "          };\n",
       "          s.onerror = () => reject(`Error loading script: ${paths[lib]}`);\n",
       "          s.src = paths[lib];\n",
       "        });\n",
       "    }\n",
       "\n",
       "    function showError(err) {\n",
       "      outputDiv.innerHTML = `<div class=\"error\" style=\"color:red;\">${err}</div>`;\n",
       "      throw err;\n",
       "    }\n",
       "\n",
       "    function displayChart(vegaEmbed) {\n",
       "      vegaEmbed(outputDiv, spec, embedOpt)\n",
       "        .catch(err => showError(`Javascript Error: ${err.message}<br>This usually means there's a typo in your chart specification. See the javascript console for the full traceback.`));\n",
       "    }\n",
       "\n",
       "    if(typeof define === \"function\" && define.amd) {\n",
       "      requirejs.config({paths});\n",
       "      require([\"vega-embed\"], displayChart, err => showError(`Error loading script: ${err.message}`));\n",
       "    } else {\n",
       "      maybeLoadScript(\"vega\", \"5\")\n",
       "        .then(() => maybeLoadScript(\"vega-lite\", \"5.8.0\"))\n",
       "        .then(() => maybeLoadScript(\"vega-embed\", \"6\"))\n",
       "        .catch(showError)\n",
       "        .then(() => displayChart(vegaEmbed));\n",
       "    }\n",
       "  })({\"config\": {\"view\": {\"continuousWidth\": 300, \"continuousHeight\": 300}}, \"data\": {\"name\": \"data-573861e593bdcceb64bb2440c8f170d7\"}, \"mark\": {\"type\": \"line\"}, \"encoding\": {\"tooltip\": [{\"field\": \"Month_Year\", \"type\": \"temporal\"}, {\"field\": \"Count\", \"type\": \"quantitative\"}], \"x\": {\"field\": \"Month_Year\", \"title\": \"Month/Year\", \"type\": \"temporal\"}, \"y\": {\"field\": \"Count\", \"title\": \"Number of Actions\", \"type\": \"quantitative\"}}, \"title\": \"Number of Enforcement Actions Over Time (Aggregated by Month-Year)\", \"$schema\": \"https://vega.github.io/schema/vega-lite/v5.8.0.json\", \"datasets\": {\"data-573861e593bdcceb64bb2440c8f170d7\": [{\"Month_Year\": \"2021-01-01T00:00:00\", \"Count\": 40}, {\"Month_Year\": \"2021-02-01T00:00:00\", \"Count\": 56}, {\"Month_Year\": \"2021-03-01T00:00:00\", \"Count\": 54}, {\"Month_Year\": \"2021-04-01T00:00:00\", \"Count\": 71}, {\"Month_Year\": \"2021-05-01T00:00:00\", \"Count\": 61}, {\"Month_Year\": \"2021-06-01T00:00:00\", \"Count\": 66}, {\"Month_Year\": \"2021-07-01T00:00:00\", \"Count\": 62}, {\"Month_Year\": \"2021-08-01T00:00:00\", \"Count\": 60}, {\"Month_Year\": \"2021-09-01T00:00:00\", \"Count\": 81}, {\"Month_Year\": \"2021-10-01T00:00:00\", \"Count\": 59}, {\"Month_Year\": \"2021-11-01T00:00:00\", \"Count\": 70}, {\"Month_Year\": \"2021-12-01T00:00:00\", \"Count\": 59}, {\"Month_Year\": \"2022-01-01T00:00:00\", \"Count\": 43}, {\"Month_Year\": \"2022-02-01T00:00:00\", \"Count\": 55}, {\"Month_Year\": \"2022-03-01T00:00:00\", \"Count\": 70}, {\"Month_Year\": \"2022-04-01T00:00:00\", \"Count\": 58}, {\"Month_Year\": \"2022-05-01T00:00:00\", \"Count\": 61}, {\"Month_Year\": \"2022-06-01T00:00:00\", \"Count\": 88}, {\"Month_Year\": \"2022-07-01T00:00:00\", \"Count\": 61}, {\"Month_Year\": \"2022-08-01T00:00:00\", \"Count\": 72}, {\"Month_Year\": \"2022-09-01T00:00:00\", \"Count\": 67}, {\"Month_Year\": \"2022-10-01T00:00:00\", \"Count\": 52}, {\"Month_Year\": \"2022-11-01T00:00:00\", \"Count\": 64}, {\"Month_Year\": \"2022-12-01T00:00:00\", \"Count\": 58}, {\"Month_Year\": \"2023-01-01T00:00:00\", \"Count\": 56}, {\"Month_Year\": \"2023-02-01T00:00:00\", \"Count\": 64}, {\"Month_Year\": \"2023-03-01T00:00:00\", \"Count\": 77}, {\"Month_Year\": \"2023-04-01T00:00:00\", \"Count\": 77}, {\"Month_Year\": \"2023-05-01T00:00:00\", \"Count\": 80}, {\"Month_Year\": \"2023-06-01T00:00:00\", \"Count\": 89}, {\"Month_Year\": \"2023-07-01T00:00:00\", \"Count\": 52}, {\"Month_Year\": \"2023-08-01T00:00:00\", \"Count\": 81}, {\"Month_Year\": \"2023-09-01T00:00:00\", \"Count\": 69}, {\"Month_Year\": \"2023-10-01T00:00:00\", \"Count\": 72}, {\"Month_Year\": \"2023-11-01T00:00:00\", \"Count\": 60}, {\"Month_Year\": \"2023-12-01T00:00:00\", \"Count\": 64}, {\"Month_Year\": \"2024-01-01T00:00:00\", \"Count\": 62}, {\"Month_Year\": \"2024-02-01T00:00:00\", \"Count\": 58}, {\"Month_Year\": \"2024-03-01T00:00:00\", \"Count\": 61}, {\"Month_Year\": \"2024-04-01T00:00:00\", \"Count\": 59}, {\"Month_Year\": \"2024-05-01T00:00:00\", \"Count\": 76}, {\"Month_Year\": \"2024-06-01T00:00:00\", \"Count\": 83}, {\"Month_Year\": \"2024-07-01T00:00:00\", \"Count\": 69}, {\"Month_Year\": \"2024-08-01T00:00:00\", \"Count\": 56}, {\"Month_Year\": \"2024-09-01T00:00:00\", \"Count\": 71}, {\"Month_Year\": \"2024-10-01T00:00:00\", \"Count\": 82}, {\"Month_Year\": \"2024-11-01T00:00:00\", \"Count\": 16}]}}, {\"mode\": \"vega-lite\"});\n",
       "</script>"
      ],
      "text/plain": [
       "alt.Chart(...)"
      ]
     },
     "execution_count": 34,
     "metadata": {},
     "output_type": "execute_result"
    }
   ],
   "source": [
    "import altair as alt\n",
    "\n",
    "twenty_one['Month_Year'] = twenty_one['Date'].dt.to_period('M').dt.to_timestamp()\n",
    "monthly_counts = twenty_one.groupby('Month_Year').size().reset_index(name='Count')\n",
    "\n",
    "line_agg = alt.Chart(monthly_counts).mark_line().encode(\n",
    "  x = alt.X('Month_Year', title = 'Month/Year'),\n",
    "  y = alt.Y('Count:Q', title = 'Number of Actions'),\n",
    "  tooltip=['Month_Year:T', 'Count:Q']\n",
    ").properties( title = 'Number of Enforcement Actions Over Time (Aggregated by Month-Year)')\n",
    "\n",
    "line_agg"
   ]
  },
  {
   "cell_type": "code",
   "execution_count": null,
   "id": "6dcc04e2-a0ae-4e4c-a7ec-2a02f0c3cc90",
   "metadata": {},
   "outputs": [
    {
     "data": {
      "text/html": [
       "\n",
       "<style>\n",
       "  #altair-viz-9cf3b5ae86c647bab2cfc75838156019.vega-embed {\n",
       "    width: 100%;\n",
       "    display: flex;\n",
       "  }\n",
       "\n",
       "  #altair-viz-9cf3b5ae86c647bab2cfc75838156019.vega-embed details,\n",
       "  #altair-viz-9cf3b5ae86c647bab2cfc75838156019.vega-embed details summary {\n",
       "    position: relative;\n",
       "  }\n",
       "</style>\n",
       "<div id=\"altair-viz-9cf3b5ae86c647bab2cfc75838156019\"></div>\n",
       "<script type=\"text/javascript\">\n",
       "  var VEGA_DEBUG = (typeof VEGA_DEBUG == \"undefined\") ? {} : VEGA_DEBUG;\n",
       "  (function(spec, embedOpt){\n",
       "    let outputDiv = document.currentScript.previousElementSibling;\n",
       "    if (outputDiv.id !== \"altair-viz-9cf3b5ae86c647bab2cfc75838156019\") {\n",
       "      outputDiv = document.getElementById(\"altair-viz-9cf3b5ae86c647bab2cfc75838156019\");\n",
       "    }\n",
       "    const paths = {\n",
       "      \"vega\": \"https://cdn.jsdelivr.net/npm/vega@5?noext\",\n",
       "      \"vega-lib\": \"https://cdn.jsdelivr.net/npm/vega-lib?noext\",\n",
       "      \"vega-lite\": \"https://cdn.jsdelivr.net/npm/vega-lite@5.8.0?noext\",\n",
       "      \"vega-embed\": \"https://cdn.jsdelivr.net/npm/vega-embed@6?noext\",\n",
       "    };\n",
       "\n",
       "    function maybeLoadScript(lib, version) {\n",
       "      var key = `${lib.replace(\"-\", \"\")}_version`;\n",
       "      return (VEGA_DEBUG[key] == version) ?\n",
       "        Promise.resolve(paths[lib]) :\n",
       "        new Promise(function(resolve, reject) {\n",
       "          var s = document.createElement('script');\n",
       "          document.getElementsByTagName(\"head\")[0].appendChild(s);\n",
       "          s.async = true;\n",
       "          s.onload = () => {\n",
       "            VEGA_DEBUG[key] = version;\n",
       "            return resolve(paths[lib]);\n",
       "          };\n",
       "          s.onerror = () => reject(`Error loading script: ${paths[lib]}`);\n",
       "          s.src = paths[lib];\n",
       "        });\n",
       "    }\n",
       "\n",
       "    function showError(err) {\n",
       "      outputDiv.innerHTML = `<div class=\"error\" style=\"color:red;\">${err}</div>`;\n",
       "      throw err;\n",
       "    }\n",
       "\n",
       "    function displayChart(vegaEmbed) {\n",
       "      vegaEmbed(outputDiv, spec, embedOpt)\n",
       "        .catch(err => showError(`Javascript Error: ${err.message}<br>This usually means there's a typo in your chart specification. See the javascript console for the full traceback.`));\n",
       "    }\n",
       "\n",
       "    if(typeof define === \"function\" && define.amd) {\n",
       "      requirejs.config({paths});\n",
       "      require([\"vega-embed\"], displayChart, err => showError(`Error loading script: ${err.message}`));\n",
       "    } else {\n",
       "      maybeLoadScript(\"vega\", \"5\")\n",
       "        .then(() => maybeLoadScript(\"vega-lite\", \"5.8.0\"))\n",
       "        .then(() => maybeLoadScript(\"vega-embed\", \"6\"))\n",
       "        .catch(showError)\n",
       "        .then(() => displayChart(vegaEmbed));\n",
       "    }\n",
       "  })({\"config\": {\"view\": {\"continuousWidth\": 300, \"continuousHeight\": 300}}, \"data\": {\"name\": \"data-573861e593bdcceb64bb2440c8f170d7\"}, \"mark\": {\"type\": \"line\", \"point\": true}, \"encoding\": {\"tooltip\": [{\"field\": \"Month_Year\", \"type\": \"temporal\"}, {\"field\": \"Count\", \"type\": \"quantitative\"}], \"x\": {\"field\": \"Month_Year\", \"title\": \"Month/Year\", \"type\": \"temporal\"}, \"y\": {\"field\": \"Count\", \"title\": \"Number of Actions\", \"type\": \"quantitative\"}}, \"title\": \"Number of Enforcement Actions Over Time (Aggregated by Month-Year)\", \"$schema\": \"https://vega.github.io/schema/vega-lite/v5.8.0.json\", \"datasets\": {\"data-573861e593bdcceb64bb2440c8f170d7\": [{\"Month_Year\": \"2021-01-01T00:00:00\", \"Count\": 40}, {\"Month_Year\": \"2021-02-01T00:00:00\", \"Count\": 56}, {\"Month_Year\": \"2021-03-01T00:00:00\", \"Count\": 54}, {\"Month_Year\": \"2021-04-01T00:00:00\", \"Count\": 71}, {\"Month_Year\": \"2021-05-01T00:00:00\", \"Count\": 61}, {\"Month_Year\": \"2021-06-01T00:00:00\", \"Count\": 66}, {\"Month_Year\": \"2021-07-01T00:00:00\", \"Count\": 62}, {\"Month_Year\": \"2021-08-01T00:00:00\", \"Count\": 60}, {\"Month_Year\": \"2021-09-01T00:00:00\", \"Count\": 81}, {\"Month_Year\": \"2021-10-01T00:00:00\", \"Count\": 59}, {\"Month_Year\": \"2021-11-01T00:00:00\", \"Count\": 70}, {\"Month_Year\": \"2021-12-01T00:00:00\", \"Count\": 59}, {\"Month_Year\": \"2022-01-01T00:00:00\", \"Count\": 43}, {\"Month_Year\": \"2022-02-01T00:00:00\", \"Count\": 55}, {\"Month_Year\": \"2022-03-01T00:00:00\", \"Count\": 70}, {\"Month_Year\": \"2022-04-01T00:00:00\", \"Count\": 58}, {\"Month_Year\": \"2022-05-01T00:00:00\", \"Count\": 61}, {\"Month_Year\": \"2022-06-01T00:00:00\", \"Count\": 88}, {\"Month_Year\": \"2022-07-01T00:00:00\", \"Count\": 61}, {\"Month_Year\": \"2022-08-01T00:00:00\", \"Count\": 72}, {\"Month_Year\": \"2022-09-01T00:00:00\", \"Count\": 67}, {\"Month_Year\": \"2022-10-01T00:00:00\", \"Count\": 52}, {\"Month_Year\": \"2022-11-01T00:00:00\", \"Count\": 64}, {\"Month_Year\": \"2022-12-01T00:00:00\", \"Count\": 58}, {\"Month_Year\": \"2023-01-01T00:00:00\", \"Count\": 56}, {\"Month_Year\": \"2023-02-01T00:00:00\", \"Count\": 64}, {\"Month_Year\": \"2023-03-01T00:00:00\", \"Count\": 77}, {\"Month_Year\": \"2023-04-01T00:00:00\", \"Count\": 77}, {\"Month_Year\": \"2023-05-01T00:00:00\", \"Count\": 80}, {\"Month_Year\": \"2023-06-01T00:00:00\", \"Count\": 89}, {\"Month_Year\": \"2023-07-01T00:00:00\", \"Count\": 52}, {\"Month_Year\": \"2023-08-01T00:00:00\", \"Count\": 81}, {\"Month_Year\": \"2023-09-01T00:00:00\", \"Count\": 69}, {\"Month_Year\": \"2023-10-01T00:00:00\", \"Count\": 72}, {\"Month_Year\": \"2023-11-01T00:00:00\", \"Count\": 60}, {\"Month_Year\": \"2023-12-01T00:00:00\", \"Count\": 64}, {\"Month_Year\": \"2024-01-01T00:00:00\", \"Count\": 62}, {\"Month_Year\": \"2024-02-01T00:00:00\", \"Count\": 58}, {\"Month_Year\": \"2024-03-01T00:00:00\", \"Count\": 61}, {\"Month_Year\": \"2024-04-01T00:00:00\", \"Count\": 59}, {\"Month_Year\": \"2024-05-01T00:00:00\", \"Count\": 76}, {\"Month_Year\": \"2024-06-01T00:00:00\", \"Count\": 83}, {\"Month_Year\": \"2024-07-01T00:00:00\", \"Count\": 69}, {\"Month_Year\": \"2024-08-01T00:00:00\", \"Count\": 56}, {\"Month_Year\": \"2024-09-01T00:00:00\", \"Count\": 71}, {\"Month_Year\": \"2024-10-01T00:00:00\", \"Count\": 82}, {\"Month_Year\": \"2024-11-01T00:00:00\", \"Count\": 16}]}}, {\"mode\": \"vega-lite\"});\n",
       "</script>"
      ],
      "text/plain": [
       "alt.Chart(...)"
      ]
     },
     "execution_count": 35,
     "metadata": {},
     "output_type": "execute_result"
    }
   ],
   "source": [
    "import altair as alt\n",
    "\n",
    "twenty_one['Month_Year'] = twenty_one['Date'].dt.to_period('M').dt.to_timestamp()\n",
    "monthly_counts = twenty_one.groupby('Month_Year').size().reset_index(name='Count')\n",
    "\n",
    "line_agg = alt.Chart(monthly_counts).mark_line(point = True).encode(\n",
    "  x = alt.X('Month_Year', title = 'Month/Year'),\n",
    "  y = alt.Y('Count:Q', title = 'Number of Actions'),\n",
    "  tooltip=['Month_Year:T', 'Count:Q']\n",
    ").properties( title = 'Number of Enforcement Actions Over Time (Aggregated by Month-Year)')\n",
    "\n",
    "line_agg"
   ]
  },
  {
   "cell_type": "code",
   "execution_count": null,
   "id": "1470c7d2-a6f2-4a32-b6c0-01419d228500",
   "metadata": {},
   "outputs": [
    {
     "ename": "",
     "evalue": "",
     "output_type": "error",
     "traceback": [
      "\u001b[1;31mCell was canceled due to an error in a previous cell."
     ]
    }
   ],
   "source": [
    "os.chidir('/Users/willsigal/Desktop')\n",
    "districts_gdf = pd.read_csv('US_Attorney_Districts_Shapefile_simplified_20241108.csv')"
   ]
  },
  {
   "cell_type": "code",
   "execution_count": null,
   "id": "090d0e27-1abd-489f-b3d1-1c1cc6ebba01",
   "metadata": {},
   "outputs": [
    {
     "ename": "",
     "evalue": "",
     "output_type": "error",
     "traceback": [
      "\u001b[1;31mCell was canceled due to an error in a previous cell."
     ]
    }
   ],
   "source": [
    "os.chidir('/Users/willsigal/Desktop')\n",
    "districts_gdf = pd.read_csv('US_Attorney_Districts_Shapefile_simplified_20241108.csv')"
   ]
  },
  {
   "cell_type": "code",
   "execution_count": null,
   "id": "5e9356ba-a2f9-4f08-b791-05b850fab13c",
   "metadata": {},
   "outputs": [
    {
     "ename": "AttributeError",
     "evalue": "module 'os' has no attribute 'chidir'",
     "output_type": "error",
     "traceback": [
      "\u001b[0;31m---------------------------------------------------------------------------\u001b[0m",
      "\u001b[0;31mAttributeError\u001b[0m                            Traceback (most recent call last)",
      "Cell \u001b[0;32mIn[37], line 1\u001b[0m\n\u001b[0;32m----> 1\u001b[0m os\u001b[39m.\u001b[39;49mchidir(\u001b[39m'\u001b[39m\u001b[39m/Users/willsigal/Desktop\u001b[39m\u001b[39m'\u001b[39m)\n\u001b[1;32m      2\u001b[0m districts_gdf \u001b[39m=\u001b[39m pd\u001b[39m.\u001b[39mread_csv(\u001b[39m'\u001b[39m\u001b[39mUS_Attorney_Districts_Shapefile_simplified_20241108.csv\u001b[39m\u001b[39m'\u001b[39m)\n",
      "\u001b[0;31mAttributeError\u001b[0m: module 'os' has no attribute 'chidir'"
     ]
    }
   ],
   "source": [
    "os.chidir('/Users/willsigal/Desktop')\n",
    "districts_gdf = pd.read_csv('US_Attorney_Districts_Shapefile_simplified_20241108.csv')"
   ]
  },
  {
   "cell_type": "code",
   "execution_count": null,
   "id": "a55ce7c3-40d0-4300-a2f8-bb18fa27ebb3",
   "metadata": {},
   "outputs": [],
   "source": [
    "### SETUP \n",
    "import pandas as pd\n",
    "import altair as alt\n",
    "import time\n",
    "import os\n",
    "import warnings\n",
    "import geopandas as gpd\n",
    "import numpy as np\n",
    "import matplotlib.pyplot as plt\n",
    "warnings.filterwarnings('ignore')\n",
    "import requests\n",
    "from bs4 import BeautifulSoup"
   ]
  },
  {
   "cell_type": "code",
   "execution_count": null,
   "id": "0fe8d64c-1c82-434d-acce-488a90537e91",
   "metadata": {},
   "outputs": [
    {
     "ename": "AttributeError",
     "evalue": "module 'os' has no attribute 'chidir'",
     "output_type": "error",
     "traceback": [
      "\u001b[0;31m---------------------------------------------------------------------------\u001b[0m",
      "\u001b[0;31mAttributeError\u001b[0m                            Traceback (most recent call last)",
      "Cell \u001b[0;32mIn[39], line 1\u001b[0m\n\u001b[0;32m----> 1\u001b[0m os\u001b[39m.\u001b[39;49mchidir(\u001b[39m'\u001b[39m\u001b[39m/Users/willsigal/Desktop\u001b[39m\u001b[39m'\u001b[39m)\n\u001b[1;32m      2\u001b[0m districts_gdf \u001b[39m=\u001b[39m pd\u001b[39m.\u001b[39mread_csv(\u001b[39m'\u001b[39m\u001b[39mUS_Attorney_Districts_Shapefile_simplified_20241108.csv\u001b[39m\u001b[39m'\u001b[39m)\n",
      "\u001b[0;31mAttributeError\u001b[0m: module 'os' has no attribute 'chidir'"
     ]
    }
   ],
   "source": [
    "os.chidir('/Users/willsigal/Desktop')\n",
    "districts_gdf = pd.read_csv('US_Attorney_Districts_Shapefile_simplified_20241108.csv')"
   ]
  },
  {
   "cell_type": "code",
   "execution_count": null,
   "id": "23aecdd2-bf19-4a7c-b760-bea96cb99e2f",
   "metadata": {},
   "outputs": [],
   "source": [
    "os.chdir('/Users/willsigal/Desktop')\n",
    "districts_gdf = pd.read_csv('US_Attorney_Districts_Shapefile_simplified_20241108.csv')"
   ]
  },
  {
   "cell_type": "code",
   "execution_count": null,
   "id": "2ca5229e-160d-4279-a5e0-eed9a00c1b18",
   "metadata": {},
   "outputs": [],
   "source": [
    "os.chdir('/Users/willsigal/Desktop')\n",
    "import geopandas as gpd"
   ]
  },
  {
   "cell_type": "code",
   "execution_count": null,
   "id": "c1a91a8f-a553-41df-a470-0e203426d294",
   "metadata": {},
   "outputs": [],
   "source": [
    "state = gpd.read_file('cb_2018_us_state_500k/cb_2018_us_state_500k.shp')"
   ]
  },
  {
   "cell_type": "code",
   "execution_count": null,
   "id": "c4d9636f-0e44-474e-b119-9815653b289d",
   "metadata": {},
   "outputs": [],
   "source": [
    "state = gpd.read_file('cb_2018_us_state_500k/cb_2018_us_state_500k.shp')\n",
    "\n",
    "state_geometries = state['geometry']"
   ]
  },
  {
   "cell_type": "code",
   "execution_count": null,
   "id": "878226ac-0174-4b12-a394-16537222cc67",
   "metadata": {},
   "outputs": [
    {
     "ename": "IndentationError",
     "evalue": "unexpected indent (<ipython-input-44-a48a569c31d0>, line 54)",
     "output_type": "error",
     "traceback": [
      "\u001b[0;36m  Cell \u001b[0;32mIn[44], line 54\u001b[0;36m\u001b[0m\n\u001b[0;31m    for link in scrapper['Link']:\u001b[0m\n\u001b[0m    ^\u001b[0m\n\u001b[0;31mIndentationError\u001b[0m\u001b[0;31m:\u001b[0m unexpected indent\n"
     ]
    }
   ],
   "source": [
    "import time\n",
    "from datetime import datetime\n",
    "\n",
    "def enforcement_scrapper(start_month, start_year):\n",
    "    if start_year < 2013:\n",
    "        print(\"Please input a year >= 2013, as enforcement actions before 2013 are unavailable.\")\n",
    "        return\n",
    "\n",
    "    base_url = 'https://oig.hhs.gov/fraud/enforcement'\n",
    "    current_page = 1\n",
    "    results = []\n",
    "\n",
    "    while True:\n",
    "        url = f\"{base_url}/?page={current_page}\"\n",
    "        response = requests.get(url)\n",
    "        soup = BeautifulSoup(response.content, 'lxml')\n",
    "#titles links\n",
    "        titles = []\n",
    "        links = []\n",
    "        for h2 in soup.find_all('h2'):\n",
    "            a_tag = h2.find('a')\n",
    "            if a_tag:\n",
    "                titles.append(a_tag.get_text(strip=True))\n",
    "                links.append(\"https://oig.hhs.gov\" + a_tag['href'])\n",
    "\n",
    "        #get dates\n",
    "        dates = [span.get_text(strip=True) for span in soup.find_all('span', class_='text-base-dark padding-right-105')]\n",
    "\n",
    "        #get categories\n",
    "        categories = [\n",
    "            li.get_text(strip=True) for li in soup.find_all('li', class_='display-inline-block usa-tag text-no-lowercase text-base-darkest bg-base-lightest margin-right-1')\n",
    "        ]\n",
    "\n",
    "        for title, date, category, link in zip(titles, dates, categories, links):\n",
    "            results.append({'Title': title, 'Date': date, 'Category': category, 'Link': link})\n",
    "\n",
    "        #check if page has dates earlier than when we're looking\n",
    "        date_check = pd.to_datetime(dates, errors='coerce')\n",
    "        if date_check.min() < pd.Timestamp(datetime(start_year, start_month, 1)):\n",
    "            break\n",
    "        #Used chatgpt to debug my code here. I was using next button as a signal for some reason and switched that to instead using a date chack and the url pattern\n",
    "        current_page += 1\n",
    "\n",
    "\n",
    "        \n",
    "        time.sleep(1)\n",
    "\n",
    "    \n",
    "    scrapper = pd.DataFrame(results)\n",
    "    scrapper['Date'] = pd.to_datetime(scrapper['Date'])\n",
    "    start_date = datetime(start_year, start_month, 1)\n",
    "    scrapper = scrapper[scrapper['Date'] >= start_date]\n",
    "agencies = []\n",
    "    for link in scrapper['Link']:\n",
    "        try:\n",
    "            detail_response = requests.get(link)\n",
    "            detail_soup = BeautifulSoup(detail_response.content, 'lxml')\n",
    "            # Extract agency info\n",
    "            agency = detail_soup.find('span', text='Agency:').find_next('span').get_text(strip=True)\n",
    "        except Exception as e:\n",
    "            agency = None  # Handle missing agency info gracefully\n",
    "            print(f\"Failed to fetch agency info for {link}: {e}\")\n",
    "        agencies.append(agency)\n",
    "\n",
    "        time.sleep(1)\n",
    "\n",
    "    scrapper['Agency'] = agencies\n",
    "\n",
    "    return scrapper\n",
    "twenty_three = enforcement_scrapper(1, 2023)  \n",
    "\n",
    "print(twenty_three.shape[0])"
   ]
  },
  {
   "cell_type": "code",
   "execution_count": null,
   "id": "1368168c-f269-4831-80ed-6477cfb737cf",
   "metadata": {},
   "outputs": [
    {
     "ename": "NameError",
     "evalue": "name 'agencies' is not defined",
     "output_type": "error",
     "traceback": [
      "\u001b[0;31m---------------------------------------------------------------------------\u001b[0m",
      "\u001b[0;31mNameError\u001b[0m                                 Traceback (most recent call last)",
      "Cell \u001b[0;32mIn[52], line 133\u001b[0m\n\u001b[1;32m    131\u001b[0m     scrapper[\u001b[39m'\u001b[39m\u001b[39mAgency\u001b[39m\u001b[39m'\u001b[39m] \u001b[39m=\u001b[39m agencies\n\u001b[1;32m    132\u001b[0m     \u001b[39mreturn\u001b[39;00m scrapper\n\u001b[0;32m--> 133\u001b[0m twenty_three \u001b[39m=\u001b[39m enforcement_scrapper(\u001b[39m1\u001b[39;49m, \u001b[39m2023\u001b[39;49m)  \n\u001b[1;32m    135\u001b[0m \u001b[39mprint\u001b[39m(twenty_three\u001b[39m.\u001b[39mshape[\u001b[39m0\u001b[39m])\n\u001b[1;32m    138\u001b[0m earliest_date \u001b[39m=\u001b[39m twenty_three[\u001b[39m'\u001b[39m\u001b[39mDate\u001b[39m\u001b[39m'\u001b[39m]\u001b[39m.\u001b[39mmin()\n",
      "Cell \u001b[0;32mIn[52], line 131\u001b[0m, in \u001b[0;36menforcement_scrapper\u001b[0;34m(start_month, start_year)\u001b[0m\n\u001b[1;32m    127\u001b[0m scrapper \u001b[39m=\u001b[39m scrapper[scrapper[\u001b[39m'\u001b[39m\u001b[39mDate\u001b[39m\u001b[39m'\u001b[39m] \u001b[39m>\u001b[39m\u001b[39m=\u001b[39m start_date]\n\u001b[1;32m    128\u001b[0m \u001b[39m#Have to make this at the end as I messed up and didn't have it intially\u001b[39;00m\n\u001b[0;32m--> 131\u001b[0m scrapper[\u001b[39m'\u001b[39m\u001b[39mAgency\u001b[39m\u001b[39m'\u001b[39m] \u001b[39m=\u001b[39m agencies\n\u001b[1;32m    132\u001b[0m \u001b[39mreturn\u001b[39;00m scrapper\n",
      "\u001b[0;31mNameError\u001b[0m: name 'agencies' is not defined"
     ]
    }
   ],
   "source": [
    "### SETUP \n",
    "import pandas as pd\n",
    "import altair as alt\n",
    "import time\n",
    "import os\n",
    "import warnings\n",
    "import geopandas as gpd\n",
    "import numpy as np\n",
    "import matplotlib.pyplot as plt\n",
    "warnings.filterwarnings('ignore')\n",
    "import requests\n",
    "from bs4 import BeautifulSoup\n",
    "\n",
    "\n",
    "### making soup\n",
    "url1 = 'https://oig.hhs.gov/fraud/enforcement'\n",
    "response1 = requests.get(url1)\n",
    "soup1 = BeautifulSoup(response1.content, 'lxml')\n",
    "\n",
    "### find title of enforcements\n",
    "li_blocks = soup1.find_all('h2') #h2 classes with nested 'a' titles. li_blocks[2:21] are the 20 ones\n",
    "li_titles = []\n",
    "for h2 in li_blocks:\n",
    "    # Find all 'a' tags within each 'h2' element\n",
    "    for a_tag in h2.find_all('a'):\n",
    "        li_titles.append(a_tag)\n",
    "li_titles[0:5]\n",
    "df_title = pd.DataFrame(li_titles) # dataframe with titles\n",
    "df_title.columns = ['title']\n",
    "\n",
    "### find date\n",
    "span_blocks = soup1.find_all('span', attrs={'class': 'text-base-dark padding-right-105'})\n",
    "span_blocks[0:5]\n",
    "df_date = pd.DataFrame(span_blocks) \n",
    "df_date.columns = ['date']\n",
    "#asked chat gpt 'how to i search for 'span' class with attribute xxx'\n",
    "\n",
    "### find category\n",
    "li_blocks_dt = soup1.find_all('li', attrs={'class': 'display-inline-block usa-tag text-no-lowercase text-base-darkest bg-base-lightest margin-right-1'})\n",
    "li_blocks[0:5]\n",
    "df_category = pd.DataFrame(li_blocks_dt)\n",
    "df_category.columns = ['category']\n",
    "\n",
    "### find link\n",
    "#use the list of titles from p1 and extract href\n",
    "link_blocks = [link.get('href') for link in li_titles]\n",
    "df_link = pd.DataFrame(link_blocks)\n",
    "df_link.columns = ['link']\n",
    "df_link['link'] = \"https://oig.hhs.gov\" + df_link['link']\n",
    "\n",
    "### combine dataframes\n",
    "df_Q1 = pd.concat([df_title, df_date, df_category, df_link], axis=1)\n",
    "df_Q1.head()\n",
    "\n",
    "#1) Check if the year if the year is 2013 or later if not, terminte function\n",
    "#2) Create dictionary for params and use a while loop for pagnation setting for it to break when there's no next.\n",
    "#3) Send Get request to get pages, dates, categories and links\n",
    "#4) append new info to our dictionary\n",
    "#5) wait one sec before going to the next page\n",
    "\n",
    "import time\n",
    "from datetime import datetime\n",
    "\n",
    "def enforcement_scrapper(start_month, start_year):\n",
    "    if start_year < 2013:\n",
    "        print(\"Please input a year >= 2013, as enforcement actions before 2013 are unavailable.\")\n",
    "        return\n",
    "\n",
    "    base_url = 'https://oig.hhs.gov/fraud/enforcement'\n",
    "    current_page = 1\n",
    "    results = []\n",
    "\n",
    "    while True:\n",
    "        url = f\"{base_url}/?page={current_page}\"\n",
    "        response = requests.get(url)\n",
    "        soup = BeautifulSoup(response.content, 'lxml')\n",
    "#titles links\n",
    "        titles, links, dates, categories = [], [], [], []\n",
    "\n",
    "        for h2 in soup.find_all('h2'):\n",
    "            a_tag = h2.find('a')\n",
    "            if a_tag:\n",
    "                titles.append(a_tag.get_text(strip=True))\n",
    "                links.append(\"https://oig.hhs.gov\" + a_tag['href'])\n",
    "\n",
    "        #get dates and categories\n",
    "        dates = [span.get_text(strip=True) for span in soup.find_all('span', class_='text-base-dark padding-right-105')]\n",
    "        categories = [\n",
    "            li.get_text(strip=True) for li in soup.find_all('li', class_='display-inline-block usa-tag text-no-lowercase text-base-darkest bg-base-lightest margin-right-1')\n",
    "        ]\n",
    "        date_check = pd.to_datetime(dates, errors='coerce')\n",
    "        if date_check.min() < pd.Timestamp(datetime(start_year, start_month, 1)):\n",
    "            break\n",
    "\n",
    "        #Used chatgpt to rewrite this agency extraction, its a very long story but essentially, i had it intially going back through the scraper df and click pon each link and extract the agency, which worked. However, it took an hour\n",
    "        for title, date, category, link in zip(titles, dates, categories, links):\n",
    "            try:\n",
    "                detail_response = requests.get(link)\n",
    "                detail_soup = BeautifulSoup(detail_response.content, 'lxml')\n",
    "\n",
    "                #get info on agency\n",
    "                agency_label = detail_soup.find('span', text='Agency:')\n",
    "                if agency_label and agency_label.next_sibling:\n",
    "                    agency = agency_label.next_sibling.strip()\n",
    "                else:\n",
    "                    agency = None\n",
    "            except Exception as e:\n",
    "                agency = None\n",
    "                print(f\"Failed to fetch agency info for {link}: {e}\")\n",
    "\n",
    "            #append everything\n",
    "            results.append({\n",
    "                'Title': title,\n",
    "                'Date': date,\n",
    "                'Category': category,\n",
    "                'Link': link,\n",
    "                'Agency': agency\n",
    "            })\n",
    "        #Used chatgpt to debug my code here. I was using next button as a signal for some reason and switched that to instead using a date chack and the url pattern\n",
    "        current_page += 1\n",
    "        time.sleep(.5)\n",
    "\n",
    "    \n",
    "    scrapper = pd.DataFrame(results)\n",
    "    scrapper['Date'] = pd.to_datetime(scrapper['Date'])\n",
    "    start_date = datetime(start_year, start_month, 1)\n",
    "    scrapper = scrapper[scrapper['Date'] >= start_date]\n",
    "    #Have to make this at the end as I messed up and didn't have it intially\n",
    "\n",
    "\n",
    "    scrapper['Agency'] = agencies\n",
    "    return scrapper\n",
    "twenty_three = enforcement_scrapper(1, 2023)  \n",
    "\n",
    "print(twenty_three.shape[0])\n",
    "\n",
    "\n",
    "earliest_date = twenty_three['Date'].min()\n",
    "print(f\"Earliest Date: {earliest_date.date()}\")\n",
    "\n",
    "num_enforcements = len(twenty_three)\n",
    "print(f\"Number of Enforcement Actions: {num_enforcements}\")\n",
    "\n",
    "twenty_one = enforcement_scrapper(1, 2021)\n",
    "\n",
    "num_enforcements = len(twenty_one)\n",
    "print(f\"Number of Enforcement Actions: {num_enforcements}\")\n",
    "\n",
    "earliest_action = twenty_one.loc[twenty_one['Date'].idxmin()]\n",
    "earliest_date = earliest_action['Date']\n",
    "print(f\"Earliest Date: {earliest_date.date()}\")\n",
    "print(\"Details of the Earliest Enforcement Action:\")\n",
    "print(earliest_action)\n",
    "\n",
    "import altair as alt\n",
    "\n",
    "twenty_one['Month_Year'] = twenty_one['Date'].dt.to_period('M').dt.to_timestamp()\n",
    "monthly_counts = twenty_one.groupby('Month_Year').size().reset_index(name='Count')\n",
    "\n",
    "line_agg = alt.Chart(monthly_counts).mark_line(point = True).encode(\n",
    "  x = alt.X('Month_Year', title = 'Month/Year'),\n",
    "  y = alt.Y('Count:Q', title = 'Number of Actions'),\n",
    "  tooltip=['Month_Year:T', 'Count:Q']\n",
    ").properties( title = 'Number of Enforcement Actions Over Time (Aggregated by Month-Year)')\n",
    "\n",
    "line_agg\n",
    "\n",
    "os.chdir('/Users/willsigal/Desktop')\n",
    "import geopandas as gpd\n",
    "\n",
    "state = gpd.read_file('cb_2018_us_state_500k/cb_2018_us_state_500k.shp')\n",
    "\n",
    "state_geometries = state['geometry']"
   ]
  },
  {
   "cell_type": "code",
   "execution_count": null,
   "id": "45c17139-66c5-4355-a098-3e54d120ddf0",
   "metadata": {},
   "outputs": [],
   "source": [
    "### SETUP \n",
    "import pandas as pd\n",
    "import altair as alt\n",
    "import time\n",
    "import os\n",
    "import warnings\n",
    "import geopandas as gpd\n",
    "import numpy as np\n",
    "import matplotlib.pyplot as plt\n",
    "warnings.filterwarnings('ignore')\n",
    "import requests\n",
    "from bs4 import BeautifulSoup"
   ]
  },
  {
   "cell_type": "code",
   "execution_count": null,
   "id": "8563cfa9-d3f1-427d-875f-143e6fb9aeb5",
   "metadata": {},
   "outputs": [],
   "source": [
    "### making soup\n",
    "url1 = 'https://oig.hhs.gov/fraud/enforcement'\n",
    "response1 = requests.get(url1)\n",
    "soup1 = BeautifulSoup(response1.content, 'lxml')"
   ]
  },
  {
   "cell_type": "code",
   "execution_count": null,
   "id": "a3b9622a-2fef-4837-9cd7-37827454b5c8",
   "metadata": {},
   "outputs": [],
   "source": [
    "### find title of enforcements\n",
    "li_blocks = soup1.find_all('h2') #h2 classes with nested 'a' titles. li_blocks[2:21] are the 20 ones\n",
    "li_titles = []\n",
    "for h2 in li_blocks:\n",
    "    # Find all 'a' tags within each 'h2' element\n",
    "    for a_tag in h2.find_all('a'):\n",
    "        li_titles.append(a_tag)\n",
    "li_titles[0:5]\n",
    "df_title = pd.DataFrame(li_titles) # dataframe with titles\n",
    "df_title.columns = ['title']"
   ]
  },
  {
   "cell_type": "code",
   "execution_count": null,
   "id": "689ebbee-fa57-4976-a8dc-ffef660cd65c",
   "metadata": {},
   "outputs": [],
   "source": [
    "### find category\n",
    "li_blocks_dt = soup1.find_all('li', attrs={'class': 'display-inline-block usa-tag text-no-lowercase text-base-darkest bg-base-lightest margin-right-1'})\n",
    "li_blocks[0:5]\n",
    "df_category = pd.DataFrame(li_blocks_dt)\n",
    "df_category.columns = ['category']"
   ]
  },
  {
   "cell_type": "code",
   "execution_count": null,
   "id": "511cd23b-ad41-465c-a5fb-a82d3a6b125d",
   "metadata": {},
   "outputs": [],
   "source": [
    "### find link\n",
    "#use the list of titles from p1 and extract href\n",
    "link_blocks = [link.get('href') for link in li_titles]\n",
    "df_link = pd.DataFrame(link_blocks)\n",
    "df_link.columns = ['link']\n",
    "df_link['link'] = \"https://oig.hhs.gov\" + df_link['link']"
   ]
  },
  {
   "cell_type": "code",
   "execution_count": null,
   "id": "847c81ae-e45d-4a0b-8349-9f3056d9dd3b",
   "metadata": {},
   "outputs": [
    {
     "data": {
      "text/html": [
       "<div>\n",
       "<style scoped>\n",
       "    .dataframe tbody tr th:only-of-type {\n",
       "        vertical-align: middle;\n",
       "    }\n",
       "\n",
       "    .dataframe tbody tr th {\n",
       "        vertical-align: top;\n",
       "    }\n",
       "\n",
       "    .dataframe thead th {\n",
       "        text-align: right;\n",
       "    }\n",
       "</style>\n",
       "<table border=\"1\" class=\"dataframe\">\n",
       "  <thead>\n",
       "    <tr style=\"text-align: right;\">\n",
       "      <th></th>\n",
       "      <th>title</th>\n",
       "      <th>date</th>\n",
       "      <th>category</th>\n",
       "      <th>link</th>\n",
       "    </tr>\n",
       "  </thead>\n",
       "  <tbody>\n",
       "    <tr>\n",
       "      <th>0</th>\n",
       "      <td>Pharmacist and Brother Convicted of $15M Medic...</td>\n",
       "      <td>November 8, 2024</td>\n",
       "      <td>Criminal and Civil Actions</td>\n",
       "      <td>https://oig.hhs.gov/fraud/enforcement/pharmaci...</td>\n",
       "    </tr>\n",
       "    <tr>\n",
       "      <th>1</th>\n",
       "      <td>Boise Nurse Practitioner Sentenced To 48 Month...</td>\n",
       "      <td>November 7, 2024</td>\n",
       "      <td>Criminal and Civil Actions</td>\n",
       "      <td>https://oig.hhs.gov/fraud/enforcement/boise-nu...</td>\n",
       "    </tr>\n",
       "    <tr>\n",
       "      <th>2</th>\n",
       "      <td>Former Traveling Nurse Pleads Guilty To Tamper...</td>\n",
       "      <td>November 7, 2024</td>\n",
       "      <td>Criminal and Civil Actions</td>\n",
       "      <td>https://oig.hhs.gov/fraud/enforcement/former-t...</td>\n",
       "    </tr>\n",
       "    <tr>\n",
       "      <th>3</th>\n",
       "      <td>Former Arlington Resident Sentenced To Prison ...</td>\n",
       "      <td>November 7, 2024</td>\n",
       "      <td>Criminal and Civil Actions</td>\n",
       "      <td>https://oig.hhs.gov/fraud/enforcement/former-a...</td>\n",
       "    </tr>\n",
       "    <tr>\n",
       "      <th>4</th>\n",
       "      <td>Paroled Felon Sentenced To Six Years For Fraud...</td>\n",
       "      <td>November 7, 2024</td>\n",
       "      <td>Criminal and Civil Actions</td>\n",
       "      <td>https://oig.hhs.gov/fraud/enforcement/paroled-...</td>\n",
       "    </tr>\n",
       "  </tbody>\n",
       "</table>\n",
       "</div>"
      ],
      "text/plain": [
       "                                               title              date  \\\n",
       "0  Pharmacist and Brother Convicted of $15M Medic...  November 8, 2024   \n",
       "1  Boise Nurse Practitioner Sentenced To 48 Month...  November 7, 2024   \n",
       "2  Former Traveling Nurse Pleads Guilty To Tamper...  November 7, 2024   \n",
       "3  Former Arlington Resident Sentenced To Prison ...  November 7, 2024   \n",
       "4  Paroled Felon Sentenced To Six Years For Fraud...  November 7, 2024   \n",
       "\n",
       "                     category  \\\n",
       "0  Criminal and Civil Actions   \n",
       "1  Criminal and Civil Actions   \n",
       "2  Criminal and Civil Actions   \n",
       "3  Criminal and Civil Actions   \n",
       "4  Criminal and Civil Actions   \n",
       "\n",
       "                                                link  \n",
       "0  https://oig.hhs.gov/fraud/enforcement/pharmaci...  \n",
       "1  https://oig.hhs.gov/fraud/enforcement/boise-nu...  \n",
       "2  https://oig.hhs.gov/fraud/enforcement/former-t...  \n",
       "3  https://oig.hhs.gov/fraud/enforcement/former-a...  \n",
       "4  https://oig.hhs.gov/fraud/enforcement/paroled-...  "
      ]
     },
     "execution_count": 58,
     "metadata": {},
     "output_type": "execute_result"
    }
   ],
   "source": [
    "### combine dataframes\n",
    "df_Q1 = pd.concat([df_title, df_date, df_category, df_link], axis=1)\n",
    "df_Q1.head()"
   ]
  },
  {
   "cell_type": "code",
   "execution_count": null,
   "id": "43b77c82-f286-4162-8c46-6b936838200d",
   "metadata": {},
   "outputs": [
    {
     "ename": "SyntaxError",
     "evalue": "expected 'except' or 'finally' block (<ipython-input-59-83f057ec03d3>, line 41)",
     "output_type": "error",
     "traceback": [
      "\u001b[0;36m  Cell \u001b[0;32mIn[59], line 41\u001b[0;36m\u001b[0m\n\u001b[0;31m    results.append({\u001b[0m\n\u001b[0m    ^\u001b[0m\n\u001b[0;31mSyntaxError\u001b[0m\u001b[0;31m:\u001b[0m expected 'except' or 'finally' block\n"
     ]
    }
   ],
   "source": [
    "import time\n",
    "from datetime import datetime\n",
    "\n",
    "def enforcement_scrapper(start_month, start_year):\n",
    "    if start_year < 2013:\n",
    "        print(\"Please input a year >= 2013, as enforcement actions before 2013 are unavailable.\")\n",
    "        return\n",
    "\n",
    "    base_url = 'https://oig.hhs.gov/fraud/enforcement'\n",
    "    current_page = 1\n",
    "    results = []\n",
    "\n",
    "    while True:\n",
    "        url = f\"{base_url}/?page={current_page}\"\n",
    "        response = requests.get(url)\n",
    "        soup = BeautifulSoup(response.content, 'lxml')\n",
    "#titles links\n",
    "        titles, links, dates, categories = [], [], [], []\n",
    "\n",
    "        for h2 in soup.find_all('h2'):\n",
    "            a_tag = h2.find('a')\n",
    "            if a_tag:\n",
    "                titles.append(a_tag.get_text(strip=True))\n",
    "                links.append(\"https://oig.hhs.gov\" + a_tag['href'])\n",
    "\n",
    "        #get dates and categories\n",
    "        dates = [span.get_text(strip=True) for span in soup.find_all('span', class_='text-base-dark padding-right-105')]\n",
    "        categories = [\n",
    "            li.get_text(strip=True) for li in soup.find_all('li', class_='display-inline-block usa-tag text-no-lowercase text-base-darkest bg-base-lightest margin-right-1')\n",
    "        ]\n",
    "        date_check = pd.to_datetime(dates, errors='coerce')\n",
    "        if date_check.min() < pd.Timestamp(datetime(start_year, start_month, 1)):\n",
    "            break\n",
    "\n",
    "        #Used chatgpt to rewrite this agency extraction, its a very long story but essentially, i had it intially going back through the scraper df and click pon each link and extract the agency, which worked. However, it took an hour\n",
    "        for title, date, category, link in zip(titles, dates, categories, links):\n",
    "            try:\n",
    "                detail_response = requests.get(link)\n",
    "                detail_soup = BeautifulSoup(detail_response.content, 'lxml')\n",
    "            #append everything\n",
    "            results.append({\n",
    "                'Title': title,\n",
    "                'Date': date,\n",
    "                'Category': category,\n",
    "                'Link': link\n",
    "            })\n",
    "        #Used chatgpt to debug my code here. I was using next button as a signal for some reason and switched that to instead using a date chack and the url pattern\n",
    "        current_page += 1\n",
    "        time.sleep(.5)\n",
    "\n",
    "    \n",
    "    scrapper = pd.DataFrame(results)\n",
    "    scrapper['Date'] = pd.to_datetime(scrapper['Date'])\n",
    "    start_date = datetime(start_year, start_month, 1)\n",
    "    scrapper = scrapper[scrapper['Date'] >= start_date]\n",
    "    #Have to make this at the end as I messed up and didn't have it intially\n",
    "\n",
    "\n",
    "    return scrapper\n",
    "twenty_three = enforcement_scrapper(1, 2023)  \n",
    "\n",
    "print(twenty_three.shape[0])"
   ]
  },
  {
   "cell_type": "code",
   "execution_count": null,
   "id": "c47e5fba-7232-417e-a8e9-d03924475a10",
   "metadata": {},
   "outputs": [
    {
     "ename": "KeyError",
     "evalue": "'Date'",
     "output_type": "error",
     "traceback": [
      "\u001b[0;31m---------------------------------------------------------------------------\u001b[0m",
      "\u001b[0;31mKeyError\u001b[0m                                  Traceback (most recent call last)",
      "Cell \u001b[0;32mIn[60], line 48\u001b[0m\n\u001b[1;32m     46\u001b[0m     \u001b[39m#Have to make this at the end as I messed up and didn't have it intially\u001b[39;00m\n\u001b[1;32m     47\u001b[0m     \u001b[39mreturn\u001b[39;00m scrapper\n\u001b[0;32m---> 48\u001b[0m twenty_three \u001b[39m=\u001b[39m enforcement_scrapper(\u001b[39m1\u001b[39;49m, \u001b[39m2023\u001b[39;49m)  \n\u001b[1;32m     50\u001b[0m \u001b[39mprint\u001b[39m(twenty_three\u001b[39m.\u001b[39mshape[\u001b[39m0\u001b[39m])\n",
      "Cell \u001b[0;32mIn[60], line 43\u001b[0m, in \u001b[0;36menforcement_scrapper\u001b[0;34m(start_month, start_year)\u001b[0m\n\u001b[1;32m     39\u001b[0m     time\u001b[39m.\u001b[39msleep(\u001b[39m.5\u001b[39m)\n\u001b[1;32m     42\u001b[0m scrapper \u001b[39m=\u001b[39m pd\u001b[39m.\u001b[39mDataFrame(results)\n\u001b[0;32m---> 43\u001b[0m scrapper[\u001b[39m'\u001b[39m\u001b[39mDate\u001b[39m\u001b[39m'\u001b[39m] \u001b[39m=\u001b[39m pd\u001b[39m.\u001b[39mto_datetime(scrapper[\u001b[39m'\u001b[39;49m\u001b[39mDate\u001b[39;49m\u001b[39m'\u001b[39;49m])\n\u001b[1;32m     44\u001b[0m start_date \u001b[39m=\u001b[39m datetime(start_year, start_month, \u001b[39m1\u001b[39m)\n\u001b[1;32m     45\u001b[0m scrapper \u001b[39m=\u001b[39m scrapper[scrapper[\u001b[39m'\u001b[39m\u001b[39mDate\u001b[39m\u001b[39m'\u001b[39m] \u001b[39m>\u001b[39m\u001b[39m=\u001b[39m start_date]\n",
      "File \u001b[0;32m/opt/anaconda3/lib/python3.11/site-packages/pandas/core/frame.py:3893\u001b[0m, in \u001b[0;36mDataFrame.__getitem__\u001b[0;34m(self, key)\u001b[0m\n\u001b[1;32m   3891\u001b[0m \u001b[39mif\u001b[39;00m \u001b[39mself\u001b[39m\u001b[39m.\u001b[39mcolumns\u001b[39m.\u001b[39mnlevels \u001b[39m>\u001b[39m \u001b[39m1\u001b[39m:\n\u001b[1;32m   3892\u001b[0m     \u001b[39mreturn\u001b[39;00m \u001b[39mself\u001b[39m\u001b[39m.\u001b[39m_getitem_multilevel(key)\n\u001b[0;32m-> 3893\u001b[0m indexer \u001b[39m=\u001b[39m \u001b[39mself\u001b[39;49m\u001b[39m.\u001b[39;49mcolumns\u001b[39m.\u001b[39;49mget_loc(key)\n\u001b[1;32m   3894\u001b[0m \u001b[39mif\u001b[39;00m is_integer(indexer):\n\u001b[1;32m   3895\u001b[0m     indexer \u001b[39m=\u001b[39m [indexer]\n",
      "File \u001b[0;32m/opt/anaconda3/lib/python3.11/site-packages/pandas/core/indexes/range.py:418\u001b[0m, in \u001b[0;36mRangeIndex.get_loc\u001b[0;34m(self, key)\u001b[0m\n\u001b[1;32m    416\u001b[0m         \u001b[39mraise\u001b[39;00m \u001b[39mKeyError\u001b[39;00m(key) \u001b[39mfrom\u001b[39;00m \u001b[39merr\u001b[39;00m\n\u001b[1;32m    417\u001b[0m \u001b[39mif\u001b[39;00m \u001b[39misinstance\u001b[39m(key, Hashable):\n\u001b[0;32m--> 418\u001b[0m     \u001b[39mraise\u001b[39;00m \u001b[39mKeyError\u001b[39;00m(key)\n\u001b[1;32m    419\u001b[0m \u001b[39mself\u001b[39m\u001b[39m.\u001b[39m_check_indexing_error(key)\n\u001b[1;32m    420\u001b[0m \u001b[39mraise\u001b[39;00m \u001b[39mKeyError\u001b[39;00m(key)\n",
      "\u001b[0;31mKeyError\u001b[0m: 'Date'"
     ]
    }
   ],
   "source": [
    "import time\n",
    "from datetime import datetime\n",
    "\n",
    "def enforcement_scrapper(start_month, start_year):\n",
    "    if start_year < 2013:\n",
    "        print(\"Please input a year >= 2013, as enforcement actions before 2013 are unavailable.\")\n",
    "        return\n",
    "\n",
    "    base_url = 'https://oig.hhs.gov/fraud/enforcement'\n",
    "    current_page = 1\n",
    "    results = []\n",
    "\n",
    "    while True:\n",
    "        url = f\"{base_url}/?page={current_page}\"\n",
    "        response = requests.get(url)\n",
    "        soup = BeautifulSoup(response.content, 'lxml')\n",
    "#titles links\n",
    "        titles, links, dates, categories = [], [], [], []\n",
    "\n",
    "        for h2 in soup.find_all('h2'):\n",
    "            a_tag = h2.find('a')\n",
    "            if a_tag:\n",
    "                titles.append(a_tag.get_text(strip=True))\n",
    "                links.append(\"https://oig.hhs.gov\" + a_tag['href'])\n",
    "\n",
    "        #get dates and categories\n",
    "        dates = [span.get_text(strip=True) for span in soup.find_all('span', class_='text-base-dark padding-right-105')]\n",
    "        categories = [\n",
    "            li.get_text(strip=True) for li in soup.find_all('li', class_='display-inline-block usa-tag text-no-lowercase text-base-darkest bg-base-lightest margin-right-1')\n",
    "        ]\n",
    "        date_check = pd.to_datetime(dates, errors='coerce')\n",
    "        if date_check.min() < pd.Timestamp(datetime(start_year, start_month, 1)):\n",
    "            break\n",
    "\n",
    "        #Used chatgpt to rewrite this agency extraction, its a very long story but essentially, i had it intially going back through the scraper df and click pon each link and extract the agency, which worked. However, it took an hour\n",
    "        \n",
    "        #Used chatgpt to debug my code here. I was using next button as a signal for some reason and switched that to instead using a date chack and the url pattern\n",
    "        current_page += 1\n",
    "        time.sleep(.5)\n",
    "\n",
    "    \n",
    "    scrapper = pd.DataFrame(results)\n",
    "    scrapper['Date'] = pd.to_datetime(scrapper['Date'])\n",
    "    start_date = datetime(start_year, start_month, 1)\n",
    "    scrapper = scrapper[scrapper['Date'] >= start_date]\n",
    "    #Have to make this at the end as I messed up and didn't have it intially\n",
    "    return scrapper\n",
    "twenty_three = enforcement_scrapper(1, 2023)  \n",
    "\n",
    "print(twenty_three.shape[0])"
   ]
  },
  {
   "cell_type": "code",
   "execution_count": null,
   "id": "74d7a782-b3ac-4e31-9732-2ab51c527f67",
   "metadata": {},
   "outputs": [
    {
     "ename": "",
     "evalue": "",
     "output_type": "error",
     "traceback": [
      "\u001b[1;31mCell was canceled due to an error in a previous cell."
     ]
    }
   ],
   "source": [
    "import time\n",
    "from datetime import datetime\n",
    "\n",
    "def enforcement_scrapper(start_month, start_year):\n",
    "    if start_year < 2013:\n",
    "        print(\"Please input a year >= 2013, as enforcement actions before 2013 are unavailable.\")\n",
    "        return\n",
    "\n",
    "    base_url = 'https://oig.hhs.gov/fraud/enforcement'\n",
    "    current_page = 1\n",
    "    results = []\n",
    "\n",
    "    while True:\n",
    "        url = f\"{base_url}/?page={current_page}\"\n",
    "        response = requests.get(url)\n",
    "        soup = BeautifulSoup(response.content, 'lxml')\n",
    "#titles links\n",
    "        titles = []\n",
    "        links = []\n",
    "        for h2 in soup.find_all('h2'):\n",
    "            a_tag = h2.find('a')\n",
    "            if a_tag:\n",
    "                titles.append(a_tag.get_text(strip=True))\n",
    "                links.append(\"https://oig.hhs.gov\" + a_tag['href'])\n",
    "\n",
    "        #get dates\n",
    "        dates = [span.get_text(strip=True) for span in soup.find_all('span', class_='text-base-dark padding-right-105')]\n",
    "\n",
    "        #get categories\n",
    "        categories = [\n",
    "            li.get_text(strip=True) for li in soup.find_all('li', class_='display-inline-block usa-tag text-no-lowercase text-base-darkest bg-base-lightest margin-right-1')\n",
    "        ]\n",
    "\n",
    "        for title, date, category, link in zip(titles, dates, categories, links):\n",
    "            results.append({'Title': title, 'Date': date, 'Category': category, 'Link': link})\n",
    "\n",
    "        #check if page has dates earlier than when we're looking\n",
    "        date_check = pd.to_datetime(dates, errors='coerce')\n",
    "        if date_check.min() < pd.Timestamp(datetime(start_year, start_month, 1)):\n",
    "            break\n",
    "        #Used chatgpt to debug my code here. I was using next button as a signal for some reason and switched that to instead using a date chack and the url pattern\n",
    "        current_page += 1\n",
    "\n",
    "\n",
    "        \n",
    "        time.sleep(1)\n",
    "\n",
    "    \n",
    "    scrapper = pd.DataFrame(results)\n",
    "    scrapper['Date'] = pd.to_datetime(scrapper['Date'])\n",
    "    start_date = datetime(start_year, start_month, 1)\n",
    "    scrapper = scrapper[scrapper['Date'] >= start_date]\n",
    "    return scrapper\n",
    "twenty_three = enforcement_scrapper(1, 2023)  \n",
    "\n",
    "print(twenty_three.shape[0])"
   ]
  },
  {
   "cell_type": "code",
   "execution_count": null,
   "id": "ea0740a8-d97b-4546-a6b2-8ae131c71fcd",
   "metadata": {},
   "outputs": [
    {
     "name": "stdout",
     "output_type": "stream",
     "text": [
      "1534\n"
     ]
    }
   ],
   "source": [
    "import time\n",
    "from datetime import datetime\n",
    "\n",
    "def enforcement_scrapper(start_month, start_year):\n",
    "    if start_year < 2013:\n",
    "        print(\"Please input a year >= 2013, as enforcement actions before 2013 are unavailable.\")\n",
    "        return\n",
    "\n",
    "    base_url = 'https://oig.hhs.gov/fraud/enforcement'\n",
    "    current_page = 1\n",
    "    results = []\n",
    "\n",
    "    while True:\n",
    "        url = f\"{base_url}/?page={current_page}\"\n",
    "        response = requests.get(url)\n",
    "        soup = BeautifulSoup(response.content, 'lxml')\n",
    "#titles links\n",
    "        titles = []\n",
    "        links = []\n",
    "        for h2 in soup.find_all('h2'):\n",
    "            a_tag = h2.find('a')\n",
    "            if a_tag:\n",
    "                titles.append(a_tag.get_text(strip=True))\n",
    "                links.append(\"https://oig.hhs.gov\" + a_tag['href'])\n",
    "\n",
    "        #get dates\n",
    "        dates = [span.get_text(strip=True) for span in soup.find_all('span', class_='text-base-dark padding-right-105')]\n",
    "\n",
    "        #get categories\n",
    "        categories = [\n",
    "            li.get_text(strip=True) for li in soup.find_all('li', class_='display-inline-block usa-tag text-no-lowercase text-base-darkest bg-base-lightest margin-right-1')\n",
    "        ]\n",
    "\n",
    "        for title, date, category, link in zip(titles, dates, categories, links):\n",
    "            results.append({'Title': title, 'Date': date, 'Category': category, 'Link': link})\n",
    "\n",
    "        #check if page has dates earlier than when we're looking\n",
    "        date_check = pd.to_datetime(dates, errors='coerce')\n",
    "        if date_check.min() < pd.Timestamp(datetime(start_year, start_month, 1)):\n",
    "            break\n",
    "        #Used chatgpt to debug my code here. I was using next button as a signal for some reason and switched that to instead using a date chack and the url pattern\n",
    "        current_page += 1\n",
    "\n",
    "\n",
    "        \n",
    "        time.sleep(1)\n",
    "\n",
    "    \n",
    "    scrapper = pd.DataFrame(results)\n",
    "    scrapper['Date'] = pd.to_datetime(scrapper['Date'])\n",
    "    start_date = datetime(start_year, start_month, 1)\n",
    "    scrapper = scrapper[scrapper['Date'] >= start_date]\n",
    "    return scrapper\n",
    "twenty_three = enforcement_scrapper(1, 2023)  \n",
    "\n",
    "print(twenty_three.shape[0])"
   ]
  },
  {
   "cell_type": "code",
   "execution_count": null,
   "id": "81709049-e1da-4099-8cf1-9f485f42c280",
   "metadata": {},
   "outputs": [
    {
     "name": "stdout",
     "output_type": "stream",
     "text": [
      "Earliest Date: 2023-01-03\n",
      "Number of Enforcement Actions: 1534\n"
     ]
    }
   ],
   "source": [
    "earliest_date = twenty_three['Date'].min()\n",
    "print(f\"Earliest Date: {earliest_date.date()}\")\n",
    "\n",
    "num_enforcements = len(twenty_three)\n",
    "print(f\"Number of Enforcement Actions: {num_enforcements}\")"
   ]
  },
  {
   "cell_type": "code",
   "execution_count": null,
   "id": "6bf040b8-13d1-435f-828e-280357347d92",
   "metadata": {},
   "outputs": [
    {
     "name": "stdout",
     "output_type": "stream",
     "text": [
      "Number of Enforcement Actions: 3022\n",
      "Earliest Date: 2021-01-04\n",
      "Details of the Earliest Enforcement Action:\n",
      "Title       The United States And Tennessee Resolve Claims...\n",
      "Date                                      2021-01-04 00:00:00\n",
      "Category                           Criminal and Civil Actions\n",
      "Link        https://oig.hhs.gov/fraud/enforcement/the-unit...\n",
      "Name: 3021, dtype: object\n"
     ]
    }
   ],
   "source": [
    "twenty_one = enforcement_scrapper(1, 2021)\n",
    "\n",
    "num_enforcements = len(twenty_one)\n",
    "print(f\"Number of Enforcement Actions: {num_enforcements}\")\n",
    "\n",
    "earliest_action = twenty_one.loc[twenty_one['Date'].idxmin()]\n",
    "earliest_date = earliest_action['Date']\n",
    "print(f\"Earliest Date: {earliest_date.date()}\")\n",
    "print(\"Details of the Earliest Enforcement Action:\")\n",
    "print(earliest_action)"
   ]
  },
  {
   "cell_type": "code",
   "execution_count": null,
   "id": "dfea5adf-65ca-46f5-82aa-b2d02ca697ab",
   "metadata": {},
   "outputs": [
    {
     "name": "stdout",
     "output_type": "stream",
     "text": [
      "Number of Enforcement Actions: 3022\n",
      "Earliest Date: 2021-01-04\n",
      "Details of the Earliest Enforcement Action:\n",
      "Title       The United States And Tennessee Resolve Claims...\n",
      "Date                                      2021-01-04 00:00:00\n",
      "Category                           Criminal and Civil Actions\n",
      "Link        https://oig.hhs.gov/fraud/enforcement/the-unit...\n",
      "Name: 3021, dtype: object\n"
     ]
    }
   ],
   "source": [
    "twenty_one = enforcement_scrapper(1, 2021)\n",
    "\n",
    "num_enforcements = len(twenty_one)\n",
    "print(f\"Number of Enforcement Actions: {num_enforcements}\")\n",
    "\n",
    "earliest_action = twenty_one.loc[twenty_one['Date'].idxmin()]\n",
    "earliest_date = earliest_action['Date']\n",
    "print(f\"Earliest Date: {earliest_date.date()}\")\n",
    "print(\"Details of the Earliest Enforcement Action:\")\n",
    "print(earliest_action)"
   ]
  },
  {
   "cell_type": "code",
   "execution_count": null,
   "id": "f17a4ad0-cd9f-44a8-ae90-26d792b94417",
   "metadata": {},
   "outputs": [
    {
     "name": "stdout",
     "output_type": "stream",
     "text": [
      "1534\n"
     ]
    }
   ],
   "source": [
    "import time\n",
    "from datetime import datetime\n",
    "\n",
    "def enforcement_scrapper(start_month, start_year):\n",
    "    if start_year < 2013:\n",
    "        print(\"Please input a year >= 2013, as enforcement actions before 2013 are unavailable.\")\n",
    "        return\n",
    "\n",
    "    base_url = 'https://oig.hhs.gov/fraud/enforcement'\n",
    "    current_page = 1\n",
    "    results = []\n",
    "\n",
    "    while True:\n",
    "        url = f\"{base_url}/?page={current_page}\"\n",
    "        response = requests.get(url)\n",
    "        soup = BeautifulSoup(response.content, 'lxml')\n",
    "#titles links\n",
    "        titles = []\n",
    "        links = []\n",
    "        for h2 in soup.find_all('h2'):\n",
    "            a_tag = h2.find('a')\n",
    "            if a_tag:\n",
    "                titles.append(a_tag.get_text(strip=True))\n",
    "                links.append(\"https://oig.hhs.gov\" + a_tag['href'])\n",
    "\n",
    "        #get dates\n",
    "        dates = [span.get_text(strip=True) for span in soup.find_all('span', class_='text-base-dark padding-right-105')]\n",
    "\n",
    "        #get categories\n",
    "        categories = [\n",
    "            li.get_text(strip=True) for li in soup.find_all('li', class_='display-inline-block usa-tag text-no-lowercase text-base-darkest bg-base-lightest margin-right-1')\n",
    "        ]\n",
    "\n",
    "        for title, date, category, link in zip(titles, dates, categories, links):\n",
    "            results.append({'Title': title, 'Date': date, 'Category': category, 'Link': link})\n",
    "\n",
    "        #check if page has dates earlier than when we're looking\n",
    "        date_check = pd.to_datetime(dates, errors='coerce')\n",
    "        if date_check.min() < pd.Timestamp(datetime(start_year, start_month, 1)):\n",
    "            break\n",
    "        #Used chatgpt to debug my code here. I was using next button as a signal for some reason and switched that to instead using a date chack and the url pattern\n",
    "        current_page += 1\n",
    "\n",
    "\n",
    "        \n",
    "        time.sleep(1)\n",
    "\n",
    "    \n",
    "    scrapper = pd.DataFrame(results)\n",
    "    scrapper['Date'] = pd.to_datetime(scrapper['Date'])\n",
    "    start_date = datetime(start_year, start_month, 1)\n",
    "    scrapper = scrapper[scrapper['Date'] >= start_date]\n",
    "    return scrapper\n",
    "twenty_three = enforcement_scrapper(1, 2023)  \n",
    "\n",
    "print(twenty_three.shape[0])"
   ]
  },
  {
   "cell_type": "code",
   "execution_count": null,
   "id": "851ce239-f04e-4ff1-9338-81e96b762d9a",
   "metadata": {},
   "outputs": [],
   "source": [
    "import concurrent.futures\n",
    "\n",
    "session = requests.Session()\n",
    "\n",
    "# Initialize agencies list\n",
    "agencies = []\n",
    "\n",
    "# Iterate over links\n",
    "for link in twenty_one['Link']:\n",
    "    try:\n",
    "        # Send GET request\n",
    "        response = session.get(link)\n",
    "        response.raise_for_status()  # Raise an exception for bad status codes\n",
    "\n",
    "        # Parse HTML\n",
    "        detail_soup = BeautifulSoup(response.content, 'lxml')\n",
    "\n",
    "        # Find agency label\n",
    "        agency_label = detail_soup.find('span', text='Agency:')\n",
    "        agency = agency_label.find_next(text=True).strip() if agency_label else None\n",
    "\n",
    "    except requests.exceptions.RequestException as e:\n",
    "        agency = None\n",
    "        print(f\"Couldn't fetch info for {link}: {e}\")\n",
    "    except Exception as e:\n",
    "        agency = None\n",
    "        print(f\"Unexpected error for {link}: {e}\")\n",
    "\n",
    "    agencies.append(agency)\n",
    "    time.sleep(0.5)  # Consider using a more efficient delay method\n",
    "\n",
    "twenty_one['Agency'] = agencies\n",
    "return twenty_one"
   ]
  },
  {
   "cell_type": "code",
   "execution_count": null,
   "id": "7e2dc4e2-1dac-4193-9e22-b239e382b775",
   "metadata": {},
   "outputs": [],
   "source": [
    "import concurrent.futures\n",
    "\n",
    "session = requests.Session()\n",
    "\n",
    "# Initialize agencies list\n",
    "agencies = []\n",
    "\n",
    "# Iterate over links\n",
    "for link in twenty_one['Link']:\n",
    "    try:\n",
    "        # Send GET request\n",
    "        response = session.get(link)\n",
    "        response.raise_for_status()  # Raise an exception for bad status codes\n",
    "\n",
    "        # Parse HTML\n",
    "        detail_soup = BeautifulSoup(response.content, 'lxml')\n",
    "\n",
    "        # Find agency label\n",
    "        agency_label = detail_soup.find('span', text='Agency:')\n",
    "        agency = agency_label.find_next(text=True).strip() if agency_label else None\n",
    "\n",
    "    except requests.exceptions.RequestException as e:\n",
    "        agency = None\n",
    "        print(f\"Couldn't fetch info for {link}: {e}\")\n",
    "    except Exception as e:\n",
    "        agency = None\n",
    "        print(f\"Unexpected error for {link}: {e}\")\n",
    "\n",
    "    agencies.append(agency)\n",
    "    time.sleep(0.5)  # Consider using a more efficient delay method\n",
    "\n",
    "twenty_one['Agency'] = agencies\n",
    "return twenty_one"
   ]
  },
  {
   "cell_type": "code",
   "execution_count": null,
   "id": "786e39f6-8316-43e2-a1f8-a227362f69a7",
   "metadata": {},
   "outputs": [],
   "source": [
    "import concurrent.futures\n",
    "\n",
    "session = requests.Session()\n",
    "\n",
    "# Initialize agencies list\n",
    "agencies = []\n",
    "\n",
    "# Iterate over links\n",
    "for link in twenty_one['Link']:\n",
    "    try:\n",
    "        # Send GET request\n",
    "        response = session.get(link)\n",
    "        response.raise_for_status()  # Raise an exception for bad status codes\n",
    "\n",
    "        # Parse HTML\n",
    "        detail_soup = BeautifulSoup(response.content, 'lxml')\n",
    "\n",
    "        # Find agency label\n",
    "        agency_label = detail_soup.find('span', text='Agency:')\n",
    "        agency = agency_label.find_next(text=True).strip() if agency_label else None\n",
    "\n",
    "    except requests.exceptions.RequestException as e:\n",
    "        agency = None\n",
    "        print(f\"Couldn't fetch info for {link}: {e}\")\n",
    "    except Exception as e:\n",
    "        agency = None\n",
    "        print(f\"Unexpected error for {link}: {e}\")\n",
    "\n",
    "    agencies.append(agency)\n",
    "    time.sleep(0.5)  # Consider using a more efficient delay method\n",
    "\n",
    "twenty_one['Agency'] = agencies\n",
    "return twenty_one"
   ]
  },
  {
   "cell_type": "markdown",
   "metadata": {},
   "source": [
    "Connected to base (Python 3.11.9)"
   ]
  },
  {
   "cell_type": "code",
   "execution_count": null,
   "id": "38299e73-46b5-43bb-8e51-3853f1d0fff0",
   "metadata": {
    "vscode": {
     "languageId": "quarto"
    }
   },
   "outputs": [],
   "source": [
    "### SETUP \n",
    "import pandas as pd\n",
    "import altair as alt\n",
    "import time\n",
    "import os\n",
    "import warnings\n",
    "import geopandas as gpd\n",
    "import numpy as np\n",
    "import matplotlib.pyplot as plt\n",
    "warnings.filterwarnings('ignore')\n",
    "import requests\n",
    "from bs4 import BeautifulSoup"
   ]
  },
  {
   "cell_type": "code",
   "execution_count": null,
   "id": "d2c8d490-da03-4219-b0dc-39b2949ff83c",
   "metadata": {
    "vscode": {
     "languageId": "quarto"
    }
   },
   "outputs": [],
   "source": [
    "### SETUP \n",
    "import pandas as pd\n",
    "import altair as alt\n",
    "import time\n",
    "import os\n",
    "import warnings\n",
    "import geopandas as gpd\n",
    "import numpy as np\n",
    "import matplotlib.pyplot as plt\n",
    "warnings.filterwarnings('ignore')\n",
    "import requests\n",
    "from bs4 import BeautifulSoup\n",
    "import concurrent.futures"
   ]
  },
  {
   "cell_type": "code",
   "execution_count": null,
   "id": "235f5fc2-bc6e-408d-950c-3bb766140489",
   "metadata": {
    "vscode": {
     "languageId": "quarto"
    }
   },
   "outputs": [
    {
     "ename": "NameError",
     "evalue": "name 'twenty_one' is not defined",
     "output_type": "error",
     "traceback": [
      "\u001b[0;31m---------------------------------------------------------------------------\u001b[0m",
      "\u001b[0;31mNameError\u001b[0m                                 Traceback (most recent call last)",
      "File \u001b[1;32m/Users/willsigal/Documents/GitHub/problem-set-5/ps5.qmd:21\u001b[0m\n\u001b[1;32m     18\u001b[0m     twenty_one[\u001b[39m'\u001b[39m\u001b[39mAgency\u001b[39m\u001b[39m'\u001b[39m] \u001b[39m=\u001b[39m agencies\n\u001b[1;32m     19\u001b[0m     \u001b[39mreturn\u001b[39;00m twenty_one\n\u001b[0;32m---> 21\u001b[0m main()\n",
      "File \u001b[1;32m/Users/willsigal/Documents/GitHub/problem-set-5/ps5.qmd:15\u001b[0m\n\u001b[1;32m     13\u001b[0m \u001b[39mdef\u001b[39;00m \u001b[39mmain\u001b[39m():\n\u001b[1;32m     14\u001b[0m     \u001b[39mwith\u001b[39;00m concurrent\u001b[39m.\u001b[39mfutures\u001b[39m.\u001b[39mThreadPoolExecutor(max_workers\u001b[39m=\u001b[39m\u001b[39m10\u001b[39m) \u001b[39mas\u001b[39;00m executor:\n\u001b[0;32m---> 15\u001b[0m         futures \u001b[39m=\u001b[39m {executor\u001b[39m.\u001b[39msubmit(scrape_link, link): link \u001b[39mfor\u001b[39;00m link \u001b[39min\u001b[39;00m twenty_one[\u001b[39m'\u001b[39m\u001b[39mLink\u001b[39m\u001b[39m'\u001b[39m]}\n\u001b[1;32m     16\u001b[0m         agencies \u001b[39m=\u001b[39m [future\u001b[39m.\u001b[39mresult() \u001b[39mfor\u001b[39;00m future \u001b[39min\u001b[39;00m futures]\n\u001b[1;32m     18\u001b[0m     twenty_one[\u001b[39m'\u001b[39m\u001b[39mAgency\u001b[39m\u001b[39m'\u001b[39m] \u001b[39m=\u001b[39m agencies\n",
      "\u001b[0;31mNameError\u001b[0m: name 'twenty_one' is not defined"
     ]
    }
   ],
   "source": [
    "import concurrent.futures\n",
    "def scrape_link(link):\n",
    "    try:\n",
    "        response = requests.get(link)\n",
    "        detail_soup = BeautifulSoup(response.content, 'lxml')\n",
    "        agency_label = detail_soup.find('span', text='Agency:')\n",
    "        agency = agency_label.find_next(text=True).strip() if agency_label else None\n",
    "        return agency\n",
    "    except Exception as e:\n",
    "        print(f\"Error scraping {link}: {e}\")\n",
    "        return None\n",
    "\n",
    "def main():\n",
    "    with concurrent.futures.ThreadPoolExecutor(max_workers=10) as executor:\n",
    "        futures = {executor.submit(scrape_link, link): link for link in twenty_one['Link']}\n",
    "        agencies = [future.result() for future in futures]\n",
    "\n",
    "    twenty_one['Agency'] = agencies\n",
    "    return twenty_one\n",
    "\n",
    "main()"
   ]
  },
  {
   "cell_type": "code",
   "execution_count": null,
   "id": "83df994d-4d52-4a53-ac4d-4e38a6ea78a6",
   "metadata": {
    "vscode": {
     "languageId": "quarto"
    }
   },
   "outputs": [
    {
     "name": "stdout",
     "output_type": "stream",
     "text": [
      "1534\n",
      "Earliest Date: 2023-01-03\n",
      "Number of Enforcement Actions: 1534\n",
      "Number of Enforcement Actions: 3022\n",
      "Earliest Date: 2021-01-04\n",
      "Details of the Earliest Enforcement Action:\n",
      "Title       The United States And Tennessee Resolve Claims...\n",
      "Date                                      2021-01-04 00:00:00\n",
      "Category                           Criminal and Civil Actions\n",
      "Link        https://oig.hhs.gov/fraud/enforcement/the-unit...\n",
      "Name: 3021, dtype: object\n"
     ]
    }
   ],
   "source": [
    "### SETUP \n",
    "import pandas as pd\n",
    "import altair as alt\n",
    "import time\n",
    "import os\n",
    "import warnings\n",
    "import geopandas as gpd\n",
    "import numpy as np\n",
    "import matplotlib.pyplot as plt\n",
    "warnings.filterwarnings('ignore')\n",
    "import requests\n",
    "from bs4 import BeautifulSoup\n",
    "import concurrent.futures\n",
    "\n",
    "\n",
    "### making soup\n",
    "url1 = 'https://oig.hhs.gov/fraud/enforcement'\n",
    "response1 = requests.get(url1)\n",
    "soup1 = BeautifulSoup(response1.content, 'lxml')\n",
    "\n",
    "### find title of enforcements\n",
    "li_blocks = soup1.find_all('h2') #h2 classes with nested 'a' titles. li_blocks[2:21] are the 20 ones\n",
    "li_titles = []\n",
    "for h2 in li_blocks:\n",
    "    # Find all 'a' tags within each 'h2' element\n",
    "    for a_tag in h2.find_all('a'):\n",
    "        li_titles.append(a_tag)\n",
    "li_titles[0:5]\n",
    "df_title = pd.DataFrame(li_titles) # dataframe with titles\n",
    "df_title.columns = ['title']\n",
    "\n",
    "### find date\n",
    "span_blocks = soup1.find_all('span', attrs={'class': 'text-base-dark padding-right-105'})\n",
    "span_blocks[0:5]\n",
    "df_date = pd.DataFrame(span_blocks) \n",
    "df_date.columns = ['date']\n",
    "#asked chat gpt 'how to i search for 'span' class with attribute xxx'\n",
    "\n",
    "### find category\n",
    "li_blocks_dt = soup1.find_all('li', attrs={'class': 'display-inline-block usa-tag text-no-lowercase text-base-darkest bg-base-lightest margin-right-1'})\n",
    "li_blocks[0:5]\n",
    "df_category = pd.DataFrame(li_blocks_dt)\n",
    "df_category.columns = ['category']\n",
    "\n",
    "### find link\n",
    "#use the list of titles from p1 and extract href\n",
    "link_blocks = [link.get('href') for link in li_titles]\n",
    "df_link = pd.DataFrame(link_blocks)\n",
    "df_link.columns = ['link']\n",
    "df_link['link'] = \"https://oig.hhs.gov\" + df_link['link']\n",
    "\n",
    "### combine dataframes\n",
    "df_Q1 = pd.concat([df_title, df_date, df_category, df_link], axis=1)\n",
    "df_Q1.head()\n",
    "\n",
    "#1) Check if the year if the year is 2013 or later if not, terminte function\n",
    "#2) Create dictionary for params and use a while loop for pagnation setting for it to break when there's no next.\n",
    "#3) Send Get request to get pages, dates, categories and links\n",
    "#4) append new info to our dictionary\n",
    "#5) wait one sec before going to the next page\n",
    "\n",
    "import time\n",
    "from datetime import datetime\n",
    "\n",
    "def enforcement_scrapper(start_month, start_year):\n",
    "    if start_year < 2013:\n",
    "        print(\"Please input a year >= 2013, as enforcement actions before 2013 are unavailable.\")\n",
    "        return\n",
    "\n",
    "    base_url = 'https://oig.hhs.gov/fraud/enforcement'\n",
    "    current_page = 1\n",
    "    results = []\n",
    "\n",
    "    while True:\n",
    "        url = f\"{base_url}/?page={current_page}\"\n",
    "        response = requests.get(url)\n",
    "        soup = BeautifulSoup(response.content, 'lxml')\n",
    "#titles links\n",
    "        titles = []\n",
    "        links = []\n",
    "        for h2 in soup.find_all('h2'):\n",
    "            a_tag = h2.find('a')\n",
    "            if a_tag:\n",
    "                titles.append(a_tag.get_text(strip=True))\n",
    "                links.append(\"https://oig.hhs.gov\" + a_tag['href'])\n",
    "\n",
    "        #get dates\n",
    "        dates = [span.get_text(strip=True) for span in soup.find_all('span', class_='text-base-dark padding-right-105')]\n",
    "\n",
    "        #get categories\n",
    "        categories = [\n",
    "            li.get_text(strip=True) for li in soup.find_all('li', class_='display-inline-block usa-tag text-no-lowercase text-base-darkest bg-base-lightest margin-right-1')\n",
    "        ]\n",
    "\n",
    "        for title, date, category, link in zip(titles, dates, categories, links):\n",
    "            results.append({'Title': title, 'Date': date, 'Category': category, 'Link': link})\n",
    "\n",
    "        #check if page has dates earlier than when we're looking\n",
    "        date_check = pd.to_datetime(dates, errors='coerce')\n",
    "        if date_check.min() < pd.Timestamp(datetime(start_year, start_month, 1)):\n",
    "            break\n",
    "        \n",
    "        current_page += 1\n",
    "\n",
    "\n",
    "        \n",
    "        time.sleep(1)\n",
    "\n",
    "    \n",
    "    scrapper = pd.DataFrame(results)\n",
    "    scrapper['Date'] = pd.to_datetime(scrapper['Date'])\n",
    "    start_date = datetime(start_year, start_month, 1)\n",
    "    scrapper = scrapper[scrapper['Date'] >= start_date]\n",
    "    return scrapper\n",
    "twenty_three = enforcement_scrapper(1, 2023)  \n",
    "\n",
    "print(twenty_three.shape[0])\n",
    "\n",
    "\n",
    "earliest_date = twenty_three['Date'].min()\n",
    "print(f\"Earliest Date: {earliest_date.date()}\")\n",
    "\n",
    "num_enforcements = len(twenty_three)\n",
    "print(f\"Number of Enforcement Actions: {num_enforcements}\")\n",
    "\n",
    "twenty_one = enforcement_scrapper(1, 2021)\n",
    "\n",
    "num_enforcements = len(twenty_one)\n",
    "print(f\"Number of Enforcement Actions: {num_enforcements}\")\n",
    "\n",
    "earliest_action = twenty_one.loc[twenty_one['Date'].idxmin()]\n",
    "earliest_date = earliest_action['Date']\n",
    "print(f\"Earliest Date: {earliest_date.date()}\")\n",
    "print(\"Details of the Earliest Enforcement Action:\")\n",
    "print(earliest_action)"
   ]
  },
  {
   "cell_type": "code",
   "execution_count": null,
   "id": "48bd360f-8a76-4ca2-b312-553679844363",
   "metadata": {
    "vscode": {
     "languageId": "quarto"
    }
   },
   "outputs": [
    {
     "data": {
      "text/html": [
       "<div>\n",
       "<style scoped>\n",
       "    .dataframe tbody tr th:only-of-type {\n",
       "        vertical-align: middle;\n",
       "    }\n",
       "\n",
       "    .dataframe tbody tr th {\n",
       "        vertical-align: top;\n",
       "    }\n",
       "\n",
       "    .dataframe thead th {\n",
       "        text-align: right;\n",
       "    }\n",
       "</style>\n",
       "<table border=\"1\" class=\"dataframe\">\n",
       "  <thead>\n",
       "    <tr style=\"text-align: right;\">\n",
       "      <th></th>\n",
       "      <th>Title</th>\n",
       "      <th>Date</th>\n",
       "      <th>Category</th>\n",
       "      <th>Link</th>\n",
       "      <th>Agency</th>\n",
       "    </tr>\n",
       "  </thead>\n",
       "  <tbody>\n",
       "    <tr>\n",
       "      <th>0</th>\n",
       "      <td>Pharmacist and Brother Convicted of $15M Medic...</td>\n",
       "      <td>2024-11-08</td>\n",
       "      <td>Criminal and Civil Actions</td>\n",
       "      <td>https://oig.hhs.gov/fraud/enforcement/pharmaci...</td>\n",
       "      <td>Agency:</td>\n",
       "    </tr>\n",
       "    <tr>\n",
       "      <th>1</th>\n",
       "      <td>Boise Nurse Practitioner Sentenced To 48 Month...</td>\n",
       "      <td>2024-11-07</td>\n",
       "      <td>Criminal and Civil Actions</td>\n",
       "      <td>https://oig.hhs.gov/fraud/enforcement/boise-nu...</td>\n",
       "      <td>Agency:</td>\n",
       "    </tr>\n",
       "    <tr>\n",
       "      <th>2</th>\n",
       "      <td>Former Traveling Nurse Pleads Guilty To Tamper...</td>\n",
       "      <td>2024-11-07</td>\n",
       "      <td>Criminal and Civil Actions</td>\n",
       "      <td>https://oig.hhs.gov/fraud/enforcement/former-t...</td>\n",
       "      <td>Agency:</td>\n",
       "    </tr>\n",
       "    <tr>\n",
       "      <th>3</th>\n",
       "      <td>Former Arlington Resident Sentenced To Prison ...</td>\n",
       "      <td>2024-11-07</td>\n",
       "      <td>Criminal and Civil Actions</td>\n",
       "      <td>https://oig.hhs.gov/fraud/enforcement/former-a...</td>\n",
       "      <td>Agency:</td>\n",
       "    </tr>\n",
       "    <tr>\n",
       "      <th>4</th>\n",
       "      <td>Paroled Felon Sentenced To Six Years For Fraud...</td>\n",
       "      <td>2024-11-07</td>\n",
       "      <td>Criminal and Civil Actions</td>\n",
       "      <td>https://oig.hhs.gov/fraud/enforcement/paroled-...</td>\n",
       "      <td>Agency:</td>\n",
       "    </tr>\n",
       "    <tr>\n",
       "      <th>...</th>\n",
       "      <td>...</td>\n",
       "      <td>...</td>\n",
       "      <td>...</td>\n",
       "      <td>...</td>\n",
       "      <td>...</td>\n",
       "    </tr>\n",
       "    <tr>\n",
       "      <th>3017</th>\n",
       "      <td>Anchorage Doctor Sentenced For Prescribing Med...</td>\n",
       "      <td>2021-01-06</td>\n",
       "      <td>Criminal and Civil Actions</td>\n",
       "      <td>https://oig.hhs.gov/fraud/enforcement/anchorag...</td>\n",
       "      <td>Agency:</td>\n",
       "    </tr>\n",
       "    <tr>\n",
       "      <th>3018</th>\n",
       "      <td>California Genetic Testing Lab Agrees to Pay $...</td>\n",
       "      <td>2021-01-06</td>\n",
       "      <td>Criminal and Civil Actions</td>\n",
       "      <td>https://oig.hhs.gov/fraud/enforcement/californ...</td>\n",
       "      <td>Agency:</td>\n",
       "    </tr>\n",
       "    <tr>\n",
       "      <th>3019</th>\n",
       "      <td>Barrington Terrace of Boynton Beach Agreed to ...</td>\n",
       "      <td>2021-01-06</td>\n",
       "      <td>Fraud Self-Disclosures</td>\n",
       "      <td>https://oig.hhs.gov/fraud/enforcement/barringt...</td>\n",
       "      <td>None</td>\n",
       "    </tr>\n",
       "    <tr>\n",
       "      <th>3020</th>\n",
       "      <td>Camden County Man Admits Trafficking in Oxycod...</td>\n",
       "      <td>2021-01-05</td>\n",
       "      <td>Criminal and Civil Actions</td>\n",
       "      <td>https://oig.hhs.gov/fraud/enforcement/camden-c...</td>\n",
       "      <td>Agency:</td>\n",
       "    </tr>\n",
       "    <tr>\n",
       "      <th>3021</th>\n",
       "      <td>The United States And Tennessee Resolve Claims...</td>\n",
       "      <td>2021-01-04</td>\n",
       "      <td>Criminal and Civil Actions</td>\n",
       "      <td>https://oig.hhs.gov/fraud/enforcement/the-unit...</td>\n",
       "      <td>Agency:</td>\n",
       "    </tr>\n",
       "  </tbody>\n",
       "</table>\n",
       "<p>3022 rows × 5 columns</p>\n",
       "</div>"
      ],
      "text/plain": [
       "                                                  Title       Date  \\\n",
       "0     Pharmacist and Brother Convicted of $15M Medic... 2024-11-08   \n",
       "1     Boise Nurse Practitioner Sentenced To 48 Month... 2024-11-07   \n",
       "2     Former Traveling Nurse Pleads Guilty To Tamper... 2024-11-07   \n",
       "3     Former Arlington Resident Sentenced To Prison ... 2024-11-07   \n",
       "4     Paroled Felon Sentenced To Six Years For Fraud... 2024-11-07   \n",
       "...                                                 ...        ...   \n",
       "3017  Anchorage Doctor Sentenced For Prescribing Med... 2021-01-06   \n",
       "3018  California Genetic Testing Lab Agrees to Pay $... 2021-01-06   \n",
       "3019  Barrington Terrace of Boynton Beach Agreed to ... 2021-01-06   \n",
       "3020  Camden County Man Admits Trafficking in Oxycod... 2021-01-05   \n",
       "3021  The United States And Tennessee Resolve Claims... 2021-01-04   \n",
       "\n",
       "                        Category  \\\n",
       "0     Criminal and Civil Actions   \n",
       "1     Criminal and Civil Actions   \n",
       "2     Criminal and Civil Actions   \n",
       "3     Criminal and Civil Actions   \n",
       "4     Criminal and Civil Actions   \n",
       "...                          ...   \n",
       "3017  Criminal and Civil Actions   \n",
       "3018  Criminal and Civil Actions   \n",
       "3019      Fraud Self-Disclosures   \n",
       "3020  Criminal and Civil Actions   \n",
       "3021  Criminal and Civil Actions   \n",
       "\n",
       "                                                   Link   Agency  \n",
       "0     https://oig.hhs.gov/fraud/enforcement/pharmaci...  Agency:  \n",
       "1     https://oig.hhs.gov/fraud/enforcement/boise-nu...  Agency:  \n",
       "2     https://oig.hhs.gov/fraud/enforcement/former-t...  Agency:  \n",
       "3     https://oig.hhs.gov/fraud/enforcement/former-a...  Agency:  \n",
       "4     https://oig.hhs.gov/fraud/enforcement/paroled-...  Agency:  \n",
       "...                                                 ...      ...  \n",
       "3017  https://oig.hhs.gov/fraud/enforcement/anchorag...  Agency:  \n",
       "3018  https://oig.hhs.gov/fraud/enforcement/californ...  Agency:  \n",
       "3019  https://oig.hhs.gov/fraud/enforcement/barringt...     None  \n",
       "3020  https://oig.hhs.gov/fraud/enforcement/camden-c...  Agency:  \n",
       "3021  https://oig.hhs.gov/fraud/enforcement/the-unit...  Agency:  \n",
       "\n",
       "[3022 rows x 5 columns]"
      ]
     },
     "execution_count": 5,
     "metadata": {},
     "output_type": "execute_result"
    }
   ],
   "source": [
    "import concurrent.futures\n",
    "def scrape_link(link):\n",
    "    try:\n",
    "        response = requests.get(link)\n",
    "        detail_soup = BeautifulSoup(response.content, 'lxml')\n",
    "        agency_label = detail_soup.find('span', text='Agency:')\n",
    "        agency = agency_label.find_next(text=True).strip() if agency_label else None\n",
    "        return agency\n",
    "    except Exception as e:\n",
    "        print(f\"Error scraping {link}: {e}\")\n",
    "        return None\n",
    "\n",
    "def main():\n",
    "    with concurrent.futures.ThreadPoolExecutor(max_workers=10) as executor:\n",
    "        futures = {executor.submit(scrape_link, link): link for link in twenty_one['Link']}\n",
    "        agencies = [future.result() for future in futures]\n",
    "\n",
    "    twenty_one['Agency'] = agencies\n",
    "    return twenty_one\n",
    "\n",
    "main()"
   ]
  },
  {
   "cell_type": "code",
   "execution_count": null,
   "id": "7694e395-a2a0-4f74-af28-581dba66cb89",
   "metadata": {
    "vscode": {
     "languageId": "quarto"
    }
   },
   "outputs": [
    {
     "data": {
      "text/html": [
       "<div>\n",
       "<style scoped>\n",
       "    .dataframe tbody tr th:only-of-type {\n",
       "        vertical-align: middle;\n",
       "    }\n",
       "\n",
       "    .dataframe tbody tr th {\n",
       "        vertical-align: top;\n",
       "    }\n",
       "\n",
       "    .dataframe thead th {\n",
       "        text-align: right;\n",
       "    }\n",
       "</style>\n",
       "<table border=\"1\" class=\"dataframe\">\n",
       "  <thead>\n",
       "    <tr style=\"text-align: right;\">\n",
       "      <th></th>\n",
       "      <th>Title</th>\n",
       "      <th>Date</th>\n",
       "      <th>Category</th>\n",
       "      <th>Link</th>\n",
       "      <th>Agency</th>\n",
       "    </tr>\n",
       "  </thead>\n",
       "  <tbody>\n",
       "    <tr>\n",
       "      <th>0</th>\n",
       "      <td>Pharmacist and Brother Convicted of $15M Medic...</td>\n",
       "      <td>2024-11-08</td>\n",
       "      <td>Criminal and Civil Actions</td>\n",
       "      <td>https://oig.hhs.gov/fraud/enforcement/pharmaci...</td>\n",
       "      <td>Agency:</td>\n",
       "    </tr>\n",
       "    <tr>\n",
       "      <th>1</th>\n",
       "      <td>Boise Nurse Practitioner Sentenced To 48 Month...</td>\n",
       "      <td>2024-11-07</td>\n",
       "      <td>Criminal and Civil Actions</td>\n",
       "      <td>https://oig.hhs.gov/fraud/enforcement/boise-nu...</td>\n",
       "      <td>Agency:</td>\n",
       "    </tr>\n",
       "    <tr>\n",
       "      <th>2</th>\n",
       "      <td>Former Traveling Nurse Pleads Guilty To Tamper...</td>\n",
       "      <td>2024-11-07</td>\n",
       "      <td>Criminal and Civil Actions</td>\n",
       "      <td>https://oig.hhs.gov/fraud/enforcement/former-t...</td>\n",
       "      <td>Agency:</td>\n",
       "    </tr>\n",
       "    <tr>\n",
       "      <th>3</th>\n",
       "      <td>Former Arlington Resident Sentenced To Prison ...</td>\n",
       "      <td>2024-11-07</td>\n",
       "      <td>Criminal and Civil Actions</td>\n",
       "      <td>https://oig.hhs.gov/fraud/enforcement/former-a...</td>\n",
       "      <td>Agency:</td>\n",
       "    </tr>\n",
       "    <tr>\n",
       "      <th>4</th>\n",
       "      <td>Paroled Felon Sentenced To Six Years For Fraud...</td>\n",
       "      <td>2024-11-07</td>\n",
       "      <td>Criminal and Civil Actions</td>\n",
       "      <td>https://oig.hhs.gov/fraud/enforcement/paroled-...</td>\n",
       "      <td>Agency:</td>\n",
       "    </tr>\n",
       "    <tr>\n",
       "      <th>...</th>\n",
       "      <td>...</td>\n",
       "      <td>...</td>\n",
       "      <td>...</td>\n",
       "      <td>...</td>\n",
       "      <td>...</td>\n",
       "    </tr>\n",
       "    <tr>\n",
       "      <th>3017</th>\n",
       "      <td>Anchorage Doctor Sentenced For Prescribing Med...</td>\n",
       "      <td>2021-01-06</td>\n",
       "      <td>Criminal and Civil Actions</td>\n",
       "      <td>https://oig.hhs.gov/fraud/enforcement/anchorag...</td>\n",
       "      <td>Agency:</td>\n",
       "    </tr>\n",
       "    <tr>\n",
       "      <th>3018</th>\n",
       "      <td>California Genetic Testing Lab Agrees to Pay $...</td>\n",
       "      <td>2021-01-06</td>\n",
       "      <td>Criminal and Civil Actions</td>\n",
       "      <td>https://oig.hhs.gov/fraud/enforcement/californ...</td>\n",
       "      <td>Agency:</td>\n",
       "    </tr>\n",
       "    <tr>\n",
       "      <th>3019</th>\n",
       "      <td>Barrington Terrace of Boynton Beach Agreed to ...</td>\n",
       "      <td>2021-01-06</td>\n",
       "      <td>Fraud Self-Disclosures</td>\n",
       "      <td>https://oig.hhs.gov/fraud/enforcement/barringt...</td>\n",
       "      <td>None</td>\n",
       "    </tr>\n",
       "    <tr>\n",
       "      <th>3020</th>\n",
       "      <td>Camden County Man Admits Trafficking in Oxycod...</td>\n",
       "      <td>2021-01-05</td>\n",
       "      <td>Criminal and Civil Actions</td>\n",
       "      <td>https://oig.hhs.gov/fraud/enforcement/camden-c...</td>\n",
       "      <td>Agency:</td>\n",
       "    </tr>\n",
       "    <tr>\n",
       "      <th>3021</th>\n",
       "      <td>The United States And Tennessee Resolve Claims...</td>\n",
       "      <td>2021-01-04</td>\n",
       "      <td>Criminal and Civil Actions</td>\n",
       "      <td>https://oig.hhs.gov/fraud/enforcement/the-unit...</td>\n",
       "      <td>Agency:</td>\n",
       "    </tr>\n",
       "  </tbody>\n",
       "</table>\n",
       "<p>3022 rows × 5 columns</p>\n",
       "</div>"
      ],
      "text/plain": [
       "                                                  Title       Date  \\\n",
       "0     Pharmacist and Brother Convicted of $15M Medic... 2024-11-08   \n",
       "1     Boise Nurse Practitioner Sentenced To 48 Month... 2024-11-07   \n",
       "2     Former Traveling Nurse Pleads Guilty To Tamper... 2024-11-07   \n",
       "3     Former Arlington Resident Sentenced To Prison ... 2024-11-07   \n",
       "4     Paroled Felon Sentenced To Six Years For Fraud... 2024-11-07   \n",
       "...                                                 ...        ...   \n",
       "3017  Anchorage Doctor Sentenced For Prescribing Med... 2021-01-06   \n",
       "3018  California Genetic Testing Lab Agrees to Pay $... 2021-01-06   \n",
       "3019  Barrington Terrace of Boynton Beach Agreed to ... 2021-01-06   \n",
       "3020  Camden County Man Admits Trafficking in Oxycod... 2021-01-05   \n",
       "3021  The United States And Tennessee Resolve Claims... 2021-01-04   \n",
       "\n",
       "                        Category  \\\n",
       "0     Criminal and Civil Actions   \n",
       "1     Criminal and Civil Actions   \n",
       "2     Criminal and Civil Actions   \n",
       "3     Criminal and Civil Actions   \n",
       "4     Criminal and Civil Actions   \n",
       "...                          ...   \n",
       "3017  Criminal and Civil Actions   \n",
       "3018  Criminal and Civil Actions   \n",
       "3019      Fraud Self-Disclosures   \n",
       "3020  Criminal and Civil Actions   \n",
       "3021  Criminal and Civil Actions   \n",
       "\n",
       "                                                   Link   Agency  \n",
       "0     https://oig.hhs.gov/fraud/enforcement/pharmaci...  Agency:  \n",
       "1     https://oig.hhs.gov/fraud/enforcement/boise-nu...  Agency:  \n",
       "2     https://oig.hhs.gov/fraud/enforcement/former-t...  Agency:  \n",
       "3     https://oig.hhs.gov/fraud/enforcement/former-a...  Agency:  \n",
       "4     https://oig.hhs.gov/fraud/enforcement/paroled-...  Agency:  \n",
       "...                                                 ...      ...  \n",
       "3017  https://oig.hhs.gov/fraud/enforcement/anchorag...  Agency:  \n",
       "3018  https://oig.hhs.gov/fraud/enforcement/californ...  Agency:  \n",
       "3019  https://oig.hhs.gov/fraud/enforcement/barringt...     None  \n",
       "3020  https://oig.hhs.gov/fraud/enforcement/camden-c...  Agency:  \n",
       "3021  https://oig.hhs.gov/fraud/enforcement/the-unit...  Agency:  \n",
       "\n",
       "[3022 rows x 5 columns]"
      ]
     },
     "execution_count": 6,
     "metadata": {},
     "output_type": "execute_result"
    }
   ],
   "source": [
    "#my code was taking me far far too long and so I used chat gpt to find how I can increase the speed of my crawler\n",
    "import concurrent.futures\n",
    "def scrape_link(link):\n",
    "    try:\n",
    "        response = requests.get(link)\n",
    "        detail_soup = BeautifulSoup(response.content, 'lxml')\n",
    "        agency_label = detail_soup.find('span', class_='padding-right-2 text-base', text='Agency:')\n",
    "        agency = agency_label.find_next(text=True).strip() if agency_label else None\n",
    "        return agency\n",
    "    except Exception as e:\n",
    "        print(f\"Error scraping {link}: {e}\")\n",
    "        return None\n",
    "\n",
    "def main():\n",
    "    with concurrent.futures.ThreadPoolExecutor(max_workers=10) as executor:\n",
    "        futures = {executor.submit(scrape_link, link): link for link in twenty_one['Link']}\n",
    "        agencies = [future.result() for future in futures]\n",
    "\n",
    "    twenty_one['Agency'] = agencies\n",
    "    return twenty_one\n",
    "\n",
    "main()"
   ]
  },
  {
   "cell_type": "code",
   "execution_count": null,
   "id": "8f854d87-f53c-499c-887d-6cb92319521b",
   "metadata": {
    "vscode": {
     "languageId": "quarto"
    }
   },
   "outputs": [
    {
     "name": "stdout",
     "output_type": "stream",
     "text": [
      "Error scraping https://oig.hhs.gov/fraud/enforcement/attorney-general-cameron-announces-investigation-prosecution-by-his-office-leads-to-conviction-of-laurel-county-woman-for-medicaid-fraud/: HTTPSConnectionPool(host='oig.hhs.gov', port=443): Read timed out. (read timeout=None)\n",
      "Error scraping https://oig.hhs.gov/fraud/enforcement/raleigh-county-man-sentenced-for-conspiracy-to-obstruct-justice-defendant-sentenced-for-conspiracy-to-fake-his-wifes-death-at-the-new-river-gorge/: HTTPSConnectionPool(host='oig.hhs.gov', port=443): Max retries exceeded with url: /fraud/enforcement/raleigh-county-man-sentenced-for-conspiracy-to-obstruct-justice-defendant-sentenced-for-conspiracy-to-fake-his-wifes-death-at-the-new-river-gorge/ (Caused by ConnectTimeoutError(<urllib3.connection.HTTPSConnection object at 0x176d25d90>, 'Connection to oig.hhs.gov timed out. (connect timeout=None)'))\n"
     ]
    }
   ],
   "source": [
    "#my code was taking me far far too long and so I used chat gpt to find how I can increase the speed of my crawler\n",
    "import concurrent.futures\n",
    "def scrape_link(link):\n",
    "    try:\n",
    "        response = requests.get(link)\n",
    "        detail_soup = BeautifulSoup(response.content, 'lxml')\n",
    "        agency_label = detail_soup.find('span', class_='padding-right-2 text-base', text='Agency:')\n",
    "        if agency_label:\n",
    "            # Get the actual text that follows the Agency: label\n",
    "            agency_text = agency_label.next_sibling\n",
    "            if agency_text:\n",
    "                return agency_text.strip()\n",
    "        return None\n",
    "    except Exception as e:\n",
    "        print(f\"Error scraping {link}: {e}\")\n",
    "        return None\n",
    "\n",
    "def main():\n",
    "    with concurrent.futures.ThreadPoolExecutor(max_workers=10) as executor:\n",
    "        futures = {executor.submit(scrape_link, link): link for link in twenty_one['Link']}\n",
    "        agencies = [future.result() for future in futures]\n",
    "\n",
    "    twenty_one['Agency'] = agencies\n",
    "    return twenty_one\n",
    "\n",
    "results = main()"
   ]
  },
  {
   "cell_type": "code",
   "execution_count": null,
   "id": "31a20d25-48fc-4cdb-8f5f-90f495558d2d",
   "metadata": {
    "vscode": {
     "languageId": "quarto"
    }
   },
   "outputs": [
    {
     "name": "stdout",
     "output_type": "stream",
     "text": [
      "Number of Enforcement Actions: 3022\n",
      "Earliest Date: 2021-01-04\n",
      "Details of the Earliest Enforcement Action:\n",
      "Title       The United States And Tennessee Resolve Claims...\n",
      "Date                                      2021-01-04 00:00:00\n",
      "Category                           Criminal and Civil Actions\n",
      "Link        https://oig.hhs.gov/fraud/enforcement/the-unit...\n",
      "Agency      U.S. Attorney's Office, Middle District of Ten...\n",
      "Name: 3021, dtype: object\n"
     ]
    }
   ],
   "source": [
    "print(f\"Number of Enforcement Actions: {num_enforcements}\")\n",
    "\n",
    "earliest_action = twenty_one.loc[twenty_one['Date'].idxmin()]\n",
    "earliest_date = earliest_action['Date']\n",
    "print(f\"Earliest Date: {earliest_date.date()}\")\n",
    "print(\"Details of the Earliest Enforcement Action:\")\n",
    "print(earliest_action)"
   ]
  },
  {
   "cell_type": "code",
   "execution_count": null,
   "id": "ba70f9c6-7d23-4aea-bf74-0ff3be4c7d25",
   "metadata": {
    "vscode": {
     "languageId": "quarto"
    }
   },
   "outputs": [
    {
     "name": "stdout",
     "output_type": "stream",
     "text": [
      "Number of Enforcement Actions: 3022\n",
      "Earliest Date: 2021-01-04\n",
      "Details of the Earliest Enforcement Action:\n",
      "Title       The United States And Tennessee Resolve Claims...\n",
      "Date                                      2021-01-04 00:00:00\n",
      "Category                           Criminal and Civil Actions\n",
      "Link        https://oig.hhs.gov/fraud/enforcement/the-unit...\n",
      "Agency      U.S. Attorney's Office, Middle District of Ten...\n",
      "Name: 3021, dtype: object\n"
     ]
    }
   ],
   "source": [
    "print(f\"Number of Enforcement Actions: {num_enforcements}\")\n",
    "\n",
    "earliest_action = twenty_one.loc[twenty_one['Date'].idxmin()]\n",
    "earliest_date = earliest_action['Date']\n",
    "print(f\"Earliest Date: {earliest_date.date()}\")\n",
    "print(\"Details of the Earliest Enforcement Action:\")\n",
    "print(earliest_action)"
   ]
  },
  {
   "cell_type": "code",
   "execution_count": null,
   "id": "b13b5f32-7413-40b2-bfac-9e44f34a16ef",
   "metadata": {
    "vscode": {
     "languageId": "quarto"
    }
   },
   "outputs": [
    {
     "name": "stdout",
     "output_type": "stream",
     "text": [
      "Number of Enforcement Actions: 3022\n",
      "Earliest Date: 2021-01-04\n",
      "Details of the Earliest Enforcement Action:\n",
      "Title       The United States And Tennessee Resolve Claims...\n",
      "Date                                      2021-01-04 00:00:00\n",
      "Category                           Criminal and Civil Actions\n",
      "Link        https://oig.hhs.gov/fraud/enforcement/the-unit...\n",
      "Agency      U.S. Attorney's Office, Middle District of Ten...\n",
      "Name: 3021, dtype: object\n"
     ]
    }
   ],
   "source": [
    "print(f\"Number of Enforcement Actions: {num_enforcements}\")\n",
    "\n",
    "earliest_action = twenty_one.loc[twenty_one['Date'].idxmin()]\n",
    "earliest_date = earliest_action['Date']\n",
    "print(f\"Earliest Date: {earliest_date.date()}\")\n",
    "print(\"Details of the Earliest Enforcement Action:\")\n",
    "print(earliest_action)"
   ]
  },
  {
   "cell_type": "code",
   "execution_count": null,
   "id": "bc567f55-193d-422f-ab22-a69a83325dd6",
   "metadata": {
    "vscode": {
     "languageId": "quarto"
    }
   },
   "outputs": [
    {
     "name": "stdout",
     "output_type": "stream",
     "text": [
      "Number of Enforcement Actions: 3022\n",
      "Earliest Date: 2021-01-04\n",
      "Details of the Earliest Enforcement Action:\n",
      "Title       The United States And Tennessee Resolve Claims...\n",
      "Date                                      2021-01-04 00:00:00\n",
      "Category                           Criminal and Civil Actions\n",
      "Link        https://oig.hhs.gov/fraud/enforcement/the-unit...\n",
      "Agency      U.S. Attorney's Office, Middle District of Ten...\n",
      "Name: 3021, dtype: object\n"
     ]
    }
   ],
   "source": [
    "print(f\"Number of Enforcement Actions: {num_enforcements}\")\n",
    "\n",
    "earliest_action = twenty_one.loc[twenty_one['Date'].idxmin()]\n",
    "earliest_date = earliest_action['Date']\n",
    "print(f\"Earliest Date: {earliest_date.date()}\")\n",
    "print(\"Details of the Earliest Enforcement Action:\")\n",
    "print(earliest_action)"
   ]
  },
  {
   "cell_type": "code",
   "execution_count": null,
   "id": "e2cfc18c-cee5-4dcc-9a9c-558f73d745f9",
   "metadata": {
    "vscode": {
     "languageId": "quarto"
    }
   },
   "outputs": [
    {
     "name": "stdout",
     "output_type": "stream",
     "text": [
      "Number of Enforcement Actions: 3022\n",
      "Earliest Date: 2021-01-04\n",
      "Details of the Earliest Enforcement Action:\n",
      "Title       The United States And Tennessee Resolve Claims...\n",
      "Date                                      2021-01-04 00:00:00\n",
      "Category                           Criminal and Civil Actions\n",
      "Link        https://oig.hhs.gov/fraud/enforcement/the-unit...\n",
      "Agency      U.S. Attorney's Office, Middle District of Ten...\n",
      "Name: 3021, dtype: object\n"
     ]
    }
   ],
   "source": [
    "print(f\"Number of Enforcement Actions: {num_enforcements}\")\n",
    "\n",
    "earliest_action = twenty_one.loc[twenty_one['Date'].idxmin()]\n",
    "earliest_date = earliest_action['Date']\n",
    "print(f\"Earliest Date: {earliest_date.date()}\")\n",
    "print(\"Details of the Earliest Enforcement Action:\")\n",
    "print(earliest_action)"
   ]
  },
  {
   "cell_type": "code",
   "execution_count": null,
   "id": "0963a30a-7302-4ebc-bfd1-fb366984e891",
   "metadata": {
    "vscode": {
     "languageId": "quarto"
    }
   },
   "outputs": [
    {
     "name": "stdout",
     "output_type": "stream",
     "text": [
      "Number of Enforcement Actions: 3022\n",
      "Earliest Date: 2021-01-04\n",
      "Details of the Earliest Enforcement Action:\n",
      "Title       The United States And Tennessee Resolve Claims...\n",
      "Date                                      2021-01-04 00:00:00\n",
      "Category                           Criminal and Civil Actions\n",
      "Link        https://oig.hhs.gov/fraud/enforcement/the-unit...\n",
      "Agency      U.S. Attorney's Office, Middle District of Ten...\n",
      "Name: 3021, dtype: object\n"
     ]
    }
   ],
   "source": [
    "print(f\"Number of Enforcement Actions: {num_enforcements}\")\n",
    "\n",
    "earliest_action = twenty_one.loc[twenty_one['Date'].idxmin()]\n",
    "earliest_date = earliest_action['Date']\n",
    "print(f\"Earliest Date: {earliest_date.date()}\")\n",
    "print(\"Details of the Earliest Enforcement Action:\")\n",
    "print(earliest_action)"
   ]
  },
  {
   "cell_type": "code",
   "execution_count": null,
   "id": "24fb205c-d0f8-4bd6-98ed-dace287c4003",
   "metadata": {
    "vscode": {
     "languageId": "quarto"
    }
   },
   "outputs": [
    {
     "name": "stdout",
     "output_type": "stream",
     "text": [
      "Number of Enforcement Actions: 3022\n",
      "Earliest Date: 2021-01-04\n",
      "Details of the Earliest Enforcement Action:\n",
      "Title       The United States And Tennessee Resolve Claims...\n",
      "Date                                      2021-01-04 00:00:00\n",
      "Category                           Criminal and Civil Actions\n",
      "Link        https://oig.hhs.gov/fraud/enforcement/the-unit...\n",
      "Agency      U.S. Attorney's Office, Middle District of Ten...\n",
      "Name: 3021, dtype: object\n"
     ]
    }
   ],
   "source": [
    "print(f\"Number of Enforcement Actions: {num_enforcements}\")\n",
    "\n",
    "earliest_action = twenty_one.loc[twenty_one['Date'].idxmin()]\n",
    "earliest_date = earliest_action['Date']\n",
    "print(f\"Earliest Date: {earliest_date.date()}\")\n",
    "print(\"Details of the Earliest Enforcement Action:\")\n",
    "print(earliest_action)"
   ]
  },
  {
   "cell_type": "code",
   "execution_count": null,
   "id": "6e6e5da5-74e8-4053-ab12-a3f1f1b4f72f",
   "metadata": {
    "vscode": {
     "languageId": "quarto"
    }
   },
   "outputs": [
    {
     "ename": "DataSourceError",
     "evalue": "cb_2018_us_state_500k/cb_2018_us_state_500k.shp: No such file or directory",
     "output_type": "error",
     "traceback": [
      "\u001b[0;31m---------------------------------------------------------------------------\u001b[0m",
      "\u001b[0;31mDataSourceError\u001b[0m                           Traceback (most recent call last)",
      "File \u001b[1;32m/Users/willsigal/Documents/GitHub/problem-set-5/ps5.qmd:1\u001b[0m\n\u001b[0;32m----> 1\u001b[0m state \u001b[39m=\u001b[39m gpd\u001b[39m.\u001b[39;49mread_file(\u001b[39m'\u001b[39;49m\u001b[39mcb_2018_us_state_500k/cb_2018_us_state_500k.shp\u001b[39;49m\u001b[39m'\u001b[39;49m)\n\u001b[1;32m      3\u001b[0m state_geometries \u001b[39m=\u001b[39m state[\u001b[39m'\u001b[39m\u001b[39mgeometry\u001b[39m\u001b[39m'\u001b[39m]\n",
      "File \u001b[0;32m/opt/anaconda3/lib/python3.11/site-packages/geopandas/io/file.py:294\u001b[0m, in \u001b[0;36m_read_file\u001b[0;34m(filename, bbox, mask, columns, rows, engine, **kwargs)\u001b[0m\n\u001b[1;32m    291\u001b[0m             from_bytes \u001b[39m=\u001b[39m \u001b[39mTrue\u001b[39;00m\n\u001b[1;32m    293\u001b[0m \u001b[39mif\u001b[39;00m engine \u001b[39m==\u001b[39m \u001b[39m\"\u001b[39m\u001b[39mpyogrio\u001b[39m\u001b[39m\"\u001b[39m:\n\u001b[0;32m--> 294\u001b[0m     \u001b[39mreturn\u001b[39;00m _read_file_pyogrio(\n\u001b[1;32m    295\u001b[0m         filename, bbox\u001b[39m=\u001b[39;49mbbox, mask\u001b[39m=\u001b[39;49mmask, columns\u001b[39m=\u001b[39;49mcolumns, rows\u001b[39m=\u001b[39;49mrows, \u001b[39m*\u001b[39;49m\u001b[39m*\u001b[39;49mkwargs\n\u001b[1;32m    296\u001b[0m     )\n\u001b[1;32m    298\u001b[0m \u001b[39melif\u001b[39;00m engine \u001b[39m==\u001b[39m \u001b[39m\"\u001b[39m\u001b[39mfiona\u001b[39m\u001b[39m\"\u001b[39m:\n\u001b[1;32m    299\u001b[0m     \u001b[39mif\u001b[39;00m pd\u001b[39m.\u001b[39mapi\u001b[39m.\u001b[39mtypes\u001b[39m.\u001b[39mis_file_like(filename):\n",
      "File \u001b[0;32m/opt/anaconda3/lib/python3.11/site-packages/geopandas/io/file.py:547\u001b[0m, in \u001b[0;36m_read_file_pyogrio\u001b[0;34m(path_or_bytes, bbox, mask, rows, **kwargs)\u001b[0m\n\u001b[1;32m    538\u001b[0m     warnings\u001b[39m.\u001b[39mwarn(\n\u001b[1;32m    539\u001b[0m         \u001b[39m\"\u001b[39m\u001b[39mThe \u001b[39m\u001b[39m'\u001b[39m\u001b[39minclude_fields\u001b[39m\u001b[39m'\u001b[39m\u001b[39m and \u001b[39m\u001b[39m'\u001b[39m\u001b[39mignore_fields\u001b[39m\u001b[39m'\u001b[39m\u001b[39m keywords are deprecated, and \u001b[39m\u001b[39m\"\u001b[39m\n\u001b[1;32m    540\u001b[0m         \u001b[39m\"\u001b[39m\u001b[39mwill be removed in a future release. You can use the \u001b[39m\u001b[39m'\u001b[39m\u001b[39mcolumns\u001b[39m\u001b[39m'\u001b[39m\u001b[39m keyword \u001b[39m\u001b[39m\"\u001b[39m\n\u001b[0;32m   (...)\u001b[0m\n\u001b[1;32m    543\u001b[0m         stacklevel\u001b[39m=\u001b[39m\u001b[39m3\u001b[39m,\n\u001b[1;32m    544\u001b[0m     )\n\u001b[1;32m    545\u001b[0m     kwargs[\u001b[39m\"\u001b[39m\u001b[39mcolumns\u001b[39m\u001b[39m\"\u001b[39m] \u001b[39m=\u001b[39m kwargs\u001b[39m.\u001b[39mpop(\u001b[39m\"\u001b[39m\u001b[39minclude_fields\u001b[39m\u001b[39m\"\u001b[39m)\n\u001b[0;32m--> 547\u001b[0m \u001b[39mreturn\u001b[39;00m pyogrio\u001b[39m.\u001b[39;49mread_dataframe(path_or_bytes, bbox\u001b[39m=\u001b[39;49mbbox, \u001b[39m*\u001b[39;49m\u001b[39m*\u001b[39;49mkwargs)\n",
      "File \u001b[0;32m/opt/anaconda3/lib/python3.11/site-packages/pyogrio/geopandas.py:265\u001b[0m, in \u001b[0;36mread_dataframe\u001b[0;34m(path_or_buffer, layer, encoding, columns, read_geometry, force_2d, skip_features, max_features, where, bbox, mask, fids, sql, sql_dialect, fid_as_index, use_arrow, on_invalid, arrow_to_pandas_kwargs, **kwargs)\u001b[0m\n\u001b[1;32m    260\u001b[0m \u001b[39mif\u001b[39;00m \u001b[39mnot\u001b[39;00m use_arrow:\n\u001b[1;32m    261\u001b[0m     \u001b[39m# For arrow, datetimes are read as is.\u001b[39;00m\n\u001b[1;32m    262\u001b[0m     \u001b[39m# For numpy IO, datetimes are read as string values to preserve timezone info\u001b[39;00m\n\u001b[1;32m    263\u001b[0m     \u001b[39m# as numpy does not directly support timezones.\u001b[39;00m\n\u001b[1;32m    264\u001b[0m     kwargs[\u001b[39m\"\u001b[39m\u001b[39mdatetime_as_string\u001b[39m\u001b[39m\"\u001b[39m] \u001b[39m=\u001b[39m \u001b[39mTrue\u001b[39;00m\n\u001b[0;32m--> 265\u001b[0m result \u001b[39m=\u001b[39m read_func(\n\u001b[1;32m    266\u001b[0m     path_or_buffer,\n\u001b[1;32m    267\u001b[0m     layer\u001b[39m=\u001b[39;49mlayer,\n\u001b[1;32m    268\u001b[0m     encoding\u001b[39m=\u001b[39;49mencoding,\n\u001b[1;32m    269\u001b[0m     columns\u001b[39m=\u001b[39;49mcolumns,\n\u001b[1;32m    270\u001b[0m     read_geometry\u001b[39m=\u001b[39;49mread_geometry,\n\u001b[1;32m    271\u001b[0m     force_2d\u001b[39m=\u001b[39;49mgdal_force_2d,\n\u001b[1;32m    272\u001b[0m     skip_features\u001b[39m=\u001b[39;49mskip_features,\n\u001b[1;32m    273\u001b[0m     max_features\u001b[39m=\u001b[39;49mmax_features,\n\u001b[1;32m    274\u001b[0m     where\u001b[39m=\u001b[39;49mwhere,\n\u001b[1;32m    275\u001b[0m     bbox\u001b[39m=\u001b[39;49mbbox,\n\u001b[1;32m    276\u001b[0m     mask\u001b[39m=\u001b[39;49mmask,\n\u001b[1;32m    277\u001b[0m     fids\u001b[39m=\u001b[39;49mfids,\n\u001b[1;32m    278\u001b[0m     sql\u001b[39m=\u001b[39;49msql,\n\u001b[1;32m    279\u001b[0m     sql_dialect\u001b[39m=\u001b[39;49msql_dialect,\n\u001b[1;32m    280\u001b[0m     return_fids\u001b[39m=\u001b[39;49mfid_as_index,\n\u001b[1;32m    281\u001b[0m     \u001b[39m*\u001b[39;49m\u001b[39m*\u001b[39;49mkwargs,\n\u001b[1;32m    282\u001b[0m )\n\u001b[1;32m    284\u001b[0m \u001b[39mif\u001b[39;00m use_arrow:\n\u001b[1;32m    285\u001b[0m     meta, table \u001b[39m=\u001b[39m result\n",
      "File \u001b[0;32m/opt/anaconda3/lib/python3.11/site-packages/pyogrio/raw.py:198\u001b[0m, in \u001b[0;36mread\u001b[0;34m(path_or_buffer, layer, encoding, columns, read_geometry, force_2d, skip_features, max_features, where, bbox, mask, fids, sql, sql_dialect, return_fids, datetime_as_string, **kwargs)\u001b[0m\n\u001b[1;32m     59\u001b[0m \u001b[39m\u001b[39m\u001b[39m\"\"\"Read OGR data source into numpy arrays.\u001b[39;00m\n\u001b[1;32m     60\u001b[0m \n\u001b[1;32m     61\u001b[0m \u001b[39mIMPORTANT: non-linear geometry types (e.g., MultiSurface) are converted\u001b[39;00m\n\u001b[0;32m   (...)\u001b[0m\n\u001b[1;32m    194\u001b[0m \n\u001b[1;32m    195\u001b[0m \u001b[39m\"\"\"\u001b[39;00m\n\u001b[1;32m    196\u001b[0m dataset_kwargs \u001b[39m=\u001b[39m _preprocess_options_key_value(kwargs) \u001b[39mif\u001b[39;00m kwargs \u001b[39melse\u001b[39;00m {}\n\u001b[0;32m--> 198\u001b[0m \u001b[39mreturn\u001b[39;00m ogr_read(\n\u001b[1;32m    199\u001b[0m     get_vsi_path_or_buffer(path_or_buffer),\n\u001b[1;32m    200\u001b[0m     layer\u001b[39m=\u001b[39;49mlayer,\n\u001b[1;32m    201\u001b[0m     encoding\u001b[39m=\u001b[39;49mencoding,\n\u001b[1;32m    202\u001b[0m     columns\u001b[39m=\u001b[39;49mcolumns,\n\u001b[1;32m    203\u001b[0m     read_geometry\u001b[39m=\u001b[39;49mread_geometry,\n\u001b[1;32m    204\u001b[0m     force_2d\u001b[39m=\u001b[39;49mforce_2d,\n\u001b[1;32m    205\u001b[0m     skip_features\u001b[39m=\u001b[39;49mskip_features,\n\u001b[1;32m    206\u001b[0m     max_features\u001b[39m=\u001b[39;49mmax_features \u001b[39mor\u001b[39;49;00m \u001b[39m0\u001b[39;49m,\n\u001b[1;32m    207\u001b[0m     where\u001b[39m=\u001b[39;49mwhere,\n\u001b[1;32m    208\u001b[0m     bbox\u001b[39m=\u001b[39;49mbbox,\n\u001b[1;32m    209\u001b[0m     mask\u001b[39m=\u001b[39;49m_mask_to_wkb(mask),\n\u001b[1;32m    210\u001b[0m     fids\u001b[39m=\u001b[39;49mfids,\n\u001b[1;32m    211\u001b[0m     sql\u001b[39m=\u001b[39;49msql,\n\u001b[1;32m    212\u001b[0m     sql_dialect\u001b[39m=\u001b[39;49msql_dialect,\n\u001b[1;32m    213\u001b[0m     return_fids\u001b[39m=\u001b[39;49mreturn_fids,\n\u001b[1;32m    214\u001b[0m     dataset_kwargs\u001b[39m=\u001b[39;49mdataset_kwargs,\n\u001b[1;32m    215\u001b[0m     datetime_as_string\u001b[39m=\u001b[39;49mdatetime_as_string,\n\u001b[1;32m    216\u001b[0m )\n",
      "File \u001b[0;32mpyogrio/_io.pyx:1240\u001b[0m, in \u001b[0;36mpyogrio._io.ogr_read\u001b[0;34m()\u001b[0m\n",
      "File \u001b[0;32mpyogrio/_io.pyx:220\u001b[0m, in \u001b[0;36mpyogrio._io.ogr_open\u001b[0;34m()\u001b[0m\n",
      "\u001b[0;31mDataSourceError\u001b[0m: cb_2018_us_state_500k/cb_2018_us_state_500k.shp: No such file or directory"
     ]
    }
   ],
   "source": [
    "state = gpd.read_file('cb_2018_us_state_500k/cb_2018_us_state_500k.shp')\n",
    "\n",
    "state_geometries = state['geometry']"
   ]
  },
  {
   "cell_type": "code",
   "execution_count": null,
   "id": "402ec812-103e-4e56-b1a4-c78daf6692a0",
   "metadata": {
    "vscode": {
     "languageId": "quarto"
    }
   },
   "outputs": [],
   "source": [
    "os.chdir('/Users/willsigal/Desktop')\n",
    "import geopandas as gpd"
   ]
  },
  {
   "cell_type": "code",
   "execution_count": null,
   "id": "f815175b-f18f-4b76-8585-22f683ec4cf1",
   "metadata": {
    "vscode": {
     "languageId": "quarto"
    }
   },
   "outputs": [],
   "source": [
    "state = gpd.read_file('cb_2018_us_state_500k/cb_2018_us_state_500k.shp')\n",
    "\n",
    "state_geometries = state['geometry']"
   ]
  },
  {
   "cell_type": "code",
   "execution_count": null,
   "id": "b97b7826-1e00-411c-ae69-e9c46aa1c855",
   "metadata": {
    "vscode": {
     "languageId": "quarto"
    }
   },
   "outputs": [
    {
     "ename": "AttributeError",
     "evalue": "module 'pandas' has no attribute 'read_file'",
     "output_type": "error",
     "traceback": [
      "\u001b[0;31m---------------------------------------------------------------------------\u001b[0m",
      "\u001b[0;31mAttributeError\u001b[0m                            Traceback (most recent call last)",
      "File \u001b[1;32m/Users/willsigal/Documents/GitHub/problem-set-5/ps5.qmd:2\u001b[0m\n\u001b[1;32m      1\u001b[0m os\u001b[39m.\u001b[39mchdir(\u001b[39m'\u001b[39m\u001b[39m/Users/willsigal/Desktop/US Attorney Districts Shapefile simplified_20241108\u001b[39m\u001b[39m'\u001b[39m)\n\u001b[0;32m----> 2\u001b[0m districts_gdf \u001b[39m=\u001b[39m pd\u001b[39m.\u001b[39;49mread_file(\u001b[39m'\u001b[39m\u001b[39mgeo_export_6b570657-b5c6-4bbc-b83a-415e4880d085.shp\u001b[39m\u001b[39m'\u001b[39m)\n",
      "\u001b[0;31mAttributeError\u001b[0m: module 'pandas' has no attribute 'read_file'"
     ]
    }
   ],
   "source": [
    "os.chdir('/Users/willsigal/Desktop/US Attorney Districts Shapefile simplified_20241108')\n",
    "districts_gdf = pd.read_file('geo_export_6b570657-b5c6-4bbc-b83a-415e4880d085.shp')"
   ]
  },
  {
   "cell_type": "code",
   "execution_count": null,
   "id": "ee66b644-120a-44d8-b58b-9530fa3100fb",
   "metadata": {
    "vscode": {
     "languageId": "quarto"
    }
   },
   "outputs": [],
   "source": [
    "os.chdir('/Users/willsigal/Desktop/US Attorney Districts Shapefile simplified_20241108')\n",
    "districts_gdf = gpd.read_file('geo_export_6b570657-b5c6-4bbc-b83a-415e4880d085.shp')"
   ]
  },
  {
   "cell_type": "code",
   "execution_count": null,
   "id": "e66e4ddc-c258-42bb-bf3d-3af4ef58d384",
   "metadata": {
    "vscode": {
     "languageId": "quarto"
    }
   },
   "outputs": [
    {
     "data": {
      "text/plain": [
       "<bound method NDFrame.head of                                                   Title       Date  \\\n",
       "1     Boise Nurse Practitioner Sentenced To 48 Month... 2024-11-07   \n",
       "2     Former Traveling Nurse Pleads Guilty To Tamper... 2024-11-07   \n",
       "3     Former Arlington Resident Sentenced To Prison ... 2024-11-07   \n",
       "4     Paroled Felon Sentenced To Six Years For Fraud... 2024-11-07   \n",
       "5     Former Licensed Counselor Sentenced For Defrau... 2024-11-06   \n",
       "...                                                 ...        ...   \n",
       "3016  Ex-Indian Health Services doctor sentenced to ... 2021-01-07   \n",
       "3017  Anchorage Doctor Sentenced For Prescribing Med... 2021-01-06   \n",
       "3018  California Genetic Testing Lab Agrees to Pay $... 2021-01-06   \n",
       "3020  Camden County Man Admits Trafficking in Oxycod... 2021-01-05   \n",
       "3021  The United States And Tennessee Resolve Claims... 2021-01-04   \n",
       "\n",
       "                        Category  \\\n",
       "1     Criminal and Civil Actions   \n",
       "2     Criminal and Civil Actions   \n",
       "3     Criminal and Civil Actions   \n",
       "4     Criminal and Civil Actions   \n",
       "5     Criminal and Civil Actions   \n",
       "...                          ...   \n",
       "3016  Criminal and Civil Actions   \n",
       "3017  Criminal and Civil Actions   \n",
       "3018  Criminal and Civil Actions   \n",
       "3020  Criminal and Civil Actions   \n",
       "3021  Criminal and Civil Actions   \n",
       "\n",
       "                                                   Link  \\\n",
       "1     https://oig.hhs.gov/fraud/enforcement/boise-nu...   \n",
       "2     https://oig.hhs.gov/fraud/enforcement/former-t...   \n",
       "3     https://oig.hhs.gov/fraud/enforcement/former-a...   \n",
       "4     https://oig.hhs.gov/fraud/enforcement/paroled-...   \n",
       "5     https://oig.hhs.gov/fraud/enforcement/former-l...   \n",
       "...                                                 ...   \n",
       "3016  https://oig.hhs.gov/fraud/enforcement/ex-india...   \n",
       "3017  https://oig.hhs.gov/fraud/enforcement/anchorag...   \n",
       "3018  https://oig.hhs.gov/fraud/enforcement/californ...   \n",
       "3020  https://oig.hhs.gov/fraud/enforcement/camden-c...   \n",
       "3021  https://oig.hhs.gov/fraud/enforcement/the-unit...   \n",
       "\n",
       "                                                 Agency  \n",
       "1     November 7, 2024; U.S. Attorney's Office, Dist...  \n",
       "2     U.S. Attorney's Office, District of Massachusetts  \n",
       "3     U.S. Attorney's Office, Eastern District of Vi...  \n",
       "4     U.S. Attorney's Office, Middle District of Flo...  \n",
       "5     U.S. Attorney's Office, Western District of Texas  \n",
       "...                                                 ...  \n",
       "3016        U.S. Attorney's Office, District of Montana  \n",
       "3017         U.S. Attorney's Office, District of Alaska  \n",
       "3018     U.S. Attorney's Office, District of New Jersey  \n",
       "3020     U.S. Attorney's Office, District of New Jersey  \n",
       "3021  U.S. Attorney's Office, Middle District of Ten...  \n",
       "\n",
       "[1412 rows x 5 columns]>"
      ]
     },
     "execution_count": 20,
     "metadata": {},
     "output_type": "execute_result"
    }
   ],
   "source": [
    "district_df = twenty_one[twenty_one['Agency'].str.contains('District', na=False)].copy()\n",
    "district_df.head"
   ]
  },
  {
   "cell_type": "code",
   "execution_count": null,
   "id": "f6c9e455-296b-45ba-9764-7cf5fd4c55b9",
   "metadata": {
    "vscode": {
     "languageId": "quarto"
    }
   },
   "outputs": [],
   "source": [
    "os.chdir('/Users/willsigal/Desktop/US Attorney Districts Shapefile simplified_20241108')\n",
    "districts_gdf = gpd.read_file('geo_export_6b570657-b5c6-4bbc-b83a-415e4880d085.shp')\n",
    "\n",
    "district_df = pd.DataFrame(districts_gdf)"
   ]
  },
  {
   "cell_type": "code",
   "execution_count": null,
   "id": "ec415fd4-e79a-4750-9e08-bda7462bccc7",
   "metadata": {
    "vscode": {
     "languageId": "quarto"
    }
   },
   "outputs": [
    {
     "data": {
      "text/plain": [
       "<bound method NDFrame.head of    statefp                             judicial_d         aland        awater  \\\n",
       "0       21           Western District of Kentucky  4.970555e+10  1.651516e+09   \n",
       "1       21           Eastern District of Kentucky  5.257394e+10  7.238213e+08   \n",
       "2       18           Southern District of Indiana  5.824517e+10  5.941176e+08   \n",
       "3       01             Middle District of Alabama  3.412673e+10  5.472423e+08   \n",
       "4       01           Southern District of Alabama  6.235882e+10  3.052681e+09   \n",
       "..     ...                                    ...           ...           ...   \n",
       "89      69  District of Northern Marianas Islands  4.722925e+08  4.644252e+09   \n",
       "90      12           Southern District of Florida  2.448809e+10  1.159277e+10   \n",
       "91      40          Northern District of Oklahoma  2.231989e+10  7.189768e+08   \n",
       "92      50                    District of Vermont  2.387418e+10  1.030417e+09   \n",
       "93      10                   District of Delaware  5.045926e+09  1.399986e+09   \n",
       "\n",
       "                        state           chief_judg            nominating  \\\n",
       "0                    Kentucky      Greg N. Stivers      Barack Obama (D)   \n",
       "1                    Kentucky         Danny Reeves    George W. Bush (R)   \n",
       "2                     Indiana  Jane Magnus-Stinson      Barack Obama (D)   \n",
       "3                     Alabama    Emily Coody Marks      Donald Trump (R)   \n",
       "4                     Alabama        Kristi DuBose    George W. Bush (R)   \n",
       "..                        ...                  ...                   ...   \n",
       "89  Northern Marianas Islands   Ramona V. Manglona      Barack Obama (D)   \n",
       "90                    Florida     K. Michael Moore  George H.W. Bush (R)   \n",
       "91                   Oklahoma         John Dowdell      Barack Obama (D)   \n",
       "92                    Vermont    Geoffrey Crawford      Barack Obama (D)   \n",
       "93                   Delaware        Leonard Stark      Barack Obama (D)   \n",
       "\n",
       "    term_as_ch  shape_leng  shape_area abbr district_n    shape__are  \\\n",
       "0       2018.0   16.200585    5.216899  KYW          6  8.123902e+10   \n",
       "1       2019.0   13.514251    5.451047  KYE          6  8.547129e+10   \n",
       "2       2016.0   14.956126    6.137433  INS          7  9.818187e+10   \n",
       "3       2019.0   10.235799    3.858442  ALM         11  5.645450e+10   \n",
       "4       2017.0   12.976906    3.278871  ALS         11  4.772733e+10   \n",
       "..         ...         ...         ...  ...        ...           ...   \n",
       "89      2011.0    3.252892    0.040335   MP          9  5.200276e+08   \n",
       "90      2014.0   17.941594    2.503158  FLS         11  3.466156e+10   \n",
       "91      2019.0    8.154257    2.316496  OKN         10  3.569729e+10   \n",
       "92      2017.0    9.571257    2.797955   VT          2  4.826994e+10   \n",
       "93      2014.0    4.285079    0.541590   DE          3  8.634830e+09   \n",
       "\n",
       "      shape__len                                           geometry  \n",
       "0   1.964255e+06  MULTIPOLYGON (((-89.48248 36.50214, -89.48543 ...  \n",
       "1   1.654681e+06  POLYGON ((-84.62012 39.07346, -84.60793 39.073...  \n",
       "2   1.887626e+06  POLYGON ((-85.86281 40.46476, -85.86212 40.406...  \n",
       "3   1.236201e+06  POLYGON ((-85.33828 33.49471, -85.33396 33.492...  \n",
       "4   1.567095e+06  MULTIPOLYGON (((-88.08682 30.25987, -88.07676 ...  \n",
       "..           ...                                                ...  \n",
       "89  3.702108e+05  MULTIPOLYGON (((145.28433 14.17537, 145.28404 ...  \n",
       "90  2.117424e+06  MULTIPOLYGON (((-81.9667 24.52376, -81.97837 2...  \n",
       "91  9.857548e+05  POLYGON ((-95.04951 36.99959, -95.03786 36.999...  \n",
       "92  1.248962e+06  POLYGON ((-72.67477 45.01547, -72.58988 45.013...  \n",
       "93  5.622177e+05  MULTIPOLYGON (((-75.56246 39.51266, -75.56745 ...  \n",
       "\n",
       "[94 rows x 15 columns]>"
      ]
     },
     "execution_count": 22,
     "metadata": {},
     "output_type": "execute_result"
    }
   ],
   "source": [
    "district_twentyone_df = twenty_one[twenty_one['Agency'].str.contains('District', na=False)].copy()\n",
    "district_df.head"
   ]
  },
  {
   "cell_type": "code",
   "execution_count": null,
   "id": "9009f617-38ba-432a-b6ea-cbfc7323a72d",
   "metadata": {
    "vscode": {
     "languageId": "quarto"
    }
   },
   "outputs": [],
   "source": [
    "os.chdir('/Users/willsigal/Desktop/US Attorney Districts Shapefile simplified_20241108')\n",
    "districts_gdf = gpd.read_file('geo_export_6b570657-b5c6-4bbc-b83a-415e4880d085.shp')\n",
    "\n",
    "district_df = pd.DataFrame(districts_gdf)"
   ]
  },
  {
   "cell_type": "code",
   "execution_count": null,
   "id": "dda45fec-7c67-4f71-992b-7995630e302b",
   "metadata": {
    "vscode": {
     "languageId": "quarto"
    }
   },
   "outputs": [
    {
     "data": {
      "text/plain": [
       "<bound method NDFrame.head of                                                   Title       Date  \\\n",
       "1     Boise Nurse Practitioner Sentenced To 48 Month... 2024-11-07   \n",
       "2     Former Traveling Nurse Pleads Guilty To Tamper... 2024-11-07   \n",
       "3     Former Arlington Resident Sentenced To Prison ... 2024-11-07   \n",
       "4     Paroled Felon Sentenced To Six Years For Fraud... 2024-11-07   \n",
       "5     Former Licensed Counselor Sentenced For Defrau... 2024-11-06   \n",
       "...                                                 ...        ...   \n",
       "3016  Ex-Indian Health Services doctor sentenced to ... 2021-01-07   \n",
       "3017  Anchorage Doctor Sentenced For Prescribing Med... 2021-01-06   \n",
       "3018  California Genetic Testing Lab Agrees to Pay $... 2021-01-06   \n",
       "3020  Camden County Man Admits Trafficking in Oxycod... 2021-01-05   \n",
       "3021  The United States And Tennessee Resolve Claims... 2021-01-04   \n",
       "\n",
       "                        Category  \\\n",
       "1     Criminal and Civil Actions   \n",
       "2     Criminal and Civil Actions   \n",
       "3     Criminal and Civil Actions   \n",
       "4     Criminal and Civil Actions   \n",
       "5     Criminal and Civil Actions   \n",
       "...                          ...   \n",
       "3016  Criminal and Civil Actions   \n",
       "3017  Criminal and Civil Actions   \n",
       "3018  Criminal and Civil Actions   \n",
       "3020  Criminal and Civil Actions   \n",
       "3021  Criminal and Civil Actions   \n",
       "\n",
       "                                                   Link  \\\n",
       "1     https://oig.hhs.gov/fraud/enforcement/boise-nu...   \n",
       "2     https://oig.hhs.gov/fraud/enforcement/former-t...   \n",
       "3     https://oig.hhs.gov/fraud/enforcement/former-a...   \n",
       "4     https://oig.hhs.gov/fraud/enforcement/paroled-...   \n",
       "5     https://oig.hhs.gov/fraud/enforcement/former-l...   \n",
       "...                                                 ...   \n",
       "3016  https://oig.hhs.gov/fraud/enforcement/ex-india...   \n",
       "3017  https://oig.hhs.gov/fraud/enforcement/anchorag...   \n",
       "3018  https://oig.hhs.gov/fraud/enforcement/californ...   \n",
       "3020  https://oig.hhs.gov/fraud/enforcement/camden-c...   \n",
       "3021  https://oig.hhs.gov/fraud/enforcement/the-unit...   \n",
       "\n",
       "                                                 Agency  \n",
       "1     November 7, 2024; U.S. Attorney's Office, Dist...  \n",
       "2     U.S. Attorney's Office, District of Massachusetts  \n",
       "3     U.S. Attorney's Office, Eastern District of Vi...  \n",
       "4     U.S. Attorney's Office, Middle District of Flo...  \n",
       "5     U.S. Attorney's Office, Western District of Texas  \n",
       "...                                                 ...  \n",
       "3016        U.S. Attorney's Office, District of Montana  \n",
       "3017         U.S. Attorney's Office, District of Alaska  \n",
       "3018     U.S. Attorney's Office, District of New Jersey  \n",
       "3020     U.S. Attorney's Office, District of New Jersey  \n",
       "3021  U.S. Attorney's Office, Middle District of Ten...  \n",
       "\n",
       "[1412 rows x 5 columns]>"
      ]
     },
     "execution_count": 24,
     "metadata": {},
     "output_type": "execute_result"
    }
   ],
   "source": [
    "district_df.head\n",
    "district_twentyone_df.head"
   ]
  },
  {
   "cell_type": "code",
   "execution_count": null,
   "id": "1ba5b54e-1be9-4076-9830-2689c74999bb",
   "metadata": {
    "vscode": {
     "languageId": "quarto"
    }
   },
   "outputs": [
    {
     "name": "stdout",
     "output_type": "stream",
     "text": [
      "1                  District of Idaho\n",
      "2          District of Massachusetts\n",
      "3       Eastern District of Virginia\n",
      "4         Middle District of Florida\n",
      "5          Western District of Texas\n",
      "                    ...             \n",
      "3016             District of Montana\n",
      "3017              District of Alaska\n",
      "3018          District of New Jersey\n",
      "3020          District of New Jersey\n",
      "3021    Middle District of Tennessee\n",
      "Name: District, Length: 1412, dtype: object\n"
     ]
    }
   ],
   "source": [
    "district_twentyone_df['District'] = district_twentyone_df['Agency'].apply(lambda x: x.split(', ')[-1] if ', ' in x else x)\n",
    "\n",
    "# Remove leading/trailing whitespace\n",
    "district_twentyone_df['District'] = district_twentyone_df['District'].str.strip()\n",
    "\n",
    "# Remove \"U.S. Attorney's Office, \" prefix if present\n",
    "district_twentyone_df['District'] = district_twentyone_df['District'].str.replace('U.S. Attorney\\'s Office, ', '')\n",
    "\n",
    "print(district_twentyone_df['District'])"
   ]
  },
  {
   "cell_type": "code",
   "execution_count": null,
   "id": "06f98118-7878-4721-899e-1e75ad80bec2",
   "metadata": {
    "vscode": {
     "languageId": "quarto"
    }
   },
   "outputs": [
    {
     "data": {
      "text/plain": [
       "<bound method NDFrame.head of 1                  District of Idaho\n",
       "2          District of Massachusetts\n",
       "3       Eastern District of Virginia\n",
       "4         Middle District of Florida\n",
       "5          Western District of Texas\n",
       "                    ...             \n",
       "3016             District of Montana\n",
       "3017              District of Alaska\n",
       "3018          District of New Jersey\n",
       "3020          District of New Jersey\n",
       "3021    Middle District of Tennessee\n",
       "Name: District, Length: 1412, dtype: object>"
      ]
     },
     "execution_count": 26,
     "metadata": {},
     "output_type": "execute_result"
    }
   ],
   "source": [
    "#removing the prefixes\n",
    "district_twentyone_df['District'] = district_twentyone_df['Agency'].apply(lambda x: x.split(', ')[-1] if ', ' in x else x)\n",
    "district_twentyone_df['District'] = district_twentyone_df['District'].str.strip()\n",
    "\n",
    "district_twentyone_df['District'] = district_twentyone_df['District'].str.replace('U.S. Attorney\\'s Office, ', '')\n",
    "\n",
    "district_twentyone_df['District'].head"
   ]
  },
  {
   "cell_type": "code",
   "execution_count": null,
   "id": "fe35ab33-1b44-4306-b146-ff07dd46dd72",
   "metadata": {
    "vscode": {
     "languageId": "quarto"
    }
   },
   "outputs": [
    {
     "data": {
      "text/plain": [
       "<bound method NDFrame.head of    statefp                             judicial_d         aland        awater  \\\n",
       "0       21           Western District of Kentucky  4.970555e+10  1.651516e+09   \n",
       "1       21           Eastern District of Kentucky  5.257394e+10  7.238213e+08   \n",
       "2       18           Southern District of Indiana  5.824517e+10  5.941176e+08   \n",
       "3       01             Middle District of Alabama  3.412673e+10  5.472423e+08   \n",
       "4       01           Southern District of Alabama  6.235882e+10  3.052681e+09   \n",
       "..     ...                                    ...           ...           ...   \n",
       "89      69  District of Northern Marianas Islands  4.722925e+08  4.644252e+09   \n",
       "90      12           Southern District of Florida  2.448809e+10  1.159277e+10   \n",
       "91      40          Northern District of Oklahoma  2.231989e+10  7.189768e+08   \n",
       "92      50                    District of Vermont  2.387418e+10  1.030417e+09   \n",
       "93      10                   District of Delaware  5.045926e+09  1.399986e+09   \n",
       "\n",
       "                        state           chief_judg            nominating  \\\n",
       "0                    Kentucky      Greg N. Stivers      Barack Obama (D)   \n",
       "1                    Kentucky         Danny Reeves    George W. Bush (R)   \n",
       "2                     Indiana  Jane Magnus-Stinson      Barack Obama (D)   \n",
       "3                     Alabama    Emily Coody Marks      Donald Trump (R)   \n",
       "4                     Alabama        Kristi DuBose    George W. Bush (R)   \n",
       "..                        ...                  ...                   ...   \n",
       "89  Northern Marianas Islands   Ramona V. Manglona      Barack Obama (D)   \n",
       "90                    Florida     K. Michael Moore  George H.W. Bush (R)   \n",
       "91                   Oklahoma         John Dowdell      Barack Obama (D)   \n",
       "92                    Vermont    Geoffrey Crawford      Barack Obama (D)   \n",
       "93                   Delaware        Leonard Stark      Barack Obama (D)   \n",
       "\n",
       "    term_as_ch  shape_leng  shape_area abbr district_n    shape__are  \\\n",
       "0       2018.0   16.200585    5.216899  KYW          6  8.123902e+10   \n",
       "1       2019.0   13.514251    5.451047  KYE          6  8.547129e+10   \n",
       "2       2016.0   14.956126    6.137433  INS          7  9.818187e+10   \n",
       "3       2019.0   10.235799    3.858442  ALM         11  5.645450e+10   \n",
       "4       2017.0   12.976906    3.278871  ALS         11  4.772733e+10   \n",
       "..         ...         ...         ...  ...        ...           ...   \n",
       "89      2011.0    3.252892    0.040335   MP          9  5.200276e+08   \n",
       "90      2014.0   17.941594    2.503158  FLS         11  3.466156e+10   \n",
       "91      2019.0    8.154257    2.316496  OKN         10  3.569729e+10   \n",
       "92      2017.0    9.571257    2.797955   VT          2  4.826994e+10   \n",
       "93      2014.0    4.285079    0.541590   DE          3  8.634830e+09   \n",
       "\n",
       "      shape__len                                           geometry  \n",
       "0   1.964255e+06  MULTIPOLYGON (((-89.48248 36.50214, -89.48543 ...  \n",
       "1   1.654681e+06  POLYGON ((-84.62012 39.07346, -84.60793 39.073...  \n",
       "2   1.887626e+06  POLYGON ((-85.86281 40.46476, -85.86212 40.406...  \n",
       "3   1.236201e+06  POLYGON ((-85.33828 33.49471, -85.33396 33.492...  \n",
       "4   1.567095e+06  MULTIPOLYGON (((-88.08682 30.25987, -88.07676 ...  \n",
       "..           ...                                                ...  \n",
       "89  3.702108e+05  MULTIPOLYGON (((145.28433 14.17537, 145.28404 ...  \n",
       "90  2.117424e+06  MULTIPOLYGON (((-81.9667 24.52376, -81.97837 2...  \n",
       "91  9.857548e+05  POLYGON ((-95.04951 36.99959, -95.03786 36.999...  \n",
       "92  1.248962e+06  POLYGON ((-72.67477 45.01547, -72.58988 45.013...  \n",
       "93  5.622177e+05  MULTIPOLYGON (((-75.56246 39.51266, -75.56745 ...  \n",
       "\n",
       "[94 rows x 15 columns]>"
      ]
     },
     "execution_count": 27,
     "metadata": {},
     "output_type": "execute_result"
    }
   ],
   "source": [
    "district_df.head"
   ]
  },
  {
   "cell_type": "code",
   "execution_count": null,
   "id": "d6fc4a9c-a6b4-48d5-ab0a-e0e2573a6dad",
   "metadata": {
    "vscode": {
     "languageId": "quarto"
    }
   },
   "outputs": [],
   "source": [
    "enforcement_counts = district_twentyone_df['District'].value_counts().reset_index()\n",
    "enforcement_counts.columns = ['District', 'Enforcement Actions']"
   ]
  },
  {
   "cell_type": "code",
   "execution_count": null,
   "id": "47d2d438-1aa3-49d9-8bed-10fe0ec95b2d",
   "metadata": {
    "vscode": {
     "languageId": "quarto"
    }
   },
   "outputs": [
    {
     "ename": "KeyError",
     "evalue": "'Judicial_d'",
     "output_type": "error",
     "traceback": [
      "\u001b[0;31m---------------------------------------------------------------------------\u001b[0m",
      "\u001b[0;31mKeyError\u001b[0m                                  Traceback (most recent call last)",
      "\u001b[0;32m<ipython-input-29-d3964f48285c>\u001b[0m in \u001b[0;36m?\u001b[0;34m()\u001b[0m\n\u001b[0;32m----> 1\u001b[0;31m \u001b[0mmerged_districts_df\u001b[0m \u001b[0;34m=\u001b[0m \u001b[0mpd\u001b[0m\u001b[0;34m.\u001b[0m\u001b[0mmerge\u001b[0m\u001b[0;34m(\u001b[0m\u001b[0mdistrict_df\u001b[0m\u001b[0;34m,\u001b[0m \u001b[0menforcement_counts\u001b[0m\u001b[0;34m,\u001b[0m \u001b[0mleft_on\u001b[0m\u001b[0;34m=\u001b[0m\u001b[0;34m'Judicial_d'\u001b[0m\u001b[0;34m,\u001b[0m \u001b[0mright_on\u001b[0m\u001b[0;34m=\u001b[0m\u001b[0;34m'District'\u001b[0m\u001b[0;34m,\u001b[0m \u001b[0mhow\u001b[0m\u001b[0;34m=\u001b[0m\u001b[0;34m'left'\u001b[0m\u001b[0;34m)\u001b[0m\u001b[0;34m\u001b[0m\u001b[0;34m\u001b[0m\u001b[0m\n\u001b[0m\u001b[1;32m      2\u001b[0m \u001b[0;34m\u001b[0m\u001b[0m\n",
      "\u001b[0;32m/opt/anaconda3/lib/python3.11/site-packages/pandas/core/reshape/merge.py\u001b[0m in \u001b[0;36m?\u001b[0;34m(left, right, how, on, left_on, right_on, left_index, right_index, sort, suffixes, copy, indicator, validate)\u001b[0m\n\u001b[1;32m    165\u001b[0m             \u001b[0mvalidate\u001b[0m\u001b[0;34m=\u001b[0m\u001b[0mvalidate\u001b[0m\u001b[0;34m,\u001b[0m\u001b[0;34m\u001b[0m\u001b[0;34m\u001b[0m\u001b[0m\n\u001b[1;32m    166\u001b[0m             \u001b[0mcopy\u001b[0m\u001b[0;34m=\u001b[0m\u001b[0mcopy\u001b[0m\u001b[0;34m,\u001b[0m\u001b[0;34m\u001b[0m\u001b[0;34m\u001b[0m\u001b[0m\n\u001b[1;32m    167\u001b[0m         )\n\u001b[1;32m    168\u001b[0m     \u001b[0;32melse\u001b[0m\u001b[0;34m:\u001b[0m\u001b[0;34m\u001b[0m\u001b[0;34m\u001b[0m\u001b[0m\n\u001b[0;32m--> 169\u001b[0;31m         op = _MergeOperation(\n\u001b[0m\u001b[1;32m    170\u001b[0m             \u001b[0mleft_df\u001b[0m\u001b[0;34m,\u001b[0m\u001b[0;34m\u001b[0m\u001b[0;34m\u001b[0m\u001b[0m\n\u001b[1;32m    171\u001b[0m             \u001b[0mright_df\u001b[0m\u001b[0;34m,\u001b[0m\u001b[0;34m\u001b[0m\u001b[0;34m\u001b[0m\u001b[0m\n\u001b[1;32m    172\u001b[0m             \u001b[0mhow\u001b[0m\u001b[0;34m=\u001b[0m\u001b[0mhow\u001b[0m\u001b[0;34m,\u001b[0m\u001b[0;34m\u001b[0m\u001b[0;34m\u001b[0m\u001b[0m\n",
      "\u001b[0;32m/opt/anaconda3/lib/python3.11/site-packages/pandas/core/reshape/merge.py\u001b[0m in \u001b[0;36m?\u001b[0;34m(self, left, right, how, on, left_on, right_on, left_index, right_index, sort, suffixes, indicator, validate)\u001b[0m\n\u001b[1;32m    787\u001b[0m             \u001b[0mself\u001b[0m\u001b[0;34m.\u001b[0m\u001b[0mright_join_keys\u001b[0m\u001b[0;34m,\u001b[0m\u001b[0;34m\u001b[0m\u001b[0;34m\u001b[0m\u001b[0m\n\u001b[1;32m    788\u001b[0m             \u001b[0mself\u001b[0m\u001b[0;34m.\u001b[0m\u001b[0mjoin_names\u001b[0m\u001b[0;34m,\u001b[0m\u001b[0;34m\u001b[0m\u001b[0;34m\u001b[0m\u001b[0m\n\u001b[1;32m    789\u001b[0m             \u001b[0mleft_drop\u001b[0m\u001b[0;34m,\u001b[0m\u001b[0;34m\u001b[0m\u001b[0;34m\u001b[0m\u001b[0m\n\u001b[1;32m    790\u001b[0m             \u001b[0mright_drop\u001b[0m\u001b[0;34m,\u001b[0m\u001b[0;34m\u001b[0m\u001b[0;34m\u001b[0m\u001b[0m\n\u001b[0;32m--> 791\u001b[0;31m         ) = self._get_merge_keys()\n\u001b[0m\u001b[1;32m    792\u001b[0m \u001b[0;34m\u001b[0m\u001b[0m\n\u001b[1;32m    793\u001b[0m         \u001b[0;32mif\u001b[0m \u001b[0mleft_drop\u001b[0m\u001b[0;34m:\u001b[0m\u001b[0;34m\u001b[0m\u001b[0;34m\u001b[0m\u001b[0m\n\u001b[1;32m    794\u001b[0m             \u001b[0mself\u001b[0m\u001b[0;34m.\u001b[0m\u001b[0mleft\u001b[0m \u001b[0;34m=\u001b[0m \u001b[0mself\u001b[0m\u001b[0;34m.\u001b[0m\u001b[0mleft\u001b[0m\u001b[0;34m.\u001b[0m\u001b[0m_drop_labels_or_levels\u001b[0m\u001b[0;34m(\u001b[0m\u001b[0mleft_drop\u001b[0m\u001b[0;34m)\u001b[0m\u001b[0;34m\u001b[0m\u001b[0;34m\u001b[0m\u001b[0m\n",
      "\u001b[0;32m/opt/anaconda3/lib/python3.11/site-packages/pandas/core/reshape/merge.py\u001b[0m in \u001b[0;36m?\u001b[0;34m(self)\u001b[0m\n\u001b[1;32m   1283\u001b[0m                     \u001b[0;32mif\u001b[0m \u001b[0mlk\u001b[0m \u001b[0;32mis\u001b[0m \u001b[0;32mnot\u001b[0m \u001b[0;32mNone\u001b[0m\u001b[0;34m:\u001b[0m\u001b[0;34m\u001b[0m\u001b[0;34m\u001b[0m\u001b[0m\n\u001b[1;32m   1284\u001b[0m                         \u001b[0;31m# Then we're either Hashable or a wrong-length arraylike,\u001b[0m\u001b[0;34m\u001b[0m\u001b[0;34m\u001b[0m\u001b[0m\n\u001b[1;32m   1285\u001b[0m                         \u001b[0;31m#  the latter of which will raise\u001b[0m\u001b[0;34m\u001b[0m\u001b[0;34m\u001b[0m\u001b[0m\n\u001b[1;32m   1286\u001b[0m                         \u001b[0mlk\u001b[0m \u001b[0;34m=\u001b[0m \u001b[0mcast\u001b[0m\u001b[0;34m(\u001b[0m\u001b[0mHashable\u001b[0m\u001b[0;34m,\u001b[0m \u001b[0mlk\u001b[0m\u001b[0;34m)\u001b[0m\u001b[0;34m\u001b[0m\u001b[0;34m\u001b[0m\u001b[0m\n\u001b[0;32m-> 1287\u001b[0;31m                         \u001b[0mleft_keys\u001b[0m\u001b[0;34m.\u001b[0m\u001b[0mappend\u001b[0m\u001b[0;34m(\u001b[0m\u001b[0mleft\u001b[0m\u001b[0;34m.\u001b[0m\u001b[0m_get_label_or_level_values\u001b[0m\u001b[0;34m(\u001b[0m\u001b[0mlk\u001b[0m\u001b[0;34m)\u001b[0m\u001b[0;34m)\u001b[0m\u001b[0;34m\u001b[0m\u001b[0;34m\u001b[0m\u001b[0m\n\u001b[0m\u001b[1;32m   1288\u001b[0m                         \u001b[0mjoin_names\u001b[0m\u001b[0;34m.\u001b[0m\u001b[0mappend\u001b[0m\u001b[0;34m(\u001b[0m\u001b[0mlk\u001b[0m\u001b[0;34m)\u001b[0m\u001b[0;34m\u001b[0m\u001b[0;34m\u001b[0m\u001b[0m\n\u001b[1;32m   1289\u001b[0m                     \u001b[0;32melse\u001b[0m\u001b[0;34m:\u001b[0m\u001b[0;34m\u001b[0m\u001b[0;34m\u001b[0m\u001b[0m\n\u001b[1;32m   1290\u001b[0m                         \u001b[0;31m# work-around for merge_asof(left_index=True)\u001b[0m\u001b[0;34m\u001b[0m\u001b[0;34m\u001b[0m\u001b[0m\n",
      "\u001b[0;32m/opt/anaconda3/lib/python3.11/site-packages/pandas/core/generic.py\u001b[0m in \u001b[0;36m?\u001b[0;34m(self, key, axis)\u001b[0m\n\u001b[1;32m   1840\u001b[0m             \u001b[0mvalues\u001b[0m \u001b[0;34m=\u001b[0m \u001b[0mself\u001b[0m\u001b[0;34m.\u001b[0m\u001b[0mxs\u001b[0m\u001b[0;34m(\u001b[0m\u001b[0mkey\u001b[0m\u001b[0;34m,\u001b[0m \u001b[0maxis\u001b[0m\u001b[0;34m=\u001b[0m\u001b[0mother_axes\u001b[0m\u001b[0;34m[\u001b[0m\u001b[0;36m0\u001b[0m\u001b[0;34m]\u001b[0m\u001b[0;34m)\u001b[0m\u001b[0;34m.\u001b[0m\u001b[0m_values\u001b[0m\u001b[0;34m\u001b[0m\u001b[0;34m\u001b[0m\u001b[0m\n\u001b[1;32m   1841\u001b[0m         \u001b[0;32melif\u001b[0m \u001b[0mself\u001b[0m\u001b[0;34m.\u001b[0m\u001b[0m_is_level_reference\u001b[0m\u001b[0;34m(\u001b[0m\u001b[0mkey\u001b[0m\u001b[0;34m,\u001b[0m \u001b[0maxis\u001b[0m\u001b[0;34m=\u001b[0m\u001b[0maxis\u001b[0m\u001b[0;34m)\u001b[0m\u001b[0;34m:\u001b[0m\u001b[0;34m\u001b[0m\u001b[0;34m\u001b[0m\u001b[0m\n\u001b[1;32m   1842\u001b[0m             \u001b[0mvalues\u001b[0m \u001b[0;34m=\u001b[0m \u001b[0mself\u001b[0m\u001b[0;34m.\u001b[0m\u001b[0maxes\u001b[0m\u001b[0;34m[\u001b[0m\u001b[0maxis\u001b[0m\u001b[0;34m]\u001b[0m\u001b[0;34m.\u001b[0m\u001b[0mget_level_values\u001b[0m\u001b[0;34m(\u001b[0m\u001b[0mkey\u001b[0m\u001b[0;34m)\u001b[0m\u001b[0;34m.\u001b[0m\u001b[0m_values\u001b[0m\u001b[0;34m\u001b[0m\u001b[0;34m\u001b[0m\u001b[0m\n\u001b[1;32m   1843\u001b[0m         \u001b[0;32melse\u001b[0m\u001b[0;34m:\u001b[0m\u001b[0;34m\u001b[0m\u001b[0;34m\u001b[0m\u001b[0m\n\u001b[0;32m-> 1844\u001b[0;31m             \u001b[0;32mraise\u001b[0m \u001b[0mKeyError\u001b[0m\u001b[0;34m(\u001b[0m\u001b[0mkey\u001b[0m\u001b[0;34m)\u001b[0m\u001b[0;34m\u001b[0m\u001b[0;34m\u001b[0m\u001b[0m\n\u001b[0m\u001b[1;32m   1845\u001b[0m \u001b[0;34m\u001b[0m\u001b[0m\n\u001b[1;32m   1846\u001b[0m         \u001b[0;31m# Check for duplicates\u001b[0m\u001b[0;34m\u001b[0m\u001b[0;34m\u001b[0m\u001b[0m\n\u001b[1;32m   1847\u001b[0m         \u001b[0;32mif\u001b[0m \u001b[0mvalues\u001b[0m\u001b[0;34m.\u001b[0m\u001b[0mndim\u001b[0m \u001b[0;34m>\u001b[0m \u001b[0;36m1\u001b[0m\u001b[0;34m:\u001b[0m\u001b[0;34m\u001b[0m\u001b[0;34m\u001b[0m\u001b[0m\n",
      "\u001b[0;31mKeyError\u001b[0m: 'Judicial_d'"
     ]
    }
   ],
   "source": [
    "merged_districts_df = pd.merge(district_df, enforcement_counts, left_on='Judicial_d', right_on='District', how='left')"
   ]
  },
  {
   "cell_type": "code",
   "execution_count": null,
   "id": "31a01c45-b712-4622-84d8-4d6e9b2718f0",
   "metadata": {
    "vscode": {
     "languageId": "quarto"
    }
   },
   "outputs": [],
   "source": [
    "merged_districts_df = pd.merge(district_df, enforcement_counts, left_on='judicial_d', right_on='District', how='left')"
   ]
  },
  {
   "cell_type": "code",
   "execution_count": null,
   "id": "0bb7b7e2-59fa-47b9-8766-07a0a15b9adf",
   "metadata": {
    "vscode": {
     "languageId": "quarto"
    }
   },
   "outputs": [],
   "source": [
    "merged_districts_df = pd.merge(district_df, enforcement_counts, left_on='judicial_d', right_on='District', how='left')\n",
    "\n",
    "merged_districts_df['Enforcement Actions'] = merged_districts_df['Enforcement Actions'].fillna(0)"
   ]
  },
  {
   "cell_type": "code",
   "execution_count": null,
   "id": "eb1f8435-9290-45fb-856f-0ebda41d00b5",
   "metadata": {
    "vscode": {
     "languageId": "quarto"
    }
   },
   "outputs": [
    {
     "ename": "NameError",
     "evalue": "name 'merged_df' is not defined",
     "output_type": "error",
     "traceback": [
      "\u001b[0;31m---------------------------------------------------------------------------\u001b[0m",
      "\u001b[0;31mNameError\u001b[0m                                 Traceback (most recent call last)",
      "File \u001b[1;32m/Users/willsigal/Documents/GitHub/problem-set-5/ps5.qmd:4\u001b[0m\n\u001b[1;32m      1\u001b[0m \u001b[39mimport\u001b[39;00m \u001b[39mmatplotlib\u001b[39;00m\u001b[39m.\u001b[39;00m\u001b[39mpyplot\u001b[39;00m \u001b[39mas\u001b[39;00m \u001b[39mplt\u001b[39;00m\n\u001b[1;32m      3\u001b[0m fig, ax \u001b[39m=\u001b[39m plt\u001b[39m.\u001b[39msubplots(figsize\u001b[39m=\u001b[39m(\u001b[39m10\u001b[39m, \u001b[39m8\u001b[39m))\n\u001b[0;32m----> 4\u001b[0m merged_df\u001b[39m.\u001b[39mplot(column\u001b[39m=\u001b[39m\u001b[39m'\u001b[39m\u001b[39mEnforcement Actions\u001b[39m\u001b[39m'\u001b[39m, cmap\u001b[39m=\u001b[39m\u001b[39m'\u001b[39m\u001b[39mBlues\u001b[39m\u001b[39m'\u001b[39m, legend\u001b[39m=\u001b[39m\u001b[39mTrue\u001b[39;00m, ax\u001b[39m=\u001b[39max)\n\u001b[1;32m      5\u001b[0m ax\u001b[39m.\u001b[39mset_title(\u001b[39m'\u001b[39m\u001b[39mEnforcement Actions by District\u001b[39m\u001b[39m'\u001b[39m)\n\u001b[1;32m      6\u001b[0m plt\u001b[39m.\u001b[39mshow()\n",
      "\u001b[0;31mNameError\u001b[0m: name 'merged_df' is not defined"
     ]
    },
    {
     "data": {
      "image/png": "[encoded data removed]",
      "text/plain": [
       "<Figure size 1000x800 with 1 Axes>"
      ]
     },
     "metadata": {},
     "output_type": "display_data"
    }
   ],
   "source": [
    "import matplotlib.pyplot as plt\n",
    "\n",
    "fig, ax = plt.subplots(figsize=(10, 8))\n",
    "merged_df.plot(column='Enforcement Actions', cmap='Blues', legend=True, ax=ax)\n",
    "ax.set_title('Enforcement Actions by District')\n",
    "plt.show()"
   ]
  },
  {
   "cell_type": "code",
   "execution_count": null,
   "id": "fbc9dd12-ab66-4cc0-ac01-0afce053b85b",
   "metadata": {
    "vscode": {
     "languageId": "quarto"
    }
   },
   "outputs": [
    {
     "data": {
      "text/plain": [
       "Index(['statefp', 'judicial_d', 'aland', 'awater', 'state', 'chief_judg',\n",
       "       'nominating', 'term_as_ch', 'shape_leng', 'shape_area', 'abbr',\n",
       "       'district_n', 'shape__are', 'shape__len', 'geometry', 'District',\n",
       "       'Enforcement Actions'],\n",
       "      dtype='object')"
      ]
     },
     "execution_count": 33,
     "metadata": {},
     "output_type": "execute_result"
    }
   ],
   "source": [
    "merged_districts_df = pd.merge(district_df, enforcement_counts, left_on='judicial_d', right_on='District', how='left')\n",
    "\n",
    "merged_districts_df['Enforcement Actions'] = merged_districts_df['Enforcement Actions'].fillna(0)\n",
    "merged_districts_df.columns"
   ]
  },
  {
   "cell_type": "code",
   "execution_count": null,
   "id": "8d0237d1-62f5-4351-8dea-f6c00d5851e0",
   "metadata": {
    "vscode": {
     "languageId": "quarto"
    }
   },
   "outputs": [
    {
     "ename": "NameError",
     "evalue": "name 'merged_df' is not defined",
     "output_type": "error",
     "traceback": [
      "\u001b[0;31m---------------------------------------------------------------------------\u001b[0m",
      "\u001b[0;31mNameError\u001b[0m                                 Traceback (most recent call last)",
      "File \u001b[1;32m/Users/willsigal/Documents/GitHub/problem-set-5/ps5.qmd:3\u001b[0m\n\u001b[1;32m      1\u001b[0m \u001b[39mimport\u001b[39;00m \u001b[39mmatplotlib\u001b[39;00m\u001b[39m.\u001b[39;00m\u001b[39mpyplot\u001b[39;00m \u001b[39mas\u001b[39;00m \u001b[39mplt\u001b[39;00m\n\u001b[1;32m      2\u001b[0m fig, ax \u001b[39m=\u001b[39m plt\u001b[39m.\u001b[39msubplots(figsize\u001b[39m=\u001b[39m(\u001b[39m10\u001b[39m, \u001b[39m8\u001b[39m))\n\u001b[0;32m----> 3\u001b[0m merged_df\u001b[39m.\u001b[39mplot(column\u001b[39m=\u001b[39m\u001b[39m'\u001b[39m\u001b[39mEnforcement Actions\u001b[39m\u001b[39m'\u001b[39m, cmap\u001b[39m=\u001b[39m\u001b[39m'\u001b[39m\u001b[39mBlues\u001b[39m\u001b[39m'\u001b[39m, legend\u001b[39m=\u001b[39m\u001b[39mTrue\u001b[39;00m, ax\u001b[39m=\u001b[39max, legend_kwds\u001b[39m=\u001b[39m{\u001b[39m'\u001b[39m\u001b[39mlabel\u001b[39m\u001b[39m'\u001b[39m: \u001b[39m'\u001b[39m\u001b[39mEnforcement Actions\u001b[39m\u001b[39m'\u001b[39m})\n\u001b[1;32m      4\u001b[0m ax\u001b[39m.\u001b[39mset_title(\u001b[39m'\u001b[39m\u001b[39mEnforcement Actions by Judicial District\u001b[39m\u001b[39m'\u001b[39m)\n\u001b[1;32m      5\u001b[0m ax\u001b[39m.\u001b[39mset_xlabel(\u001b[39m'\u001b[39m\u001b[39m'\u001b[39m)\n",
      "\u001b[0;31mNameError\u001b[0m: name 'merged_df' is not defined"
     ]
    },
    {
     "data": {
      "image/png": "[encoded data removed]",
      "text/plain": [
       "<Figure size 1000x800 with 1 Axes>"
      ]
     },
     "metadata": {},
     "output_type": "display_data"
    }
   ],
   "source": [
    "import matplotlib.pyplot as plt\n",
    "fig, ax = plt.subplots(figsize=(10, 8))\n",
    "merged_df.plot(column='Enforcement Actions', cmap='Blues', legend=True, ax=ax, legend_kwds={'label': 'Enforcement Actions'})\n",
    "ax.set_title('Enforcement Actions by Judicial District')\n",
    "ax.set_xlabel('')\n",
    "ax.set_ylabel('')\n",
    "plt.axis('off')  # Remove axis\n",
    "plt.show()"
   ]
  },
  {
   "cell_type": "code",
   "execution_count": null,
   "id": "fd95ac10-a80e-4bd2-bbd3-7d9242350ab4",
   "metadata": {
    "vscode": {
     "languageId": "quarto"
    }
   },
   "outputs": [
    {
     "ename": "NameError",
     "evalue": "name 'merged_df' is not defined",
     "output_type": "error",
     "traceback": [
      "\u001b[0;31m---------------------------------------------------------------------------\u001b[0m",
      "\u001b[0;31mNameError\u001b[0m                                 Traceback (most recent call last)",
      "File \u001b[1;32m/Users/willsigal/Documents/GitHub/problem-set-5/ps5.qmd:1\u001b[0m\n\u001b[0;32m----> 1\u001b[0m \u001b[39mprint\u001b[39m(merged_df[\u001b[39m'\u001b[39m\u001b[39mgeometry\u001b[39m\u001b[39m'\u001b[39m]\u001b[39m.\u001b[39mhead())\n",
      "\u001b[0;31mNameError\u001b[0m: name 'merged_df' is not defined"
     ]
    }
   ],
   "source": [
    "print(merged_df['geometry'].head())"
   ]
  },
  {
   "cell_type": "code",
   "execution_count": null,
   "id": "de51a930-656b-4d78-a393-314986ed5977",
   "metadata": {
    "vscode": {
     "languageId": "quarto"
    }
   },
   "outputs": [
    {
     "ename": "AttributeError",
     "evalue": "Line2D.set() got an unexpected keyword argument 'legend_kwds'",
     "output_type": "error",
     "traceback": [
      "\u001b[0;31m---------------------------------------------------------------------------\u001b[0m",
      "\u001b[0;31mAttributeError\u001b[0m                            Traceback (most recent call last)",
      "File \u001b[1;32m/Users/willsigal/Documents/GitHub/problem-set-5/ps5.qmd:3\u001b[0m\n\u001b[1;32m      1\u001b[0m \u001b[39mimport\u001b[39;00m \u001b[39mmatplotlib\u001b[39;00m\u001b[39m.\u001b[39;00m\u001b[39mpyplot\u001b[39;00m \u001b[39mas\u001b[39;00m \u001b[39mplt\u001b[39;00m\n\u001b[1;32m      2\u001b[0m fig, ax \u001b[39m=\u001b[39m plt\u001b[39m.\u001b[39msubplots(figsize\u001b[39m=\u001b[39m(\u001b[39m10\u001b[39m, \u001b[39m8\u001b[39m))\n\u001b[0;32m----> 3\u001b[0m merged_districts_df\u001b[39m.\u001b[39;49mplot(column\u001b[39m=\u001b[39;49m\u001b[39m'\u001b[39;49m\u001b[39mEnforcement Actions\u001b[39;49m\u001b[39m'\u001b[39;49m, cmap\u001b[39m=\u001b[39;49m\u001b[39m'\u001b[39;49m\u001b[39mBlues\u001b[39;49m\u001b[39m'\u001b[39;49m, legend\u001b[39m=\u001b[39;49m\u001b[39mTrue\u001b[39;49;00m, ax\u001b[39m=\u001b[39;49max, legend_kwds\u001b[39m=\u001b[39;49m{\u001b[39m'\u001b[39;49m\u001b[39mlabel\u001b[39;49m\u001b[39m'\u001b[39;49m: \u001b[39m'\u001b[39;49m\u001b[39mEnforcement Actions\u001b[39;49m\u001b[39m'\u001b[39;49m})\n\u001b[1;32m      4\u001b[0m ax\u001b[39m.\u001b[39mset_title(\u001b[39m'\u001b[39m\u001b[39mEnforcement Actions by Judicial District\u001b[39m\u001b[39m'\u001b[39m)\n\u001b[1;32m      5\u001b[0m ax\u001b[39m.\u001b[39mset_xlabel(\u001b[39m'\u001b[39m\u001b[39m'\u001b[39m)\n",
      "File \u001b[0;32m/opt/anaconda3/lib/python3.11/site-packages/pandas/plotting/_core.py:1031\u001b[0m, in \u001b[0;36mPlotAccessor.__call__\u001b[0;34m(self, *args, **kwargs)\u001b[0m\n\u001b[1;32m   1028\u001b[0m             label_name \u001b[39m=\u001b[39m label_kw \u001b[39mor\u001b[39;00m data\u001b[39m.\u001b[39mcolumns\n\u001b[1;32m   1029\u001b[0m             data\u001b[39m.\u001b[39mcolumns \u001b[39m=\u001b[39m label_name\n\u001b[0;32m-> 1031\u001b[0m \u001b[39mreturn\u001b[39;00m plot_backend\u001b[39m.\u001b[39;49mplot(data, kind\u001b[39m=\u001b[39;49mkind, \u001b[39m*\u001b[39;49m\u001b[39m*\u001b[39;49mkwargs)\n",
      "File \u001b[0;32m/opt/anaconda3/lib/python3.11/site-packages/pandas/plotting/_matplotlib/__init__.py:71\u001b[0m, in \u001b[0;36mplot\u001b[0;34m(data, kind, **kwargs)\u001b[0m\n\u001b[1;32m     69\u001b[0m         kwargs[\u001b[39m\"\u001b[39m\u001b[39max\u001b[39m\u001b[39m\"\u001b[39m] \u001b[39m=\u001b[39m \u001b[39mgetattr\u001b[39m(ax, \u001b[39m\"\u001b[39m\u001b[39mleft_ax\u001b[39m\u001b[39m\"\u001b[39m, ax)\n\u001b[1;32m     70\u001b[0m plot_obj \u001b[39m=\u001b[39m PLOT_CLASSES[kind](data, \u001b[39m*\u001b[39m\u001b[39m*\u001b[39mkwargs)\n\u001b[0;32m---> 71\u001b[0m plot_obj\u001b[39m.\u001b[39;49mgenerate()\n\u001b[1;32m     72\u001b[0m plot_obj\u001b[39m.\u001b[39mdraw()\n\u001b[1;32m     73\u001b[0m \u001b[39mreturn\u001b[39;00m plot_obj\u001b[39m.\u001b[39mresult\n",
      "File \u001b[0;32m/opt/anaconda3/lib/python3.11/site-packages/pandas/plotting/_matplotlib/core.py:453\u001b[0m, in \u001b[0;36mMPLPlot.generate\u001b[0;34m(self)\u001b[0m\n\u001b[1;32m    451\u001b[0m \u001b[39mself\u001b[39m\u001b[39m.\u001b[39m_compute_plot_data()\n\u001b[1;32m    452\u001b[0m \u001b[39mself\u001b[39m\u001b[39m.\u001b[39m_setup_subplots()\n\u001b[0;32m--> 453\u001b[0m \u001b[39mself\u001b[39;49m\u001b[39m.\u001b[39;49m_make_plot()\n\u001b[1;32m    454\u001b[0m \u001b[39mself\u001b[39m\u001b[39m.\u001b[39m_add_table()\n\u001b[1;32m    455\u001b[0m \u001b[39mself\u001b[39m\u001b[39m.\u001b[39m_make_legend()\n",
      "File \u001b[0;32m/opt/anaconda3/lib/python3.11/site-packages/pandas/plotting/_matplotlib/core.py:1392\u001b[0m, in \u001b[0;36mLinePlot._make_plot\u001b[0;34m(self)\u001b[0m\n\u001b[1;32m   1389\u001b[0m label \u001b[39m=\u001b[39m \u001b[39mself\u001b[39m\u001b[39m.\u001b[39m_mark_right_label(label, index\u001b[39m=\u001b[39mi)\n\u001b[1;32m   1390\u001b[0m kwds[\u001b[39m\"\u001b[39m\u001b[39mlabel\u001b[39m\u001b[39m\"\u001b[39m] \u001b[39m=\u001b[39m label\n\u001b[0;32m-> 1392\u001b[0m newlines \u001b[39m=\u001b[39m plotf(\n\u001b[1;32m   1393\u001b[0m     ax,\n\u001b[1;32m   1394\u001b[0m     x,\n\u001b[1;32m   1395\u001b[0m     y,\n\u001b[1;32m   1396\u001b[0m     style\u001b[39m=\u001b[39;49mstyle,\n\u001b[1;32m   1397\u001b[0m     column_num\u001b[39m=\u001b[39;49mi,\n\u001b[1;32m   1398\u001b[0m     stacking_id\u001b[39m=\u001b[39;49mstacking_id,\n\u001b[1;32m   1399\u001b[0m     is_errorbar\u001b[39m=\u001b[39;49mis_errorbar,\n\u001b[1;32m   1400\u001b[0m     \u001b[39m*\u001b[39;49m\u001b[39m*\u001b[39;49mkwds,\n\u001b[1;32m   1401\u001b[0m )\n\u001b[1;32m   1402\u001b[0m \u001b[39mself\u001b[39m\u001b[39m.\u001b[39m_append_legend_handles_labels(newlines[\u001b[39m0\u001b[39m], label)\n\u001b[1;32m   1404\u001b[0m \u001b[39mif\u001b[39;00m \u001b[39mself\u001b[39m\u001b[39m.\u001b[39m_is_ts_plot():\n\u001b[1;32m   1405\u001b[0m     \u001b[39m# reset of xlim should be used for ts data\u001b[39;00m\n\u001b[1;32m   1406\u001b[0m     \u001b[39m# TODO: GH28021, should find a way to change view limit on xaxis\u001b[39;00m\n",
      "File \u001b[0;32m/opt/anaconda3/lib/python3.11/site-packages/pandas/plotting/_matplotlib/core.py:1421\u001b[0m, in \u001b[0;36mLinePlot._plot\u001b[0;34m(cls, ax, x, y, style, column_num, stacking_id, **kwds)\u001b[0m\n\u001b[1;32m   1419\u001b[0m     \u001b[39mcls\u001b[39m\u001b[39m.\u001b[39m_initialize_stacker(ax, stacking_id, \u001b[39mlen\u001b[39m(y))\n\u001b[1;32m   1420\u001b[0m y_values \u001b[39m=\u001b[39m \u001b[39mcls\u001b[39m\u001b[39m.\u001b[39m_get_stacked_values(ax, stacking_id, y, kwds[\u001b[39m\"\u001b[39m\u001b[39mlabel\u001b[39m\u001b[39m\"\u001b[39m])\n\u001b[0;32m-> 1421\u001b[0m lines \u001b[39m=\u001b[39m MPLPlot\u001b[39m.\u001b[39;49m_plot(ax, x, y_values, style\u001b[39m=\u001b[39;49mstyle, \u001b[39m*\u001b[39;49m\u001b[39m*\u001b[39;49mkwds)\n\u001b[1;32m   1422\u001b[0m \u001b[39mcls\u001b[39m\u001b[39m.\u001b[39m_update_stacker(ax, stacking_id, y)\n\u001b[1;32m   1423\u001b[0m \u001b[39mreturn\u001b[39;00m lines\n",
      "File \u001b[0;32m/opt/anaconda3/lib/python3.11/site-packages/pandas/plotting/_matplotlib/converter.py:97\u001b[0m, in \u001b[0;36mregister_pandas_matplotlib_converters.<locals>.wrapper\u001b[0;34m(*args, **kwargs)\u001b[0m\n\u001b[1;32m     94\u001b[0m \u001b[39m@functools\u001b[39m\u001b[39m.\u001b[39mwraps(func)\n\u001b[1;32m     95\u001b[0m \u001b[39mdef\u001b[39;00m \u001b[39mwrapper\u001b[39m(\u001b[39m*\u001b[39margs, \u001b[39m*\u001b[39m\u001b[39m*\u001b[39mkwargs):\n\u001b[1;32m     96\u001b[0m     \u001b[39mwith\u001b[39;00m pandas_converters():\n\u001b[0;32m---> 97\u001b[0m         \u001b[39mreturn\u001b[39;00m func(\u001b[39m*\u001b[39;49margs, \u001b[39m*\u001b[39;49m\u001b[39m*\u001b[39;49mkwargs)\n",
      "File \u001b[0;32m/opt/anaconda3/lib/python3.11/site-packages/pandas/plotting/_matplotlib/core.py:891\u001b[0m, in \u001b[0;36mMPLPlot._plot\u001b[0;34m(cls, ax, x, y, style, is_errorbar, **kwds)\u001b[0m\n\u001b[1;32m    888\u001b[0m \u001b[39melse\u001b[39;00m:\n\u001b[1;32m    889\u001b[0m     \u001b[39m# prevent style kwarg from going to errorbar, where it is unsupported\u001b[39;00m\n\u001b[1;32m    890\u001b[0m     args \u001b[39m=\u001b[39m (x, y, style) \u001b[39mif\u001b[39;00m style \u001b[39mis\u001b[39;00m \u001b[39mnot\u001b[39;00m \u001b[39mNone\u001b[39;00m \u001b[39melse\u001b[39;00m (x, y)\n\u001b[0;32m--> 891\u001b[0m     \u001b[39mreturn\u001b[39;00m ax\u001b[39m.\u001b[39;49mplot(\u001b[39m*\u001b[39;49margs, \u001b[39m*\u001b[39;49m\u001b[39m*\u001b[39;49mkwds)\n",
      "File \u001b[0;32m/opt/anaconda3/lib/python3.11/site-packages/matplotlib/axes/_axes.py:1721\u001b[0m, in \u001b[0;36mAxes.plot\u001b[0;34m(self, scalex, scaley, data, *args, **kwargs)\u001b[0m\n\u001b[1;32m   1478\u001b[0m \u001b[39m\u001b[39m\u001b[39m\"\"\"\u001b[39;00m\n\u001b[1;32m   1479\u001b[0m \u001b[39mPlot y versus x as lines and/or markers.\u001b[39;00m\n\u001b[1;32m   1480\u001b[0m \n\u001b[0;32m   (...)\u001b[0m\n\u001b[1;32m   1718\u001b[0m \u001b[39m(``'green'``) or hex strings (``'#008000'``).\u001b[39;00m\n\u001b[1;32m   1719\u001b[0m \u001b[39m\"\"\"\u001b[39;00m\n\u001b[1;32m   1720\u001b[0m kwargs \u001b[39m=\u001b[39m cbook\u001b[39m.\u001b[39mnormalize_kwargs(kwargs, mlines\u001b[39m.\u001b[39mLine2D)\n\u001b[0;32m-> 1721\u001b[0m lines \u001b[39m=\u001b[39m [\u001b[39m*\u001b[39m\u001b[39mself\u001b[39m\u001b[39m.\u001b[39m_get_lines(\u001b[39mself\u001b[39m, \u001b[39m*\u001b[39margs, data\u001b[39m=\u001b[39mdata, \u001b[39m*\u001b[39m\u001b[39m*\u001b[39mkwargs)]\n\u001b[1;32m   1722\u001b[0m \u001b[39mfor\u001b[39;00m line \u001b[39min\u001b[39;00m lines:\n\u001b[1;32m   1723\u001b[0m     \u001b[39mself\u001b[39m\u001b[39m.\u001b[39madd_line(line)\n",
      "File \u001b[0;32m/opt/anaconda3/lib/python3.11/site-packages/matplotlib/axes/_base.py:303\u001b[0m, in \u001b[0;36m_process_plot_var_args.__call__\u001b[0;34m(self, axes, data, *args, **kwargs)\u001b[0m\n\u001b[1;32m    301\u001b[0m     this \u001b[39m+\u001b[39m\u001b[39m=\u001b[39m args[\u001b[39m0\u001b[39m],\n\u001b[1;32m    302\u001b[0m     args \u001b[39m=\u001b[39m args[\u001b[39m1\u001b[39m:]\n\u001b[0;32m--> 303\u001b[0m \u001b[39myield from\u001b[39;00m \u001b[39mself\u001b[39;49m\u001b[39m.\u001b[39;49m_plot_args(\n\u001b[1;32m    304\u001b[0m     axes, this, kwargs, ambiguous_fmt_datakey\u001b[39m=\u001b[39;49mambiguous_fmt_datakey)\n",
      "File \u001b[0;32m/opt/anaconda3/lib/python3.11/site-packages/matplotlib/axes/_base.py:539\u001b[0m, in \u001b[0;36m_process_plot_var_args._plot_args\u001b[0;34m(self, axes, tup, kwargs, return_kwargs, ambiguous_fmt_datakey)\u001b[0m\n\u001b[1;32m    537\u001b[0m     \u001b[39mreturn\u001b[39;00m \u001b[39mlist\u001b[39m(result)\n\u001b[1;32m    538\u001b[0m \u001b[39melse\u001b[39;00m:\n\u001b[0;32m--> 539\u001b[0m     \u001b[39mreturn\u001b[39;00m [l[\u001b[39m0\u001b[39;49m] \u001b[39mfor\u001b[39;49;00m l \u001b[39min\u001b[39;49;00m result]\n",
      "File \u001b[0;32m/opt/anaconda3/lib/python3.11/site-packages/matplotlib/axes/_base.py:539\u001b[0m, in \u001b[0;36m<listcomp>\u001b[0;34m(.0)\u001b[0m\n\u001b[1;32m    537\u001b[0m     \u001b[39mreturn\u001b[39;00m \u001b[39mlist\u001b[39m(result)\n\u001b[1;32m    538\u001b[0m \u001b[39melse\u001b[39;00m:\n\u001b[0;32m--> 539\u001b[0m     \u001b[39mreturn\u001b[39;00m [l[\u001b[39m0\u001b[39;49m] \u001b[39mfor\u001b[39;49;00m l \u001b[39min\u001b[39;49;00m result]\n",
      "File \u001b[0;32m/opt/anaconda3/lib/python3.11/site-packages/matplotlib/axes/_base.py:532\u001b[0m, in \u001b[0;36m<genexpr>\u001b[0;34m(.0)\u001b[0m\n\u001b[1;32m    529\u001b[0m \u001b[39melse\u001b[39;00m:\n\u001b[1;32m    530\u001b[0m     labels \u001b[39m=\u001b[39m [label] \u001b[39m*\u001b[39m n_datasets\n\u001b[0;32m--> 532\u001b[0m result \u001b[39m=\u001b[39m (make_artist(axes, x[:, j \u001b[39m%\u001b[39;49m ncx], y[:, j \u001b[39m%\u001b[39;49m ncy], kw,\n\u001b[1;32m    533\u001b[0m                       {\u001b[39m*\u001b[39;49m\u001b[39m*\u001b[39;49mkwargs, \u001b[39m'\u001b[39;49m\u001b[39mlabel\u001b[39;49m\u001b[39m'\u001b[39;49m: label})\n\u001b[1;32m    534\u001b[0m           \u001b[39mfor\u001b[39;00m j, label \u001b[39min\u001b[39;00m \u001b[39menumerate\u001b[39m(labels))\n\u001b[1;32m    536\u001b[0m \u001b[39mif\u001b[39;00m return_kwargs:\n\u001b[1;32m    537\u001b[0m     \u001b[39mreturn\u001b[39;00m \u001b[39mlist\u001b[39m(result)\n",
      "File \u001b[0;32m/opt/anaconda3/lib/python3.11/site-packages/matplotlib/axes/_base.py:346\u001b[0m, in \u001b[0;36m_process_plot_var_args._makeline\u001b[0;34m(self, axes, x, y, kw, kwargs)\u001b[0m\n\u001b[1;32m    344\u001b[0m default_dict \u001b[39m=\u001b[39m \u001b[39mself\u001b[39m\u001b[39m.\u001b[39m_getdefaults(\u001b[39mset\u001b[39m(), kw)\n\u001b[1;32m    345\u001b[0m \u001b[39mself\u001b[39m\u001b[39m.\u001b[39m_setdefaults(default_dict, kw)\n\u001b[0;32m--> 346\u001b[0m seg \u001b[39m=\u001b[39m mlines\u001b[39m.\u001b[39;49mLine2D(x, y, \u001b[39m*\u001b[39;49m\u001b[39m*\u001b[39;49mkw)\n\u001b[1;32m    347\u001b[0m \u001b[39mreturn\u001b[39;00m seg, kw\n",
      "File \u001b[0;32m/opt/anaconda3/lib/python3.11/site-packages/matplotlib/lines.py:407\u001b[0m, in \u001b[0;36mLine2D.__init__\u001b[0;34m(self, xdata, ydata, linewidth, linestyle, color, gapcolor, marker, markersize, markeredgewidth, markeredgecolor, markerfacecolor, markerfacecoloralt, fillstyle, antialiased, dash_capstyle, solid_capstyle, dash_joinstyle, solid_joinstyle, pickradius, drawstyle, markevery, **kwargs)\u001b[0m\n\u001b[1;32m    403\u001b[0m \u001b[39mself\u001b[39m\u001b[39m.\u001b[39mset_markeredgewidth(markeredgewidth)\n\u001b[1;32m    405\u001b[0m \u001b[39m# update kwargs before updating data to give the caller a\u001b[39;00m\n\u001b[1;32m    406\u001b[0m \u001b[39m# chance to init axes (and hence unit support)\u001b[39;00m\n\u001b[0;32m--> 407\u001b[0m \u001b[39mself\u001b[39;49m\u001b[39m.\u001b[39;49m_internal_update(kwargs)\n\u001b[1;32m    408\u001b[0m \u001b[39mself\u001b[39m\u001b[39m.\u001b[39mpickradius \u001b[39m=\u001b[39m pickradius\n\u001b[1;32m    409\u001b[0m \u001b[39mself\u001b[39m\u001b[39m.\u001b[39mind_offset \u001b[39m=\u001b[39m \u001b[39m0\u001b[39m\n",
      "File \u001b[0;32m/opt/anaconda3/lib/python3.11/site-packages/matplotlib/artist.py:1219\u001b[0m, in \u001b[0;36mArtist._internal_update\u001b[0;34m(self, kwargs)\u001b[0m\n\u001b[1;32m   1212\u001b[0m \u001b[39mdef\u001b[39;00m \u001b[39m_internal_update\u001b[39m(\u001b[39mself\u001b[39m, kwargs):\n\u001b[1;32m   1213\u001b[0m \u001b[39m    \u001b[39m\u001b[39m\"\"\"\u001b[39;00m\n\u001b[1;32m   1214\u001b[0m \u001b[39m    Update artist properties without prenormalizing them, but generating\u001b[39;00m\n\u001b[1;32m   1215\u001b[0m \u001b[39m    errors as if calling `set`.\u001b[39;00m\n\u001b[1;32m   1216\u001b[0m \n\u001b[1;32m   1217\u001b[0m \u001b[39m    The lack of prenormalization is to maintain backcompatibility.\u001b[39;00m\n\u001b[1;32m   1218\u001b[0m \u001b[39m    \"\"\"\u001b[39;00m\n\u001b[0;32m-> 1219\u001b[0m     \u001b[39mreturn\u001b[39;00m \u001b[39mself\u001b[39;49m\u001b[39m.\u001b[39;49m_update_props(\n\u001b[1;32m   1220\u001b[0m         kwargs, \u001b[39m\"\u001b[39;49m\u001b[39m{cls.__name__}\u001b[39;49;00m\u001b[39m.set() got an unexpected keyword argument \u001b[39;49m\u001b[39m\"\u001b[39;49m\n\u001b[1;32m   1221\u001b[0m         \u001b[39m\"\u001b[39;49m\u001b[39m{prop_name!r}\u001b[39;49;00m\u001b[39m\"\u001b[39;49m)\n",
      "File \u001b[0;32m/opt/anaconda3/lib/python3.11/site-packages/matplotlib/artist.py:1193\u001b[0m, in \u001b[0;36mArtist._update_props\u001b[0;34m(self, props, errfmt)\u001b[0m\n\u001b[1;32m   1191\u001b[0m             func \u001b[39m=\u001b[39m \u001b[39mgetattr\u001b[39m(\u001b[39mself\u001b[39m, \u001b[39mf\u001b[39m\u001b[39m\"\u001b[39m\u001b[39mset_\u001b[39m\u001b[39m{\u001b[39;00mk\u001b[39m}\u001b[39;00m\u001b[39m\"\u001b[39m, \u001b[39mNone\u001b[39;00m)\n\u001b[1;32m   1192\u001b[0m             \u001b[39mif\u001b[39;00m \u001b[39mnot\u001b[39;00m \u001b[39mcallable\u001b[39m(func):\n\u001b[0;32m-> 1193\u001b[0m                 \u001b[39mraise\u001b[39;00m \u001b[39mAttributeError\u001b[39;00m(\n\u001b[1;32m   1194\u001b[0m                     errfmt\u001b[39m.\u001b[39mformat(\u001b[39mcls\u001b[39m\u001b[39m=\u001b[39m\u001b[39mtype\u001b[39m(\u001b[39mself\u001b[39m), prop_name\u001b[39m=\u001b[39mk))\n\u001b[1;32m   1195\u001b[0m             ret\u001b[39m.\u001b[39mappend(func(v))\n\u001b[1;32m   1196\u001b[0m \u001b[39mif\u001b[39;00m ret:\n",
      "\u001b[0;31mAttributeError\u001b[0m: Line2D.set() got an unexpected keyword argument 'legend_kwds'"
     ]
    },
    {
     "data": {
      "image/png": "[encoded data removed]",
      "text/plain": [
       "<Figure size 1000x800 with 1 Axes>"
      ]
     },
     "metadata": {},
     "output_type": "display_data"
    }
   ],
   "source": [
    "import matplotlib.pyplot as plt\n",
    "fig, ax = plt.subplots(figsize=(10, 8))\n",
    "merged_districts_df.plot(column='Enforcement Actions', cmap='Blues', legend=True, ax=ax, legend_kwds={'label': 'Enforcement Actions'})\n",
    "ax.set_title('Enforcement Actions by Judicial District')\n",
    "ax.set_xlabel('')\n",
    "ax.set_ylabel('')\n",
    "plt.axis('off')  # Remove axis\n",
    "plt.show()"
   ]
  },
  {
   "cell_type": "code",
   "execution_count": null,
   "id": "a16ddd1c-7dd3-4ee4-97c2-141e7e27f902",
   "metadata": {
    "vscode": {
     "languageId": "quarto"
    }
   },
   "outputs": [
    {
     "ename": "NameError",
     "evalue": "name 'merged_df' is not defined",
     "output_type": "error",
     "traceback": [
      "\u001b[0;31m---------------------------------------------------------------------------\u001b[0m",
      "\u001b[0;31mNameError\u001b[0m                                 Traceback (most recent call last)",
      "File \u001b[1;32m/Users/willsigal/Documents/GitHub/problem-set-5/ps5.qmd:1\u001b[0m\n\u001b[0;32m----> 1\u001b[0m \u001b[39mprint\u001b[39m(merged_df[\u001b[39m'\u001b[39m\u001b[39mgeometry\u001b[39m\u001b[39m'\u001b[39m]\u001b[39m.\u001b[39mhead())\n",
      "\u001b[0;31mNameError\u001b[0m: name 'merged_df' is not defined"
     ]
    }
   ],
   "source": [
    "print(merged_df['geometry'].head())"
   ]
  },
  {
   "cell_type": "code",
   "execution_count": null,
   "id": "d3e19ec1-788f-4511-9013-59acec35277b",
   "metadata": {
    "vscode": {
     "languageId": "quarto"
    }
   },
   "outputs": [
    {
     "name": "stdout",
     "output_type": "stream",
     "text": [
      "0    MULTIPOLYGON (((-89.48248 36.50214, -89.48543 ...\n",
      "1    POLYGON ((-84.62012 39.07346, -84.60793 39.073...\n",
      "2    POLYGON ((-85.86281 40.46476, -85.86212 40.406...\n",
      "3    POLYGON ((-85.33828 33.49471, -85.33396 33.492...\n",
      "4    MULTIPOLYGON (((-88.08682 30.25987, -88.07676 ...\n",
      "Name: geometry, dtype: geometry\n"
     ]
    }
   ],
   "source": [
    "print(merged_districts_df['geometry'].head())"
   ]
  },
  {
   "cell_type": "code",
   "execution_count": null,
   "id": "3e9d9041-a624-47d2-8d3f-a57b2ad10c78",
   "metadata": {
    "vscode": {
     "languageId": "quarto"
    }
   },
   "outputs": [
    {
     "name": "stdout",
     "output_type": "stream",
     "text": [
      "0    MULTIPOLYGON (((-89.48248 36.50214, -89.48543 ...\n",
      "1    POLYGON ((-84.62012 39.07346, -84.60793 39.073...\n",
      "2    POLYGON ((-85.86281 40.46476, -85.86212 40.406...\n",
      "3    POLYGON ((-85.33828 33.49471, -85.33396 33.492...\n",
      "4    MULTIPOLYGON (((-88.08682 30.25987, -88.07676 ...\n",
      "Name: geometry, dtype: geometry\n"
     ]
    },
    {
     "ename": "AttributeError",
     "evalue": "'DataFrame' object has no attribute 'crs'",
     "output_type": "error",
     "traceback": [
      "\u001b[0;31m---------------------------------------------------------------------------\u001b[0m",
      "\u001b[0;31mAttributeError\u001b[0m                            Traceback (most recent call last)",
      "\u001b[0;32m<ipython-input-39-06883af584c7>\u001b[0m in \u001b[0;36m?\u001b[0;34m()\u001b[0m\n\u001b[1;32m      1\u001b[0m \u001b[0mprint\u001b[0m\u001b[0;34m(\u001b[0m\u001b[0mmerged_districts_df\u001b[0m\u001b[0;34m[\u001b[0m\u001b[0;34m'geometry'\u001b[0m\u001b[0;34m]\u001b[0m\u001b[0;34m.\u001b[0m\u001b[0mhead\u001b[0m\u001b[0;34m(\u001b[0m\u001b[0;34m)\u001b[0m\u001b[0;34m)\u001b[0m\u001b[0;34m\u001b[0m\u001b[0;34m\u001b[0m\u001b[0m\n\u001b[0;32m----> 2\u001b[0;31m \u001b[0mprint\u001b[0m\u001b[0;34m(\u001b[0m\u001b[0mmerged_districts_df\u001b[0m\u001b[0;34m.\u001b[0m\u001b[0mcrs\u001b[0m\u001b[0;34m)\u001b[0m\u001b[0;34m\u001b[0m\u001b[0;34m\u001b[0m\u001b[0m\n\u001b[0m\u001b[1;32m      3\u001b[0m \u001b[0mprint\u001b[0m\u001b[0;34m(\u001b[0m\u001b[0mmerged_districts_df\u001b[0m\u001b[0;34m[\u001b[0m\u001b[0;34m'Enforcement Actions'\u001b[0m\u001b[0;34m]\u001b[0m\u001b[0;34m.\u001b[0m\u001b[0mdtype\u001b[0m\u001b[0;34m)\u001b[0m\u001b[0;34m\u001b[0m\u001b[0;34m\u001b[0m\u001b[0m\n\u001b[1;32m      4\u001b[0m \u001b[0mprint\u001b[0m\u001b[0;34m(\u001b[0m\u001b[0mmerged_districts_df\u001b[0m\u001b[0;34m[\u001b[0m\u001b[0;34m'Enforcement Actions'\u001b[0m\u001b[0;34m]\u001b[0m\u001b[0;34m.\u001b[0m\u001b[0misnull\u001b[0m\u001b[0;34m(\u001b[0m\u001b[0;34m)\u001b[0m\u001b[0;34m.\u001b[0m\u001b[0msum\u001b[0m\u001b[0;34m(\u001b[0m\u001b[0;34m)\u001b[0m\u001b[0;34m)\u001b[0m\u001b[0;34m\u001b[0m\u001b[0;34m\u001b[0m\u001b[0m\n",
      "\u001b[0;32m/opt/anaconda3/lib/python3.11/site-packages/pandas/core/generic.py\u001b[0m in \u001b[0;36m?\u001b[0;34m(self, name)\u001b[0m\n\u001b[1;32m   6200\u001b[0m             \u001b[0;32mand\u001b[0m \u001b[0mname\u001b[0m \u001b[0;32mnot\u001b[0m \u001b[0;32min\u001b[0m \u001b[0mself\u001b[0m\u001b[0;34m.\u001b[0m\u001b[0m_accessors\u001b[0m\u001b[0;34m\u001b[0m\u001b[0;34m\u001b[0m\u001b[0m\n\u001b[1;32m   6201\u001b[0m             \u001b[0;32mand\u001b[0m \u001b[0mself\u001b[0m\u001b[0;34m.\u001b[0m\u001b[0m_info_axis\u001b[0m\u001b[0;34m.\u001b[0m\u001b[0m_can_hold_identifiers_and_holds_name\u001b[0m\u001b[0;34m(\u001b[0m\u001b[0mname\u001b[0m\u001b[0;34m)\u001b[0m\u001b[0;34m\u001b[0m\u001b[0;34m\u001b[0m\u001b[0m\n\u001b[1;32m   6202\u001b[0m         ):\n\u001b[1;32m   6203\u001b[0m             \u001b[0;32mreturn\u001b[0m \u001b[0mself\u001b[0m\u001b[0;34m[\u001b[0m\u001b[0mname\u001b[0m\u001b[0;34m]\u001b[0m\u001b[0;34m\u001b[0m\u001b[0;34m\u001b[0m\u001b[0m\n\u001b[0;32m-> 6204\u001b[0;31m         \u001b[0;32mreturn\u001b[0m \u001b[0mobject\u001b[0m\u001b[0;34m.\u001b[0m\u001b[0m__getattribute__\u001b[0m\u001b[0;34m(\u001b[0m\u001b[0mself\u001b[0m\u001b[0;34m,\u001b[0m \u001b[0mname\u001b[0m\u001b[0;34m)\u001b[0m\u001b[0;34m\u001b[0m\u001b[0;34m\u001b[0m\u001b[0m\n\u001b[0m",
      "\u001b[0;31mAttributeError\u001b[0m: 'DataFrame' object has no attribute 'crs'"
     ]
    }
   ],
   "source": [
    "print(merged_districts_df['geometry'].head())\n",
    "print(merged_districts_df.crs)\n",
    "print(merged_districts_df['Enforcement Actions'].dtype)\n",
    "print(merged_districts_df['Enforcement Actions'].isnull().sum())"
   ]
  },
  {
   "cell_type": "code",
   "execution_count": null,
   "id": "23493128-0fdc-4b4e-b7d4-25eee681488a",
   "metadata": {
    "vscode": {
     "languageId": "quarto"
    }
   },
   "outputs": [],
   "source": [
    "gdf = gpd.GeoDataFrame(merged_districts_df, geometry='geometry')"
   ]
  },
  {
   "cell_type": "code",
   "execution_count": null,
   "id": "1aff5a7e-f57b-4deb-8c62-6cb24b7ab94d",
   "metadata": {
    "vscode": {
     "languageId": "quarto"
    }
   },
   "outputs": [
    {
     "name": "stdout",
     "output_type": "stream",
     "text": [
      "EPSG:4326\n"
     ]
    }
   ],
   "source": [
    "gdf = gpd.GeoDataFrame(merged_districts_df, geometry='geometry')\n",
    "print(gdf.crs)"
   ]
  },
  {
   "cell_type": "code",
   "execution_count": null,
   "id": "4d917184-8086-4aaa-92e7-da106710d895",
   "metadata": {
    "vscode": {
     "languageId": "quarto"
    }
   },
   "outputs": [
    {
     "ename": "",
     "evalue": "",
     "output_type": "error",
     "traceback": [
      "\u001b[1;31mCell was canceled due to an error in a previous cell."
     ]
    }
   ],
   "source": [
    "fig, ax = plt.subplots(figsize=(10, 8))\n",
    "gdf.plot(column='Enforcement Actions', cmap='Blues', legend=True, ax=ax)\n",
    "ax.set_title('Enforcement Actions by Judicial District')\n",
    "plt.show()"
   ]
  },
  {
   "cell_type": "code",
   "execution_count": null,
   "id": "1e2f5e85-9414-41e9-bb41-c8319bdd49f5",
   "metadata": {
    "vscode": {
     "languageId": "quarto"
    }
   },
   "outputs": [
    {
     "data": {
      "image/png": "[encoded data removed]",
      "text/plain": [
       "<Figure size 1000x800 with 2 Axes>"
      ]
     },
     "metadata": {},
     "output_type": "display_data"
    }
   ],
   "source": [
    "fig, ax = plt.subplots(figsize=(10, 8))\n",
    "gdf.plot(column='Enforcement Actions', cmap='Blues', legend=True, ax=ax)\n",
    "ax.set_title('Enforcement Actions by Judicial District')\n",
    "plt.show()"
   ]
  },
  {
   "cell_type": "code",
   "execution_count": null,
   "id": "a4db3011-6519-4891-8ea8-8150a4a5c5da",
   "metadata": {
    "vscode": {
     "languageId": "quarto"
    }
   },
   "outputs": [
    {
     "data": {
      "image/png": "[encoded data removed]",
      "text/plain": [
       "<Figure size 640x480 with 2 Axes>"
      ]
     },
     "metadata": {},
     "output_type": "display_data"
    }
   ],
   "source": [
    "fig, ax = plt.subplots()\n",
    "gdf.plot(column='Enforcement Actions', cmap='Blues', legend=True, ax=ax)\n",
    "ax.set_title('Enforcement Actions by Judicial District')\n",
    "plt.show()"
   ]
  },
  {
   "cell_type": "code",
   "execution_count": null,
   "id": "23ab7941-3182-42f4-93ed-0fdef8b33fc3",
   "metadata": {
    "vscode": {
     "languageId": "quarto"
    }
   },
   "outputs": [
    {
     "ename": "AttributeError",
     "evalue": "'numpy.ndarray' object has no attribute 'set_aspect'",
     "output_type": "error",
     "traceback": [
      "\u001b[0;31m---------------------------------------------------------------------------\u001b[0m",
      "\u001b[0;31mAttributeError\u001b[0m                            Traceback (most recent call last)",
      "File \u001b[1;32m/Users/willsigal/Documents/GitHub/problem-set-5/ps5.qmd:2\u001b[0m\n\u001b[1;32m      1\u001b[0m fig, ax \u001b[39m=\u001b[39m plt\u001b[39m.\u001b[39msubplots(\u001b[39m10\u001b[39m, \u001b[39m8\u001b[39m)\n\u001b[0;32m----> 2\u001b[0m gdf\u001b[39m.\u001b[39;49mplot(column\u001b[39m=\u001b[39;49m\u001b[39m'\u001b[39;49m\u001b[39mEnforcement Actions\u001b[39;49m\u001b[39m'\u001b[39;49m, cmap\u001b[39m=\u001b[39;49m\u001b[39m'\u001b[39;49m\u001b[39mBlues\u001b[39;49m\u001b[39m'\u001b[39;49m, legend\u001b[39m=\u001b[39;49m\u001b[39mTrue\u001b[39;49;00m, ax\u001b[39m=\u001b[39;49max)\n\u001b[1;32m      3\u001b[0m ax\u001b[39m.\u001b[39mset_title(\u001b[39m'\u001b[39m\u001b[39mEnforcement Actions by Judicial District\u001b[39m\u001b[39m'\u001b[39m)\n\u001b[1;32m      4\u001b[0m plt\u001b[39m.\u001b[39mshow()\n",
      "File \u001b[0;32m/opt/anaconda3/lib/python3.11/site-packages/geopandas/plotting.py:968\u001b[0m, in \u001b[0;36mGeoplotAccessor.__call__\u001b[0;34m(self, *args, **kwargs)\u001b[0m\n\u001b[1;32m    966\u001b[0m kind \u001b[39m=\u001b[39m kwargs\u001b[39m.\u001b[39mpop(\u001b[39m\"\u001b[39m\u001b[39mkind\u001b[39m\u001b[39m\"\u001b[39m, \u001b[39m\"\u001b[39m\u001b[39mgeo\u001b[39m\u001b[39m\"\u001b[39m)\n\u001b[1;32m    967\u001b[0m \u001b[39mif\u001b[39;00m kind \u001b[39m==\u001b[39m \u001b[39m\"\u001b[39m\u001b[39mgeo\u001b[39m\u001b[39m\"\u001b[39m:\n\u001b[0;32m--> 968\u001b[0m     \u001b[39mreturn\u001b[39;00m plot_dataframe(data, \u001b[39m*\u001b[39;49margs, \u001b[39m*\u001b[39;49m\u001b[39m*\u001b[39;49mkwargs)\n\u001b[1;32m    969\u001b[0m \u001b[39mif\u001b[39;00m kind \u001b[39min\u001b[39;00m \u001b[39mself\u001b[39m\u001b[39m.\u001b[39m_pandas_kinds:\n\u001b[1;32m    970\u001b[0m     \u001b[39m# Access pandas plots\u001b[39;00m\n\u001b[1;32m    971\u001b[0m     \u001b[39mreturn\u001b[39;00m PlotAccessor(data)(kind\u001b[39m=\u001b[39mkind, \u001b[39m*\u001b[39m\u001b[39m*\u001b[39mkwargs)\n",
      "File \u001b[0;32m/opt/anaconda3/lib/python3.11/site-packages/geopandas/plotting.py:664\u001b[0m, in \u001b[0;36mplot_dataframe\u001b[0;34m(df, column, cmap, color, ax, cax, categorical, legend, scheme, k, vmin, vmax, markersize, figsize, legend_kwds, categories, classification_kwds, missing_kwds, aspect, autolim, **style_kwds)\u001b[0m\n\u001b[1;32m    662\u001b[0m     bounds \u001b[39m=\u001b[39m df\u001b[39m.\u001b[39mtotal_bounds\n\u001b[1;32m    663\u001b[0m     y_coord \u001b[39m=\u001b[39m np\u001b[39m.\u001b[39mmean([bounds[\u001b[39m1\u001b[39m], bounds[\u001b[39m3\u001b[39m]])\n\u001b[0;32m--> 664\u001b[0m     ax\u001b[39m.\u001b[39;49mset_aspect(\u001b[39m1\u001b[39m \u001b[39m/\u001b[39m np\u001b[39m.\u001b[39mcos(y_coord \u001b[39m*\u001b[39m np\u001b[39m.\u001b[39mpi \u001b[39m/\u001b[39m \u001b[39m180\u001b[39m))\n\u001b[1;32m    665\u001b[0m     \u001b[39m# formula ported from R package sp\u001b[39;00m\n\u001b[1;32m    666\u001b[0m     \u001b[39m# https://github.com/edzer/sp/blob/master/R/mapasp.R\u001b[39;00m\n\u001b[1;32m    667\u001b[0m \u001b[39melse\u001b[39;00m:\n\u001b[1;32m    668\u001b[0m     ax\u001b[39m.\u001b[39mset_aspect(\u001b[39m\"\u001b[39m\u001b[39mequal\u001b[39m\u001b[39m\"\u001b[39m)\n",
      "\u001b[0;31mAttributeError\u001b[0m: 'numpy.ndarray' object has no attribute 'set_aspect'"
     ]
    },
    {
     "data": {
      "image/png": "[encoded data removed]",
      "text/plain": [
       "<Figure size 640x480 with 80 Axes>"
      ]
     },
     "metadata": {},
     "output_type": "display_data"
    }
   ],
   "source": [
    "fig, ax = plt.subplots(10, 8)\n",
    "gdf.plot(column='Enforcement Actions', cmap='Blues', legend=True, ax=ax)\n",
    "ax.set_title('Enforcement Actions by Judicial District')\n",
    "plt.show()"
   ]
  },
  {
   "cell_type": "code",
   "execution_count": null,
   "id": "eec69bf3-4358-47e3-83c4-7c024ceb38ca",
   "metadata": {
    "vscode": {
     "languageId": "quarto"
    }
   },
   "outputs": [
    {
     "data": {
      "image/png": "[encoded data removed]",
      "text/plain": [
       "<Figure size 1000x800 with 2 Axes>"
      ]
     },
     "metadata": {},
     "output_type": "display_data"
    }
   ],
   "source": [
    "fig, ax = plt.subplots(figsize=(10, 8))\n",
    "gdf.plot(column='Enforcement Actions', cmap='Blues', legend=True, ax=ax)\n",
    "ax.set_title('Enforcement Actions by Judicial District')\n",
    "plt.show()"
   ]
  },
  {
   "cell_type": "code",
   "execution_count": null,
   "id": "2b52ad9e-b48b-4fa3-b076-70b6ff497280",
   "metadata": {
    "vscode": {
     "languageId": "quarto"
    }
   },
   "outputs": [
    {
     "data": {
      "image/png": "[encoded data removed]",
      "text/plain": [
       "<Figure size 600x800 with 2 Axes>"
      ]
     },
     "metadata": {},
     "output_type": "display_data"
    }
   ],
   "source": [
    "fig, ax = plt.subplots(figsize=(6, 8))\n",
    "gdf.plot(column='Enforcement Actions', cmap='Blues', legend=True, ax=ax)\n",
    "ax.set_title('Enforcement Actions by Judicial District')\n",
    "plt.show()"
   ]
  },
  {
   "cell_type": "code",
   "execution_count": null,
   "id": "24d68e19-d95f-4aa5-9ab6-0c26084c1e6f",
   "metadata": {
    "vscode": {
     "languageId": "quarto"
    }
   },
   "outputs": [
    {
     "ename": "TypeError",
     "evalue": "Colorbar.__init__() got an unexpected keyword argument 'loc'",
     "output_type": "error",
     "traceback": [
      "\u001b[0;31m---------------------------------------------------------------------------\u001b[0m",
      "\u001b[0;31mTypeError\u001b[0m                                 Traceback (most recent call last)",
      "File \u001b[1;32m/Users/willsigal/Documents/GitHub/problem-set-5/ps5.qmd:2\u001b[0m\n\u001b[1;32m      1\u001b[0m fig, ax \u001b[39m=\u001b[39m plt\u001b[39m.\u001b[39msubplots(figsize\u001b[39m=\u001b[39m(\u001b[39m12\u001b[39m, \u001b[39m10\u001b[39m))  \u001b[39m# Increase figure size\u001b[39;00m\n\u001b[0;32m----> 2\u001b[0m gdf\u001b[39m.\u001b[39;49mplot(column\u001b[39m=\u001b[39;49m\u001b[39m'\u001b[39;49m\u001b[39mEnforcement Actions\u001b[39;49m\u001b[39m'\u001b[39;49m, cmap\u001b[39m=\u001b[39;49m\u001b[39m'\u001b[39;49m\u001b[39mBlues\u001b[39;49m\u001b[39m'\u001b[39;49m, legend\u001b[39m=\u001b[39;49m\u001b[39mTrue\u001b[39;49;00m, ax\u001b[39m=\u001b[39;49max, legend_kwds\u001b[39m=\u001b[39;49m{\u001b[39m'\u001b[39;49m\u001b[39mloc\u001b[39;49m\u001b[39m'\u001b[39;49m: \u001b[39m'\u001b[39;49m\u001b[39mlower right\u001b[39;49m\u001b[39m'\u001b[39;49m, \u001b[39m'\u001b[39;49m\u001b[39mbbox_to_anchor\u001b[39;49m\u001b[39m'\u001b[39;49m: (\u001b[39m1.05\u001b[39;49m, \u001b[39m0.1\u001b[39;49m)})  \u001b[39m# Move legend\u001b[39;00m\n\u001b[1;32m      3\u001b[0m ax\u001b[39m.\u001b[39mset_title(\u001b[39m'\u001b[39m\u001b[39mEnforcement Actions by Judicial District\u001b[39m\u001b[39m'\u001b[39m)\n\u001b[1;32m      4\u001b[0m ax\u001b[39m.\u001b[39maxis(\u001b[39m'\u001b[39m\u001b[39moff\u001b[39m\u001b[39m'\u001b[39m)  \u001b[39m# Remove axis\u001b[39;00m\n",
      "File \u001b[0;32m/opt/anaconda3/lib/python3.11/site-packages/geopandas/plotting.py:968\u001b[0m, in \u001b[0;36mGeoplotAccessor.__call__\u001b[0;34m(self, *args, **kwargs)\u001b[0m\n\u001b[1;32m    966\u001b[0m kind \u001b[39m=\u001b[39m kwargs\u001b[39m.\u001b[39mpop(\u001b[39m\"\u001b[39m\u001b[39mkind\u001b[39m\u001b[39m\"\u001b[39m, \u001b[39m\"\u001b[39m\u001b[39mgeo\u001b[39m\u001b[39m\"\u001b[39m)\n\u001b[1;32m    967\u001b[0m \u001b[39mif\u001b[39;00m kind \u001b[39m==\u001b[39m \u001b[39m\"\u001b[39m\u001b[39mgeo\u001b[39m\u001b[39m\"\u001b[39m:\n\u001b[0;32m--> 968\u001b[0m     \u001b[39mreturn\u001b[39;00m plot_dataframe(data, \u001b[39m*\u001b[39;49margs, \u001b[39m*\u001b[39;49m\u001b[39m*\u001b[39;49mkwargs)\n\u001b[1;32m    969\u001b[0m \u001b[39mif\u001b[39;00m kind \u001b[39min\u001b[39;00m \u001b[39mself\u001b[39m\u001b[39m.\u001b[39m_pandas_kinds:\n\u001b[1;32m    970\u001b[0m     \u001b[39m# Access pandas plots\u001b[39;00m\n\u001b[1;32m    971\u001b[0m     \u001b[39mreturn\u001b[39;00m PlotAccessor(data)(kind\u001b[39m=\u001b[39mkind, \u001b[39m*\u001b[39m\u001b[39m*\u001b[39mkwargs)\n",
      "File \u001b[0;32m/opt/anaconda3/lib/python3.11/site-packages/geopandas/plotting.py:954\u001b[0m, in \u001b[0;36mplot_dataframe\u001b[0;34m(df, column, cmap, color, ax, cax, categorical, legend, scheme, k, vmin, vmax, markersize, figsize, legend_kwds, categories, classification_kwds, missing_kwds, aspect, autolim, **style_kwds)\u001b[0m\n\u001b[1;32m    951\u001b[0m             legend_kwds\u001b[39m.\u001b[39msetdefault(\u001b[39m\"\u001b[39m\u001b[39max\u001b[39m\u001b[39m\"\u001b[39m, ax)\n\u001b[1;32m    953\u001b[0m         n_cmap\u001b[39m.\u001b[39mset_array(np\u001b[39m.\u001b[39marray([]))\n\u001b[0;32m--> 954\u001b[0m         ax\u001b[39m.\u001b[39;49mget_figure()\u001b[39m.\u001b[39;49mcolorbar(n_cmap, \u001b[39m*\u001b[39;49m\u001b[39m*\u001b[39;49mlegend_kwds)\n\u001b[1;32m    956\u001b[0m ax\u001b[39m.\u001b[39mfigure\u001b[39m.\u001b[39mcanvas\u001b[39m.\u001b[39mdraw_idle()\n\u001b[1;32m    957\u001b[0m \u001b[39mreturn\u001b[39;00m ax\n",
      "File \u001b[0;32m/opt/anaconda3/lib/python3.11/site-packages/matplotlib/figure.py:1310\u001b[0m, in \u001b[0;36mFigureBase.colorbar\u001b[0;34m(self, mappable, cax, ax, use_gridspec, **kwargs)\u001b[0m\n\u001b[1;32m   1306\u001b[0m     cax\u001b[39m.\u001b[39mgrid(visible\u001b[39m=\u001b[39m\u001b[39mFalse\u001b[39;00m, which\u001b[39m=\u001b[39m\u001b[39m'\u001b[39m\u001b[39mboth\u001b[39m\u001b[39m'\u001b[39m, axis\u001b[39m=\u001b[39m\u001b[39m'\u001b[39m\u001b[39mboth\u001b[39m\u001b[39m'\u001b[39m)\n\u001b[1;32m   1308\u001b[0m NON_COLORBAR_KEYS \u001b[39m=\u001b[39m [  \u001b[39m# remove kws that cannot be passed to Colorbar\u001b[39;00m\n\u001b[1;32m   1309\u001b[0m     \u001b[39m'\u001b[39m\u001b[39mfraction\u001b[39m\u001b[39m'\u001b[39m, \u001b[39m'\u001b[39m\u001b[39mpad\u001b[39m\u001b[39m'\u001b[39m, \u001b[39m'\u001b[39m\u001b[39mshrink\u001b[39m\u001b[39m'\u001b[39m, \u001b[39m'\u001b[39m\u001b[39maspect\u001b[39m\u001b[39m'\u001b[39m, \u001b[39m'\u001b[39m\u001b[39manchor\u001b[39m\u001b[39m'\u001b[39m, \u001b[39m'\u001b[39m\u001b[39mpanchor\u001b[39m\u001b[39m'\u001b[39m]\n\u001b[0;32m-> 1310\u001b[0m cb \u001b[39m=\u001b[39m cbar\u001b[39m.\u001b[39;49mColorbar(cax, mappable, \u001b[39m*\u001b[39;49m\u001b[39m*\u001b[39;49m{\n\u001b[1;32m   1311\u001b[0m     k: v \u001b[39mfor\u001b[39;49;00m k, v \u001b[39min\u001b[39;49;00m kwargs\u001b[39m.\u001b[39;49mitems() \u001b[39mif\u001b[39;49;00m k \u001b[39mnot\u001b[39;49;00m \u001b[39min\u001b[39;49;00m NON_COLORBAR_KEYS})\n\u001b[1;32m   1312\u001b[0m cax\u001b[39m.\u001b[39mfigure\u001b[39m.\u001b[39mstale \u001b[39m=\u001b[39m \u001b[39mTrue\u001b[39;00m\n\u001b[1;32m   1313\u001b[0m \u001b[39mreturn\u001b[39;00m cb\n",
      "\u001b[0;31mTypeError\u001b[0m: Colorbar.__init__() got an unexpected keyword argument 'loc'"
     ]
    },
    {
     "data": {
      "image/png": "[encoded data removed]",
      "text/plain": [
       "<Figure size 1200x1000 with 2 Axes>"
      ]
     },
     "metadata": {},
     "output_type": "display_data"
    }
   ],
   "source": [
    "fig, ax = plt.subplots(figsize=(12, 10))  # Increase figure size\n",
    "gdf.plot(column='Enforcement Actions', cmap='Blues', legend=True, ax=ax, legend_kwds={'loc': 'lower right', 'bbox_to_anchor': (1.05, 0.1)})  # Move legend\n",
    "ax.set_title('Enforcement Actions by Judicial District')\n",
    "ax.axis('off')  # Remove axis\n",
    "plt.tight_layout(rect=[0, 0, 0.9, 1])  # Adjust layout\n",
    "plt.show()"
   ]
  },
  {
   "cell_type": "code",
   "execution_count": null,
   "id": "4a05d527-10e1-4c4d-854b-ee38057bd8f7",
   "metadata": {
    "vscode": {
     "languageId": "quarto"
    }
   },
   "outputs": [
    {
     "data": {
      "image/png": "[encoded data removed]",
      "text/plain": [
       "<Figure size 1000x800 with 2 Axes>"
      ]
     },
     "metadata": {},
     "output_type": "display_data"
    }
   ],
   "source": [
    "fig, ax = plt.subplots(figsize=(10, 8))\n",
    "gdf.plot(column='Enforcement Actions', cmap='Blues', legend=True, ax=ax)\n",
    "ax.set_title('Enforcement Actions by Judicial District')\n",
    "plt.show()"
   ]
  },
  {
   "cell_type": "code",
   "execution_count": null,
   "id": "14b977e4-0c39-4759-a5ee-f0370c4f6631",
   "metadata": {
    "vscode": {
     "languageId": "quarto"
    }
   },
   "outputs": [
    {
     "name": "stdout",
     "output_type": "stream",
     "text": [
      "EPSG:4326\n"
     ]
    }
   ],
   "source": [
    "gdf = gpd.GeoDataFrame(merged_districts_df, geometry='geometry')\n",
    "print(gdf.crs)"
   ]
  },
  {
   "cell_type": "code",
   "execution_count": null,
   "id": "7cd2d68a-ef56-4400-8a85-bb990f3c87e2",
   "metadata": {
    "vscode": {
     "languageId": "quarto"
    }
   },
   "outputs": [
    {
     "name": "stdout",
     "output_type": "stream",
     "text": [
      "EPSG:4326\n",
      "statefp                0\n",
      "judicial_d             0\n",
      "aland                  0\n",
      "awater                 0\n",
      "state                  0\n",
      "chief_judg             0\n",
      "nominating             0\n",
      "term_as_ch             0\n",
      "shape_leng             0\n",
      "shape_area             0\n",
      "abbr                   0\n",
      "district_n             0\n",
      "shape__are             0\n",
      "shape__len             0\n",
      "geometry               0\n",
      "District               6\n",
      "Enforcement Actions    0\n",
      "dtype: int64\n"
     ]
    }
   ],
   "source": [
    "gdf = gpd.GeoDataFrame(merged_districts_df, geometry='geometry')\n",
    "print(gdf.crs)\n",
    "print(gdf.isnull().sum())  # Ensure no missing values in 'Enforcement Actions'"
   ]
  },
  {
   "cell_type": "code",
   "execution_count": null,
   "id": "1a5584c1-367a-4517-b7d6-e9460c682b48",
   "metadata": {
    "vscode": {
     "languageId": "quarto"
    }
   },
   "outputs": [
    {
     "name": "stdout",
     "output_type": "stream",
     "text": [
      "EPSG:4326\n"
     ]
    }
   ],
   "source": [
    "gdf = gpd.GeoDataFrame(merged_districts_df, geometry='geometry')\n",
    "print(gdf.crs)\n",
    "gdf['Enforcement Actions'] = gdf['Enforcement Actions'].fillna(0)"
   ]
  },
  {
   "cell_type": "code",
   "execution_count": null,
   "id": "104a254b-0f00-4aaf-8040-8eb164b88ed0",
   "metadata": {
    "vscode": {
     "languageId": "quarto"
    }
   },
   "outputs": [
    {
     "data": {
      "image/png": "[encoded data removed]",
      "text/plain": [
       "<Figure size 1200x800 with 2 Axes>"
      ]
     },
     "metadata": {},
     "output_type": "display_data"
    }
   ],
   "source": [
    "ig, ax = plt.subplots(figsize=(12, 8))  # Adjust figure size\n",
    "gdf.plot(\n",
    "    column='Enforcement Actions', \n",
    "    cmap='Blues', \n",
    "    legend=True, \n",
    "    ax=ax,\n",
    "    edgecolor='black',  # Add borders for clarity\n",
    "    linewidth=0.5\n",
    ")\n",
    "ax.set_title('Enforcement Actions by Judicial District', fontsize=14)\n",
    "ax.set_xlim([-130, -65])  # Longitude range for U.S.\n",
    "ax.set_ylim([24, 50])     # Latitude range for U.S.\n",
    "plt.show()"
   ]
  },
  {
   "cell_type": "code",
   "execution_count": null,
   "id": "a728249d-d20d-4b04-bb44-878b5aa7dfd0",
   "metadata": {
    "vscode": {
     "languageId": "quarto"
    }
   },
   "outputs": [
    {
     "data": {
      "image/png": "[encoded data removed]",
      "text/plain": [
       "<Figure size 1200x800 with 2 Axes>"
      ]
     },
     "metadata": {},
     "output_type": "display_data"
    }
   ],
   "source": [
    "ig, ax = plt.subplots(figsize=(12, 8))  # Adjust figure size\n",
    "gdf.plot(\n",
    "    column='Enforcement Actions', \n",
    "    cmap='viridis', \n",
    "    legend=True, \n",
    "    ax=ax,\n",
    "    edgecolor='black',  # Add borders for clarity\n",
    "    linewidth=0.5)\n",
    "ax.set_title('Enforcement Actions by Judicial District', fontsize=14)\n",
    "#Removed Alska as it made the graph look horrible\n",
    "ax.set_xlim([-130, -65])\n",
    "ax.set_ylim([24, 50])\n",
    "plt.show()"
   ]
  }
 ],
 "metadata": {
  "kernelspec": {
   "display_name": "base",
   "language": "python",
   "name": "python3"
  },
  "language_info": {
   "name": "python",
   "version": "3.11.9"
  }
 },
 "nbformat": 4,
 "nbformat_minor": 2
}
